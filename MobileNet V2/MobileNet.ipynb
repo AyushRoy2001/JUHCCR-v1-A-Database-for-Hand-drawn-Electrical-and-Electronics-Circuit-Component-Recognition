{
  "nbformat": 4,
  "nbformat_minor": 0,
  "metadata": {
    "colab": {
      "provenance": []
    },
    "kernelspec": {
      "name": "python3",
      "display_name": "Python 3"
    },
    "language_info": {
      "name": "python"
    }
  },
  "cells": [
    {
      "cell_type": "code",
      "source": [
        "from google.colab import drive\n",
        "drive.mount('/content/drive')"
      ],
      "metadata": {
        "colab": {
          "base_uri": "https://localhost:8080/"
        },
        "id": "pH486IsSxpJG",
        "outputId": "7f13ed9b-55ef-47e4-b182-8f41469bb355"
      },
      "execution_count": 1,
      "outputs": [
        {
          "output_type": "stream",
          "name": "stdout",
          "text": [
            "Mounted at /content/drive\n"
          ]
        }
      ]
    },
    {
      "cell_type": "code",
      "execution_count": 2,
      "metadata": {
        "id": "R3sh79vmFcCu"
      },
      "outputs": [],
      "source": [
        "import numpy as np\n",
        "import tensorflow as tf\n",
        "from tensorflow import keras\n",
        "from tensorflow.keras.layers import Dense, Activation\n",
        "from tensorflow.keras.optimizers import Adam\n",
        "from tensorflow.keras.metrics import categorical_crossentropy\n",
        "from tensorflow.keras.preprocessing.image import ImageDataGenerator\n",
        "from tensorflow.keras.preprocessing import image\n",
        "from tensorflow.keras.models import Model\n",
        "from tensorflow.keras.applications import  imagenet_utils\n",
        "from sklearn.metrics import confusion_matrix\n",
        "import itertools\n",
        "import os\n",
        "import shutil\n",
        "import random\n",
        "import matplotlib.pyplot as plt\n",
        "%matplotlib inline"
      ]
    },
    {
      "cell_type": "code",
      "source": [
        "train_datagen=keras.preprocessing.image.ImageDataGenerator(rescale=1./255,validation_split=0.3)\n",
        "train_dataset=train_datagen.flow_from_directory(directory='/content/drive/MyDrive/data/train/',\n",
        "                                                target_size=(160,160),\n",
        "                                                class_mode='categorical',\n",
        "                                                subset='training',\n",
        "                                                shuffle=True,\n",
        "                                                batch_size=64)\n",
        "validation_dataset=train_datagen.flow_from_directory(directory='/content/drive/MyDrive/data/train/',\n",
        "                                                target_size=(160,160),\n",
        "                                                class_mode='categorical',\n",
        "                                                subset='validation',\n",
        "                                                shuffle=True,\n",
        "                                                batch_size=64)\n",
        "\n",
        "test_datagen=keras.preprocessing.image.ImageDataGenerator(rescale=1./255)\n",
        "test_dataset=test_datagen.flow_from_directory(directory='/content/drive/MyDrive/data/test/',\n",
        "                                                target_size=(160,160),\n",
        "                                                class_mode='categorical',\n",
        "                                                subset='training',\n",
        "                                                shuffle=True,\n",
        "                                                batch_size=64)"
      ],
      "metadata": {
        "colab": {
          "base_uri": "https://localhost:8080/"
        },
        "id": "48eMw9mu5Sqi",
        "outputId": "c634a859-7510-4b6c-939a-442fce852a4c"
      },
      "execution_count": 3,
      "outputs": [
        {
          "output_type": "stream",
          "name": "stdout",
          "text": [
            "Found 4200 images belonging to 20 classes.\n",
            "Found 1800 images belonging to 20 classes.\n",
            "Found 2000 images belonging to 20 classes.\n"
          ]
        }
      ]
    },
    {
      "cell_type": "code",
      "source": [
        "IMG_SHAPE = (160, 160, 3)\n",
        "\n",
        "# Create the base model from the pre-trained model MobileNet V2\n",
        "base_model = tf.keras.applications.MobileNetV2(input_shape=IMG_SHAPE,\n",
        "                                               include_top=False,\n",
        "                                               weights='imagenet')"
      ],
      "metadata": {
        "colab": {
          "base_uri": "https://localhost:8080/"
        },
        "id": "eNXWeCcg7LlC",
        "outputId": "4f5c1f9e-80d6-44cd-fba5-39293a34cfce"
      },
      "execution_count": 4,
      "outputs": [
        {
          "output_type": "stream",
          "name": "stdout",
          "text": [
            "Downloading data from https://storage.googleapis.com/tensorflow/keras-applications/mobilenet_v2/mobilenet_v2_weights_tf_dim_ordering_tf_kernels_1.0_160_no_top.h5\n",
            "9406464/9406464 [==============================] - 0s 0us/step\n"
          ]
        }
      ]
    },
    {
      "cell_type": "code",
      "source": [
        "for layer in base_model.layers[:140]:\n",
        "  layer.trainable=False\n",
        "\n",
        "for i,layer in enumerate(base_model.layers):\n",
        "  print(i,layer.name,'-',layer.trainable)"
      ],
      "metadata": {
        "colab": {
          "base_uri": "https://localhost:8080/"
        },
        "id": "HPDMQbmmEDwM",
        "outputId": "cbeeb121-bbd5-42b1-bc70-580e6603a7a0"
      },
      "execution_count": 5,
      "outputs": [
        {
          "output_type": "stream",
          "name": "stdout",
          "text": [
            "0 input_1 - False\n",
            "1 Conv1 - False\n",
            "2 bn_Conv1 - False\n",
            "3 Conv1_relu - False\n",
            "4 expanded_conv_depthwise - False\n",
            "5 expanded_conv_depthwise_BN - False\n",
            "6 expanded_conv_depthwise_relu - False\n",
            "7 expanded_conv_project - False\n",
            "8 expanded_conv_project_BN - False\n",
            "9 block_1_expand - False\n",
            "10 block_1_expand_BN - False\n",
            "11 block_1_expand_relu - False\n",
            "12 block_1_pad - False\n",
            "13 block_1_depthwise - False\n",
            "14 block_1_depthwise_BN - False\n",
            "15 block_1_depthwise_relu - False\n",
            "16 block_1_project - False\n",
            "17 block_1_project_BN - False\n",
            "18 block_2_expand - False\n",
            "19 block_2_expand_BN - False\n",
            "20 block_2_expand_relu - False\n",
            "21 block_2_depthwise - False\n",
            "22 block_2_depthwise_BN - False\n",
            "23 block_2_depthwise_relu - False\n",
            "24 block_2_project - False\n",
            "25 block_2_project_BN - False\n",
            "26 block_2_add - False\n",
            "27 block_3_expand - False\n",
            "28 block_3_expand_BN - False\n",
            "29 block_3_expand_relu - False\n",
            "30 block_3_pad - False\n",
            "31 block_3_depthwise - False\n",
            "32 block_3_depthwise_BN - False\n",
            "33 block_3_depthwise_relu - False\n",
            "34 block_3_project - False\n",
            "35 block_3_project_BN - False\n",
            "36 block_4_expand - False\n",
            "37 block_4_expand_BN - False\n",
            "38 block_4_expand_relu - False\n",
            "39 block_4_depthwise - False\n",
            "40 block_4_depthwise_BN - False\n",
            "41 block_4_depthwise_relu - False\n",
            "42 block_4_project - False\n",
            "43 block_4_project_BN - False\n",
            "44 block_4_add - False\n",
            "45 block_5_expand - False\n",
            "46 block_5_expand_BN - False\n",
            "47 block_5_expand_relu - False\n",
            "48 block_5_depthwise - False\n",
            "49 block_5_depthwise_BN - False\n",
            "50 block_5_depthwise_relu - False\n",
            "51 block_5_project - False\n",
            "52 block_5_project_BN - False\n",
            "53 block_5_add - False\n",
            "54 block_6_expand - False\n",
            "55 block_6_expand_BN - False\n",
            "56 block_6_expand_relu - False\n",
            "57 block_6_pad - False\n",
            "58 block_6_depthwise - False\n",
            "59 block_6_depthwise_BN - False\n",
            "60 block_6_depthwise_relu - False\n",
            "61 block_6_project - False\n",
            "62 block_6_project_BN - False\n",
            "63 block_7_expand - False\n",
            "64 block_7_expand_BN - False\n",
            "65 block_7_expand_relu - False\n",
            "66 block_7_depthwise - False\n",
            "67 block_7_depthwise_BN - False\n",
            "68 block_7_depthwise_relu - False\n",
            "69 block_7_project - False\n",
            "70 block_7_project_BN - False\n",
            "71 block_7_add - False\n",
            "72 block_8_expand - False\n",
            "73 block_8_expand_BN - False\n",
            "74 block_8_expand_relu - False\n",
            "75 block_8_depthwise - False\n",
            "76 block_8_depthwise_BN - False\n",
            "77 block_8_depthwise_relu - False\n",
            "78 block_8_project - False\n",
            "79 block_8_project_BN - False\n",
            "80 block_8_add - False\n",
            "81 block_9_expand - False\n",
            "82 block_9_expand_BN - False\n",
            "83 block_9_expand_relu - False\n",
            "84 block_9_depthwise - False\n",
            "85 block_9_depthwise_BN - False\n",
            "86 block_9_depthwise_relu - False\n",
            "87 block_9_project - False\n",
            "88 block_9_project_BN - False\n",
            "89 block_9_add - False\n",
            "90 block_10_expand - False\n",
            "91 block_10_expand_BN - False\n",
            "92 block_10_expand_relu - False\n",
            "93 block_10_depthwise - False\n",
            "94 block_10_depthwise_BN - False\n",
            "95 block_10_depthwise_relu - False\n",
            "96 block_10_project - False\n",
            "97 block_10_project_BN - False\n",
            "98 block_11_expand - False\n",
            "99 block_11_expand_BN - False\n",
            "100 block_11_expand_relu - False\n",
            "101 block_11_depthwise - False\n",
            "102 block_11_depthwise_BN - False\n",
            "103 block_11_depthwise_relu - False\n",
            "104 block_11_project - False\n",
            "105 block_11_project_BN - False\n",
            "106 block_11_add - False\n",
            "107 block_12_expand - False\n",
            "108 block_12_expand_BN - False\n",
            "109 block_12_expand_relu - False\n",
            "110 block_12_depthwise - False\n",
            "111 block_12_depthwise_BN - False\n",
            "112 block_12_depthwise_relu - False\n",
            "113 block_12_project - False\n",
            "114 block_12_project_BN - False\n",
            "115 block_12_add - False\n",
            "116 block_13_expand - False\n",
            "117 block_13_expand_BN - False\n",
            "118 block_13_expand_relu - False\n",
            "119 block_13_pad - False\n",
            "120 block_13_depthwise - False\n",
            "121 block_13_depthwise_BN - False\n",
            "122 block_13_depthwise_relu - False\n",
            "123 block_13_project - False\n",
            "124 block_13_project_BN - False\n",
            "125 block_14_expand - False\n",
            "126 block_14_expand_BN - False\n",
            "127 block_14_expand_relu - False\n",
            "128 block_14_depthwise - False\n",
            "129 block_14_depthwise_BN - False\n",
            "130 block_14_depthwise_relu - False\n",
            "131 block_14_project - False\n",
            "132 block_14_project_BN - False\n",
            "133 block_14_add - False\n",
            "134 block_15_expand - False\n",
            "135 block_15_expand_BN - False\n",
            "136 block_15_expand_relu - False\n",
            "137 block_15_depthwise - False\n",
            "138 block_15_depthwise_BN - False\n",
            "139 block_15_depthwise_relu - False\n",
            "140 block_15_project - True\n",
            "141 block_15_project_BN - True\n",
            "142 block_15_add - True\n",
            "143 block_16_expand - True\n",
            "144 block_16_expand_BN - True\n",
            "145 block_16_expand_relu - True\n",
            "146 block_16_depthwise - True\n",
            "147 block_16_depthwise_BN - True\n",
            "148 block_16_depthwise_relu - True\n",
            "149 block_16_project - True\n",
            "150 block_16_project_BN - True\n",
            "151 Conv_1 - True\n",
            "152 Conv_1_bn - True\n",
            "153 out_relu - True\n"
          ]
        }
      ]
    },
    {
      "cell_type": "code",
      "source": [
        "global_average_layer = tf.keras.layers.GlobalAveragePooling2D()\n",
        "prediction_layer = tf.keras.layers.Dense(20, activation='softmax')"
      ],
      "metadata": {
        "id": "Q6v6bPfI8912"
      },
      "execution_count": 6,
      "outputs": []
    },
    {
      "cell_type": "code",
      "source": [
        "model = tf.keras.Sequential([\n",
        "  base_model,\n",
        "  global_average_layer,\n",
        "  prediction_layer\n",
        "])\n",
        "\n",
        "base_learning_rate = 0.0001\n",
        "model.compile(optimizer=tf.keras.optimizers.Adam(learning_rate=base_learning_rate),\n",
        "              loss=tf.keras.losses.CategoricalCrossentropy(from_logits=True),\n",
        "              metrics=['accuracy',keras.metrics.Recall(name='recall'),keras.metrics.Precision(name='precision'),keras.metrics.AUC(name='auc')])"
      ],
      "metadata": {
        "id": "RlR8eUcU9BVi"
      },
      "execution_count": 7,
      "outputs": []
    },
    {
      "cell_type": "code",
      "source": [
        "model.summary()"
      ],
      "metadata": {
        "colab": {
          "base_uri": "https://localhost:8080/"
        },
        "id": "CIIw0qXED0AU",
        "outputId": "8e46ed12-6746-4cd4-a975-7c91cfcdd5fb"
      },
      "execution_count": 8,
      "outputs": [
        {
          "output_type": "stream",
          "name": "stdout",
          "text": [
            "Model: \"sequential\"\n",
            "_________________________________________________________________\n",
            " Layer (type)                Output Shape              Param #   \n",
            "=================================================================\n",
            " mobilenetv2_1.00_160 (Funct  (None, 5, 5, 1280)       2257984   \n",
            " ional)                                                          \n",
            "                                                                 \n",
            " global_average_pooling2d (G  (None, 1280)             0         \n",
            " lobalAveragePooling2D)                                          \n",
            "                                                                 \n",
            " dense (Dense)               (None, 20)                25620     \n",
            "                                                                 \n",
            "=================================================================\n",
            "Total params: 2,283,604\n",
            "Trainable params: 1,065,620\n",
            "Non-trainable params: 1,217,984\n",
            "_________________________________________________________________\n"
          ]
        }
      ]
    },
    {
      "cell_type": "code",
      "source": [
        "validation_steps=20\n",
        "initial_epochs = 25"
      ],
      "metadata": {
        "id": "QkbkuMst9GpK"
      },
      "execution_count": 9,
      "outputs": []
    },
    {
      "cell_type": "code",
      "source": [
        "checkpoint_filepath = '/content/drive/MyDrive/data/'\n",
        "model_checkpoint_callback = keras.callbacks.ModelCheckpoint(\n",
        "    filepath=checkpoint_filepath,\n",
        "    save_weights_only=True,\n",
        "    monitor='val_accuracy',\n",
        "    mode='max',\n",
        "    save_best_only=True)"
      ],
      "metadata": {
        "id": "hmAgQOmzvGeE"
      },
      "execution_count": 10,
      "outputs": []
    },
    {
      "cell_type": "code",
      "source": [
        "history = model.fit(train_dataset,\n",
        "                    epochs=initial_epochs,\n",
        "                    validation_data=validation_dataset,verbose=1,shuffle=True)"
      ],
      "metadata": {
        "colab": {
          "base_uri": "https://localhost:8080/"
        },
        "id": "f5M4RXNJ9Tda",
        "outputId": "2d811fa5-0d1b-4e3b-97cc-cc87dfb67d9e"
      },
      "execution_count": 11,
      "outputs": [
        {
          "output_type": "stream",
          "name": "stdout",
          "text": [
            "Epoch 1/25\n"
          ]
        },
        {
          "output_type": "stream",
          "name": "stderr",
          "text": [
            "/usr/local/lib/python3.8/dist-packages/tensorflow/python/util/dispatch.py:1082: UserWarning: \"`categorical_crossentropy` received `from_logits=True`, but the `output` argument was produced by a sigmoid or softmax activation and thus does not represent logits. Was this intended?\"\n",
            "  return dispatch_target(*args, **kwargs)\n"
          ]
        },
        {
          "output_type": "stream",
          "name": "stdout",
          "text": [
            "66/66 [==============================] - 1457s 22s/step - loss: 1.0974 - accuracy: 0.6888 - recall: 0.4595 - precision: 0.9182 - auc: 0.9684 - val_loss: 1.5540 - val_accuracy: 0.4611 - val_recall: 0.2717 - val_precision: 0.6000 - val_auc: 0.9317\n",
            "Epoch 2/25\n",
            "66/66 [==============================] - 111s 2s/step - loss: 0.2712 - accuracy: 0.9381 - recall: 0.8929 - precision: 0.9610 - auc: 0.9990 - val_loss: 1.1449 - val_accuracy: 0.6078 - val_recall: 0.4367 - val_precision: 0.7285 - val_auc: 0.9632\n",
            "Epoch 3/25\n",
            "66/66 [==============================] - 111s 2s/step - loss: 0.1410 - accuracy: 0.9795 - recall: 0.9645 - precision: 0.9854 - auc: 0.9998 - val_loss: 0.8962 - val_accuracy: 0.7039 - val_recall: 0.5761 - val_precision: 0.8020 - val_auc: 0.9765\n",
            "Epoch 4/25\n",
            "66/66 [==============================] - 113s 2s/step - loss: 0.0861 - accuracy: 0.9907 - recall: 0.9848 - precision: 0.9942 - auc: 1.0000 - val_loss: 0.7797 - val_accuracy: 0.7389 - val_recall: 0.6489 - val_precision: 0.8168 - val_auc: 0.9822\n",
            "Epoch 5/25\n",
            "66/66 [==============================] - 111s 2s/step - loss: 0.0553 - accuracy: 0.9948 - recall: 0.9912 - precision: 0.9957 - auc: 1.0000 - val_loss: 0.7170 - val_accuracy: 0.7589 - val_recall: 0.6861 - val_precision: 0.8228 - val_auc: 0.9844\n",
            "Epoch 6/25\n",
            "66/66 [==============================] - 117s 2s/step - loss: 0.0365 - accuracy: 0.9988 - recall: 0.9983 - precision: 0.9990 - auc: 1.0000 - val_loss: 0.6618 - val_accuracy: 0.7789 - val_recall: 0.7211 - val_precision: 0.8331 - val_auc: 0.9864\n",
            "Epoch 7/25\n",
            "66/66 [==============================] - 113s 2s/step - loss: 0.0243 - accuracy: 0.9995 - recall: 0.9990 - precision: 1.0000 - auc: 1.0000 - val_loss: 0.5723 - val_accuracy: 0.8089 - val_recall: 0.7628 - val_precision: 0.8496 - val_auc: 0.9898\n",
            "Epoch 8/25\n",
            "66/66 [==============================] - 114s 2s/step - loss: 0.0186 - accuracy: 0.9990 - recall: 0.9990 - precision: 0.9990 - auc: 1.0000 - val_loss: 0.5247 - val_accuracy: 0.8256 - val_recall: 0.7817 - val_precision: 0.8553 - val_auc: 0.9915\n",
            "Epoch 9/25\n",
            "66/66 [==============================] - 112s 2s/step - loss: 0.0149 - accuracy: 0.9995 - recall: 0.9995 - precision: 0.9995 - auc: 1.0000 - val_loss: 0.5024 - val_accuracy: 0.8300 - val_recall: 0.8044 - val_precision: 0.8634 - val_auc: 0.9918\n",
            "Epoch 10/25\n",
            "66/66 [==============================] - 113s 2s/step - loss: 0.0122 - accuracy: 0.9998 - recall: 0.9998 - precision: 0.9998 - auc: 1.0000 - val_loss: 0.5060 - val_accuracy: 0.8322 - val_recall: 0.8067 - val_precision: 0.8576 - val_auc: 0.9899\n",
            "Epoch 11/25\n",
            "66/66 [==============================] - 116s 2s/step - loss: 0.0096 - accuracy: 0.9995 - recall: 0.9995 - precision: 0.9995 - auc: 1.0000 - val_loss: 0.4621 - val_accuracy: 0.8450 - val_recall: 0.8200 - val_precision: 0.8621 - val_auc: 0.9918\n",
            "Epoch 12/25\n",
            "66/66 [==============================] - 113s 2s/step - loss: 0.0076 - accuracy: 1.0000 - recall: 1.0000 - precision: 1.0000 - auc: 1.0000 - val_loss: 0.4331 - val_accuracy: 0.8561 - val_recall: 0.8333 - val_precision: 0.8716 - val_auc: 0.9925\n",
            "Epoch 13/25\n",
            "66/66 [==============================] - 115s 2s/step - loss: 0.0070 - accuracy: 0.9998 - recall: 0.9998 - precision: 0.9998 - auc: 1.0000 - val_loss: 0.4260 - val_accuracy: 0.8589 - val_recall: 0.8433 - val_precision: 0.8749 - val_auc: 0.9919\n",
            "Epoch 14/25\n",
            "66/66 [==============================] - 113s 2s/step - loss: 0.0061 - accuracy: 0.9998 - recall: 0.9998 - precision: 0.9998 - auc: 1.0000 - val_loss: 0.4000 - val_accuracy: 0.8661 - val_recall: 0.8522 - val_precision: 0.8811 - val_auc: 0.9930\n",
            "Epoch 15/25\n",
            "66/66 [==============================] - 115s 2s/step - loss: 0.0056 - accuracy: 0.9998 - recall: 0.9998 - precision: 0.9998 - auc: 1.0000 - val_loss: 0.3826 - val_accuracy: 0.8739 - val_recall: 0.8617 - val_precision: 0.8888 - val_auc: 0.9928\n",
            "Epoch 16/25\n",
            "66/66 [==============================] - 117s 2s/step - loss: 0.0052 - accuracy: 0.9998 - recall: 0.9998 - precision: 0.9998 - auc: 1.0000 - val_loss: 0.3365 - val_accuracy: 0.8883 - val_recall: 0.8761 - val_precision: 0.9011 - val_auc: 0.9950\n",
            "Epoch 17/25\n",
            "66/66 [==============================] - 116s 2s/step - loss: 0.0040 - accuracy: 1.0000 - recall: 1.0000 - precision: 1.0000 - auc: 1.0000 - val_loss: 0.3304 - val_accuracy: 0.8911 - val_recall: 0.8800 - val_precision: 0.9026 - val_auc: 0.9951\n",
            "Epoch 18/25\n",
            "66/66 [==============================] - 114s 2s/step - loss: 0.0031 - accuracy: 1.0000 - recall: 1.0000 - precision: 1.0000 - auc: 1.0000 - val_loss: 0.3238 - val_accuracy: 0.8933 - val_recall: 0.8839 - val_precision: 0.9055 - val_auc: 0.9952\n",
            "Epoch 19/25\n",
            "66/66 [==============================] - 115s 2s/step - loss: 0.0030 - accuracy: 1.0000 - recall: 1.0000 - precision: 1.0000 - auc: 1.0000 - val_loss: 0.3025 - val_accuracy: 0.8978 - val_recall: 0.8894 - val_precision: 0.9102 - val_auc: 0.9956\n",
            "Epoch 20/25\n",
            "66/66 [==============================] - 114s 2s/step - loss: 0.0026 - accuracy: 1.0000 - recall: 1.0000 - precision: 1.0000 - auc: 1.0000 - val_loss: 0.3037 - val_accuracy: 0.9006 - val_recall: 0.8911 - val_precision: 0.9108 - val_auc: 0.9956\n",
            "Epoch 21/25\n",
            "66/66 [==============================] - 120s 2s/step - loss: 0.0024 - accuracy: 1.0000 - recall: 1.0000 - precision: 1.0000 - auc: 1.0000 - val_loss: 0.3006 - val_accuracy: 0.9044 - val_recall: 0.8939 - val_precision: 0.9121 - val_auc: 0.9949\n",
            "Epoch 22/25\n",
            "66/66 [==============================] - 114s 2s/step - loss: 0.0021 - accuracy: 1.0000 - recall: 1.0000 - precision: 1.0000 - auc: 1.0000 - val_loss: 0.2947 - val_accuracy: 0.9061 - val_recall: 0.8961 - val_precision: 0.9160 - val_auc: 0.9952\n",
            "Epoch 23/25\n",
            "66/66 [==============================] - 114s 2s/step - loss: 0.0018 - accuracy: 1.0000 - recall: 1.0000 - precision: 1.0000 - auc: 1.0000 - val_loss: 0.2934 - val_accuracy: 0.9067 - val_recall: 0.8956 - val_precision: 0.9138 - val_auc: 0.9950\n",
            "Epoch 24/25\n",
            "66/66 [==============================] - 116s 2s/step - loss: 0.0017 - accuracy: 1.0000 - recall: 1.0000 - precision: 1.0000 - auc: 1.0000 - val_loss: 0.2908 - val_accuracy: 0.9078 - val_recall: 0.8978 - val_precision: 0.9151 - val_auc: 0.9948\n",
            "Epoch 25/25\n",
            "66/66 [==============================] - 114s 2s/step - loss: 0.0017 - accuracy: 1.0000 - recall: 1.0000 - precision: 1.0000 - auc: 1.0000 - val_loss: 0.2713 - val_accuracy: 0.9128 - val_recall: 0.9050 - val_precision: 0.9198 - val_auc: 0.9950\n"
          ]
        }
      ]
    },
    {
      "cell_type": "code",
      "source": [
        "def Train_Val_Plot(acc,val_acc,loss,val_loss,auc,val_auc,precision,val_precision):\n",
        "    \n",
        "    fig, (ax1, ax2,ax3,ax4) = plt.subplots(1,4, figsize= (20,5))\n",
        "    fig.suptitle(\" MODEL'S METRICS VISUALIZATION \")\n",
        "\n",
        "    ax1.plot(range(1, len(acc) + 1), acc)\n",
        "    ax1.plot(range(1, len(val_acc) + 1), val_acc)\n",
        "    ax1.set_title('History of Accuracy')\n",
        "    ax1.set_xlabel('Epochs')\n",
        "    ax1.set_ylabel('Accuracy')\n",
        "    ax1.legend(['training', 'validation'])\n",
        "\n",
        "\n",
        "    ax2.plot(range(1, len(loss) + 1), loss)\n",
        "    ax2.plot(range(1, len(val_loss) + 1), val_loss)\n",
        "    ax2.set_title('History of Loss')\n",
        "    ax2.set_xlabel('Epochs')\n",
        "    ax2.set_ylabel('Loss')\n",
        "    ax2.legend(['training', 'validation'])\n",
        "    \n",
        "    ax3.plot(range(1, len(auc) + 1), auc)\n",
        "    ax3.plot(range(1, len(val_auc) + 1), val_auc)\n",
        "    ax3.set_title('History of AUC')\n",
        "    ax3.set_xlabel('Epochs')\n",
        "    ax3.set_ylabel('AUC')\n",
        "    ax3.legend(['training', 'validation'])\n",
        "    \n",
        "    ax4.plot(range(1, len(precision) + 1), precision)\n",
        "    ax4.plot(range(1, len(val_precision) + 1), val_precision)\n",
        "    ax4.set_title('History of Precision')\n",
        "    ax4.set_xlabel('Epochs')\n",
        "    ax4.set_ylabel('Precision')\n",
        "    ax4.legend(['training', 'validation'])\n",
        "\n",
        "    plt.show()\n",
        "    \n",
        "\n",
        "Train_Val_Plot(history.history['accuracy'],history.history['val_accuracy'],\n",
        "               history.history['loss'],history.history['val_loss'],\n",
        "               history.history['auc'],history.history['val_auc'],\n",
        "               history.history['precision'],history.history['val_precision'],\n",
        "              )"
      ],
      "metadata": {
        "colab": {
          "base_uri": "https://localhost:8080/",
          "height": 354
        },
        "id": "xrYntJtXw_1V",
        "outputId": "be65b830-c1d3-40fe-fb00-bb118ac6eefc"
      },
      "execution_count": 12,
      "outputs": [
        {
          "output_type": "display_data",
          "data": {
            "text/plain": [
              "<Figure size 1440x360 with 4 Axes>"
            ],
            "image/png": "[encoded data removed]"
          },
          "metadata": {
            "needs_background": "light"
          }
        }
      ]
    },
    {
      "cell_type": "code",
      "source": [
        "model.save(\"mobilenetv2.hdf5\")"
      ],
      "metadata": {
        "id": "7TPiWOoKrVNj"
      },
      "execution_count": 13,
      "outputs": []
    },
    {
      "cell_type": "code",
      "source": [
        "model = keras.models.load_model(\"mobilenetv2.hdf5\")\n",
        "model.evaluate(test_dataset)"
      ],
      "metadata": {
        "colab": {
          "base_uri": "https://localhost:8080/"
        },
        "id": "nvEF2qwowDy6",
        "outputId": "17890fe0-7e74-41fb-8133-c143855ebdf7"
      },
      "execution_count": 14,
      "outputs": [
        {
          "output_type": "stream",
          "name": "stderr",
          "text": [
            "/usr/local/lib/python3.8/dist-packages/tensorflow/python/util/dispatch.py:1082: UserWarning: \"`categorical_crossentropy` received `from_logits=True`, but the `output` argument was produced by a sigmoid or softmax activation and thus does not represent logits. Was this intended?\"\n",
            "  return dispatch_target(*args, **kwargs)\n"
          ]
        },
        {
          "output_type": "stream",
          "name": "stdout",
          "text": [
            "32/32 [==============================] - 478s 15s/step - loss: 0.2983 - accuracy: 0.9030 - recall: 0.8885 - precision: 0.9165 - auc: 0.9946\n"
          ]
        },
        {
          "output_type": "execute_result",
          "data": {
            "text/plain": [
              "[0.29833799600601196,\n",
              " 0.902999997138977,\n",
              " 0.8884999752044678,\n",
              " 0.9164517521858215,\n",
              " 0.994634211063385]"
            ]
          },
          "metadata": {},
          "execution_count": 14
        }
      ]
    },
    {
      "cell_type": "code",
      "source": [
        "from sklearn.metrics import classification_report, confusion_matrix, ConfusionMatrixDisplay\n",
        "Y_pred = model.predict_generator(test_dataset, 1157)\n",
        "y_pred = np.argmax(Y_pred, axis=1)\n",
        "print('Confusion Matrix')\n",
        "disp = ConfusionMatrixDisplay(confusion_matrix(test_dataset.classes, y_pred),display_labels=['1','2','3','4','5','6','7','8','9','10','11','12','13','14','15','16','17','18','19','20'])\n",
        "disp.plot()\n",
        "plt.show()\n",
        "print('Classification Report')\n",
        "target_names = ['1','2','3','4','5','6','7','8','9','10','11','12','13','14','15','16','17','18','19','20']\n",
        "print(classification_report(test_dataset.classes, y_pred, target_names=target_names))"
      ],
      "metadata": {
        "colab": {
          "base_uri": "https://localhost:8080/",
          "height": 854
        },
        "id": "zkKEQDs3A-74",
        "outputId": "f4b07c12-d9e2-43a1-a2ea-5ea85d9de064"
      },
      "execution_count": 16,
      "outputs": [
        {
          "output_type": "stream",
          "name": "stderr",
          "text": [
            "<ipython-input-16-76787b75b307>:2: UserWarning: `Model.predict_generator` is deprecated and will be removed in a future version. Please use `Model.predict`, which supports generators.\n",
            "  Y_pred = model.predict_generator(test_dataset, 1157)\n",
            "WARNING:tensorflow:Your input ran out of data; interrupting training. Make sure that your dataset or generator can generate at least `steps_per_epoch * epochs` batches (in this case, 1157 batches). You may need to use the repeat() function when building your dataset.\n"
          ]
        },
        {
          "output_type": "stream",
          "name": "stdout",
          "text": [
            "Confusion Matrix\n"
          ]
        },
        {
          "output_type": "display_data",
          "data": {
            "text/plain": [
              "<Figure size 432x288 with 2 Axes>"
            ],
            "image/png": "[encoded data removed]"
          },
          "metadata": {
            "needs_background": "light"
          }
        },
        {
          "output_type": "stream",
          "name": "stdout",
          "text": [
            "Classification Report\n",
            "              precision    recall  f1-score   support\n",
            "\n",
            "           1       0.04      0.02      0.03       100\n",
            "           2       0.07      0.07      0.07       100\n",
            "           3       0.03      0.03      0.03       100\n",
            "           4       0.04      0.03      0.03       100\n",
            "           5       0.03      0.03      0.03       100\n",
            "           6       0.08      0.08      0.08       100\n",
            "           7       0.10      0.10      0.10       100\n",
            "           8       0.04      0.04      0.04       100\n",
            "           9       0.04      0.04      0.04       100\n",
            "          10       0.08      0.08      0.08       100\n",
            "          11       0.05      0.05      0.05       100\n",
            "          12       0.05      0.07      0.06       100\n",
            "          13       0.05      0.05      0.05       100\n",
            "          14       0.04      0.05      0.05       100\n",
            "          15       0.05      0.05      0.05       100\n",
            "          16       0.04      0.04      0.04       100\n",
            "          17       0.05      0.05      0.05       100\n",
            "          18       0.09      0.09      0.09       100\n",
            "          19       0.08      0.06      0.07       100\n",
            "          20       0.04      0.05      0.05       100\n",
            "\n",
            "    accuracy                           0.05      2000\n",
            "   macro avg       0.05      0.05      0.05      2000\n",
            "weighted avg       0.05      0.05      0.05      2000\n",
            "\n"
          ]
        }
      ]
    },
    {
      "cell_type": "code",
      "source": [],
      "metadata": {
        "id": "JyZ-VDfFEdO6"
      },
      "execution_count": null,
      "outputs": []
    }
  ]
}