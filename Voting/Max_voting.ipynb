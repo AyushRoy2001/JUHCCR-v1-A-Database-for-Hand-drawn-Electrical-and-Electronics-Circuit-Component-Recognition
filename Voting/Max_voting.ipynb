{
 "cells": [
  {
   "cell_type": "code",
   "execution_count": 1,
   "id": "9b8604b4",
   "metadata": {},
   "outputs": [],
   "source": [
    "import cv2\n",
    "import numpy as np\n",
    "import pandas as pd\n",
    "import os\n",
    "%matplotlib inline\n",
    "import matplotlib.pyplot as plt\n",
    "import matplotlib.image as mpimg\n",
    "import tensorflow.keras as K\n",
    "import tensorflow.keras.backend as Kback\n",
    "from sklearn.metrics import classification_report, confusion_matrix, ConfusionMatrixDisplay\n",
    "import tensorflow as tf"
   ]
  },
  {
   "cell_type": "markdown",
   "id": "b2861f52",
   "metadata": {},
   "source": [
    "# Loading dataset for testing"
   ]
  },
  {
   "cell_type": "code",
   "execution_count": 2,
   "id": "b953655f",
   "metadata": {},
   "outputs": [
    {
     "name": "stdout",
     "output_type": "stream",
     "text": [
      "Found 2000 images belonging to 20 classes.\n"
     ]
    }
   ],
   "source": [
    "test_datagen = K.preprocessing.image.ImageDataGenerator(rescale = 1./255)   \n",
    "\n",
    "test_dataset  = test_datagen.flow_from_directory(directory = 'D:/RESEARCH/Circuit component recognition/test',\n",
    "                                                   target_size = (160,160),\n",
    "                                                   class_mode = 'categorical',\n",
    "                                                   subset = 'training',\n",
    "                                                   shuffle=False,\n",
    "                                                   batch_size = 64)"
   ]
  },
  {
   "cell_type": "markdown",
   "id": "89285025",
   "metadata": {},
   "source": [
    "# The three best models for voting (snapshot 1,2 and DenseNet121_CBAM)"
   ]
  },
  {
   "cell_type": "code",
   "execution_count": 3,
   "id": "9638698c",
   "metadata": {},
   "outputs": [],
   "source": [
    "def f1_score(y_true, y_pred): #taken from old keras source code\n",
    "    true_positives = Kback.sum(Kback.round(Kback.clip(y_true * y_pred, 0, 1)))\n",
    "    possible_positives = Kback.sum(Kback.round(Kback.clip(y_true, 0, 1)))\n",
    "    predicted_positives = Kback.sum(Kback.round(Kback.clip(y_pred, 0, 1)))\n",
    "    precision = true_positives / (predicted_positives + Kback.epsilon())\n",
    "    recall = true_positives / (possible_positives + Kback.epsilon())\n",
    "    f1_val = 2*(precision*recall)/(precision+recall+Kback.epsilon())\n",
    "    return f1_val\n",
    "\n",
    "model0 = K.models.load_model(\"densenet121_cbam.hdf5\", custom_objects={\"f1_score\": f1_score})\n",
    "model1 = K.models.load_model(\"snapshot_model_1.h5\", custom_objects={\"f1_score\": f1_score})\n",
    "model2 = K.models.load_model(\"snapshot_model_2.h5\", custom_objects={\"f1_score\": f1_score})"
   ]
  },
  {
   "cell_type": "code",
   "execution_count": 4,
   "id": "5514ca08",
   "metadata": {},
   "outputs": [
    {
     "name": "stderr",
     "output_type": "stream",
     "text": [
      "C:\\Users\\aroy8\\AppData\\Local\\Temp/ipykernel_2656/157313006.py:4: UserWarning: `Model.predict_generator` is deprecated and will be removed in a future version. Please use `Model.predict`, which supports generators.\n",
      "  Y_pred = model0.predict_generator(test_dataset, 1157)\n",
      "Your input ran out of data; interrupting training. Make sure that your dataset or generator can generate at least `steps_per_epoch * epochs` batches (in this case, 1157 batches). You may need to use the repeat() function when building your dataset.\n",
      "C:\\Users\\aroy8\\AppData\\Local\\Temp/ipykernel_2656/157313006.py:8: UserWarning: `Model.predict_generator` is deprecated and will be removed in a future version. Please use `Model.predict`, which supports generators.\n",
      "  Y_pred = model0.predict_generator(test_dataset, 1157)\n",
      "Your input ran out of data; interrupting training. Make sure that your dataset or generator can generate at least `steps_per_epoch * epochs` batches (in this case, 1157 batches). You may need to use the repeat() function when building your dataset.\n",
      "C:\\Users\\aroy8\\AppData\\Local\\Temp/ipykernel_2656/157313006.py:12: UserWarning: `Model.predict_generator` is deprecated and will be removed in a future version. Please use `Model.predict`, which supports generators.\n",
      "  Y_pred = model0.predict_generator(test_dataset, 1157)\n",
      "Your input ran out of data; interrupting training. Make sure that your dataset or generator can generate at least `steps_per_epoch * epochs` batches (in this case, 1157 batches). You may need to use the repeat() function when building your dataset.\n"
     ]
    }
   ],
   "source": [
    "y_label = np.asarray(test_dataset.classes)\n",
    "y_label = y_label.astype('int')\n",
    "\n",
    "Y_pred = model0.predict_generator(test_dataset, 1157)\n",
    "y_pred_0 = np.argmax(Y_pred, axis=1)\n",
    "y_pred_0 = y_pred_0.astype('int')\n",
    "\n",
    "Y_pred = model0.predict_generator(test_dataset, 1157)\n",
    "y_pred_1 = np.argmax(Y_pred, axis=1)\n",
    "y_pred_1 = y_pred_1.astype('int')\n",
    "\n",
    "Y_pred = model0.predict_generator(test_dataset, 1157)\n",
    "y_pred_2 = np.argmax(Y_pred, axis=1)\n",
    "y_pred_2 = y_pred_2.astype('int')"
   ]
  },
  {
   "cell_type": "code",
   "execution_count": 16,
   "id": "9a1929b3",
   "metadata": {},
   "outputs": [],
   "source": [
    "def voting_max(arr1,arr2,arr3):\n",
    "    arr = []\n",
    "    for i in range(0,2000):\n",
    "        if arr1[i] == arr2[i] or arr1[i] == arr3[i] or arr1[i] == arr2[i] == arr3[i]:\n",
    "            arr.append(arr1[i])\n",
    "        elif arr2[i] == arr3[i]:\n",
    "            arr.append(arr2[i])\n",
    "#         else:\n",
    "#             arr.append(arr1[i])\n",
    "    arr = np.asarray(arr)\n",
    "    arr = arr.astype('int')\n",
    "    return arr"
   ]
  },
  {
   "cell_type": "code",
   "execution_count": 17,
   "id": "4f3fbe73",
   "metadata": {},
   "outputs": [
    {
     "name": "stdout",
     "output_type": "stream",
     "text": [
      "[ 0  0  0 ...  3 19 19]\n"
     ]
    }
   ],
   "source": [
    "y_pred = voting_max(y_pred_0, y_pred_1, y_pred_2)\n",
    "print(y_pred)"
   ]
  },
  {
   "cell_type": "markdown",
   "id": "fa00b9ae",
   "metadata": {},
   "source": [
    "# Metrics of the voting "
   ]
  },
  {
   "cell_type": "code",
   "execution_count": 18,
   "id": "921d9b64",
   "metadata": {},
   "outputs": [
    {
     "name": "stdout",
     "output_type": "stream",
     "text": [
      "Testing accuracy:\n",
      "0.901\n",
      "Testing F1-score\n",
      "0.8992955425434784\n",
      "Testing Precision:\n",
      "0.9107212587091904\n",
      "Testing Recall:\n",
      "0.901\n"
     ]
    }
   ],
   "source": [
    "#Making the Confusion Matrix\n",
    "cm = confusion_matrix(y_label, y_pred)\n",
    "disp = ConfusionMatrixDisplay(cm,display_labels=['1','2','3','4','5','6','7','8','9','10','11','12','13','14','15','16','17','18','19','20'])\n",
    "\n",
    "#Accuracy\n",
    "from sklearn.metrics import accuracy_score\n",
    "print(\"Testing accuracy:\")\n",
    "print(accuracy_score(y_label, y_pred))\n",
    "#F1_score\n",
    "from sklearn.metrics import f1_score\n",
    "print(\"Testing F1-score\")\n",
    "print(f1_score(y_label, y_pred, average = 'macro'))\n",
    "#Precision\n",
    "from sklearn.metrics import precision_score\n",
    "print(\"Testing Precision:\")\n",
    "print(precision_score(y_label, y_pred, average = 'macro'))\n",
    "#Recall\n",
    "from sklearn.metrics import recall_score\n",
    "print(\"Testing Recall:\")\n",
    "print(recall_score(y_label, y_pred, average = 'macro'))"
   ]
  },
  {
   "cell_type": "code",
   "execution_count": 20,
   "id": "6585e0c3",
   "metadata": {},
   "outputs": [
    {
     "data": {
      "text/plain": [
       "<sklearn.metrics._plot.confusion_matrix.ConfusionMatrixDisplay at 0x254aa136b80>"
      ]
     },
     "execution_count": 20,
     "metadata": {},
     "output_type": "execute_result"
    },
    {
     "data": {
      "image/png": "[encoded data removed]",
      "text/plain": [
       "<Figure size 432x288 with 2 Axes>"
      ]
     },
     "metadata": {
      "needs_background": "light"
     },
     "output_type": "display_data"
    }
   ],
   "source": [
    "disp.plot()"
   ]
  }
 ],
 "metadata": {
  "kernelspec": {
   "display_name": "Python 3 (ipykernel)",
   "language": "python",
   "name": "python3"
  },
  "language_info": {
   "codemirror_mode": {
    "name": "ipython",
    "version": 3
   },
   "file_extension": ".py",
   "mimetype": "text/x-python",
   "name": "python",
   "nbconvert_exporter": "python",
   "pygments_lexer": "ipython3",
   "version": "3.9.7"
  }
 },
 "nbformat": 4,
 "nbformat_minor": 5
}
