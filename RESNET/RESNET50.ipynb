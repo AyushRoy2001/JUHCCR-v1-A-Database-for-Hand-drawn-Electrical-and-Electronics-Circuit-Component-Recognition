{
 "cells": [
  {
   "cell_type": "code",
   "execution_count": 7,
   "id": "b041422f",
   "metadata": {},
   "outputs": [],
   "source": [
    "import cv2\n",
    "import numpy as np\n",
    "import pandas as pd\n",
    "import os\n",
    "%matplotlib inline\n",
    "import matplotlib.pyplot as plt\n",
    "import matplotlib.image as mpimg\n",
    "import tensorflow.keras as K\n",
    "import tensorflow.keras.backend as Kback\n",
    "from sklearn.metrics import classification_report, confusion_matrix, ConfusionMatrixDisplay"
   ]
  },
  {
   "cell_type": "markdown",
   "id": "835ef538",
   "metadata": {},
   "source": [
    "# Load dataset"
   ]
  },
  {
   "cell_type": "code",
   "execution_count": 4,
   "id": "7ed1b014",
   "metadata": {},
   "outputs": [
    {
     "name": "stdout",
     "output_type": "stream",
     "text": [
      "Found 4200 images belonging to 20 classes.\n",
      "Found 1800 images belonging to 20 classes.\n",
      "Found 2000 images belonging to 20 classes.\n"
     ]
    }
   ],
   "source": [
    "train_datagen = K.preprocessing.image.ImageDataGenerator(rescale = 1./255, validation_split = 0.3)   \n",
    "\n",
    "train_dataset  = train_datagen.flow_from_directory(directory = 'D:/RESEARCH/Circuit component recognition/train',\n",
    "                                                   target_size = (160,160),\n",
    "                                                   class_mode = 'categorical',\n",
    "                                                   subset = 'training',\n",
    "                                                   shuffle=True,\n",
    "                                                   batch_size = 64)\n",
    "validation_dataset  = train_datagen.flow_from_directory(directory = 'D:/RESEARCH/Circuit component recognition/train',\n",
    "                                                   target_size = (160,160),\n",
    "                                                   class_mode = 'categorical',\n",
    "                                                   subset = 'validation',\n",
    "                                                   shuffle=True,\n",
    "                                                   batch_size = 64)\n",
    "\n",
    "\n",
    "test_datagen = K.preprocessing.image.ImageDataGenerator(rescale = 1./255)   \n",
    "\n",
    "test_dataset  = test_datagen.flow_from_directory(directory = 'D:/RESEARCH/Circuit component recognition/test',\n",
    "                                                   target_size = (160,160),\n",
    "                                                   class_mode = 'categorical',\n",
    "                                                   subset = 'training',\n",
    "                                                   shuffle=True,\n",
    "                                                   batch_size = 64)"
   ]
  },
  {
   "cell_type": "markdown",
   "id": "a8a99350",
   "metadata": {},
   "source": [
    "# Resnet50"
   ]
  },
  {
   "cell_type": "code",
   "execution_count": 3,
   "id": "3cfa8d68",
   "metadata": {},
   "outputs": [
    {
     "name": "stdout",
     "output_type": "stream",
     "text": [
      "0 input_1 - False\n",
      "1 conv1_pad - False\n",
      "2 conv1_conv - False\n",
      "3 conv1_bn - False\n",
      "4 conv1_relu - False\n",
      "5 pool1_pad - False\n",
      "6 pool1_pool - False\n",
      "7 conv2_block1_1_conv - False\n",
      "8 conv2_block1_1_bn - False\n",
      "9 conv2_block1_1_relu - False\n",
      "10 conv2_block1_2_conv - False\n",
      "11 conv2_block1_2_bn - False\n",
      "12 conv2_block1_2_relu - False\n",
      "13 conv2_block1_0_conv - False\n",
      "14 conv2_block1_3_conv - False\n",
      "15 conv2_block1_0_bn - False\n",
      "16 conv2_block1_3_bn - False\n",
      "17 conv2_block1_add - False\n",
      "18 conv2_block1_out - False\n",
      "19 conv2_block2_1_conv - False\n",
      "20 conv2_block2_1_bn - False\n",
      "21 conv2_block2_1_relu - False\n",
      "22 conv2_block2_2_conv - False\n",
      "23 conv2_block2_2_bn - False\n",
      "24 conv2_block2_2_relu - False\n",
      "25 conv2_block2_3_conv - False\n",
      "26 conv2_block2_3_bn - False\n",
      "27 conv2_block2_add - False\n",
      "28 conv2_block2_out - False\n",
      "29 conv2_block3_1_conv - False\n",
      "30 conv2_block3_1_bn - False\n",
      "31 conv2_block3_1_relu - False\n",
      "32 conv2_block3_2_conv - False\n",
      "33 conv2_block3_2_bn - False\n",
      "34 conv2_block3_2_relu - False\n",
      "35 conv2_block3_3_conv - False\n",
      "36 conv2_block3_3_bn - False\n",
      "37 conv2_block3_add - False\n",
      "38 conv2_block3_out - False\n",
      "39 conv3_block1_1_conv - False\n",
      "40 conv3_block1_1_bn - False\n",
      "41 conv3_block1_1_relu - False\n",
      "42 conv3_block1_2_conv - False\n",
      "43 conv3_block1_2_bn - False\n",
      "44 conv3_block1_2_relu - False\n",
      "45 conv3_block1_0_conv - False\n",
      "46 conv3_block1_3_conv - False\n",
      "47 conv3_block1_0_bn - False\n",
      "48 conv3_block1_3_bn - False\n",
      "49 conv3_block1_add - False\n",
      "50 conv3_block1_out - False\n",
      "51 conv3_block2_1_conv - False\n",
      "52 conv3_block2_1_bn - False\n",
      "53 conv3_block2_1_relu - False\n",
      "54 conv3_block2_2_conv - False\n",
      "55 conv3_block2_2_bn - False\n",
      "56 conv3_block2_2_relu - False\n",
      "57 conv3_block2_3_conv - False\n",
      "58 conv3_block2_3_bn - False\n",
      "59 conv3_block2_add - False\n",
      "60 conv3_block2_out - False\n",
      "61 conv3_block3_1_conv - False\n",
      "62 conv3_block3_1_bn - False\n",
      "63 conv3_block3_1_relu - False\n",
      "64 conv3_block3_2_conv - False\n",
      "65 conv3_block3_2_bn - False\n",
      "66 conv3_block3_2_relu - False\n",
      "67 conv3_block3_3_conv - False\n",
      "68 conv3_block3_3_bn - False\n",
      "69 conv3_block3_add - False\n",
      "70 conv3_block3_out - False\n",
      "71 conv3_block4_1_conv - False\n",
      "72 conv3_block4_1_bn - False\n",
      "73 conv3_block4_1_relu - False\n",
      "74 conv3_block4_2_conv - False\n",
      "75 conv3_block4_2_bn - False\n",
      "76 conv3_block4_2_relu - False\n",
      "77 conv3_block4_3_conv - False\n",
      "78 conv3_block4_3_bn - False\n",
      "79 conv3_block4_add - False\n",
      "80 conv3_block4_out - False\n",
      "81 conv4_block1_1_conv - False\n",
      "82 conv4_block1_1_bn - False\n",
      "83 conv4_block1_1_relu - False\n",
      "84 conv4_block1_2_conv - False\n",
      "85 conv4_block1_2_bn - False\n",
      "86 conv4_block1_2_relu - False\n",
      "87 conv4_block1_0_conv - False\n",
      "88 conv4_block1_3_conv - False\n",
      "89 conv4_block1_0_bn - False\n",
      "90 conv4_block1_3_bn - False\n",
      "91 conv4_block1_add - False\n",
      "92 conv4_block1_out - False\n",
      "93 conv4_block2_1_conv - False\n",
      "94 conv4_block2_1_bn - False\n",
      "95 conv4_block2_1_relu - False\n",
      "96 conv4_block2_2_conv - False\n",
      "97 conv4_block2_2_bn - False\n",
      "98 conv4_block2_2_relu - False\n",
      "99 conv4_block2_3_conv - False\n",
      "100 conv4_block2_3_bn - False\n",
      "101 conv4_block2_add - False\n",
      "102 conv4_block2_out - False\n",
      "103 conv4_block3_1_conv - False\n",
      "104 conv4_block3_1_bn - False\n",
      "105 conv4_block3_1_relu - False\n",
      "106 conv4_block3_2_conv - False\n",
      "107 conv4_block3_2_bn - False\n",
      "108 conv4_block3_2_relu - False\n",
      "109 conv4_block3_3_conv - False\n",
      "110 conv4_block3_3_bn - False\n",
      "111 conv4_block3_add - False\n",
      "112 conv4_block3_out - False\n",
      "113 conv4_block4_1_conv - False\n",
      "114 conv4_block4_1_bn - False\n",
      "115 conv4_block4_1_relu - False\n",
      "116 conv4_block4_2_conv - False\n",
      "117 conv4_block4_2_bn - False\n",
      "118 conv4_block4_2_relu - False\n",
      "119 conv4_block4_3_conv - False\n",
      "120 conv4_block4_3_bn - False\n",
      "121 conv4_block4_add - False\n",
      "122 conv4_block4_out - False\n",
      "123 conv4_block5_1_conv - False\n",
      "124 conv4_block5_1_bn - False\n",
      "125 conv4_block5_1_relu - False\n",
      "126 conv4_block5_2_conv - False\n",
      "127 conv4_block5_2_bn - False\n",
      "128 conv4_block5_2_relu - False\n",
      "129 conv4_block5_3_conv - False\n",
      "130 conv4_block5_3_bn - False\n",
      "131 conv4_block5_add - False\n",
      "132 conv4_block5_out - False\n",
      "133 conv4_block6_1_conv - False\n",
      "134 conv4_block6_1_bn - False\n",
      "135 conv4_block6_1_relu - False\n",
      "136 conv4_block6_2_conv - False\n",
      "137 conv4_block6_2_bn - False\n",
      "138 conv4_block6_2_relu - False\n",
      "139 conv4_block6_3_conv - False\n",
      "140 conv4_block6_3_bn - False\n",
      "141 conv4_block6_add - False\n",
      "142 conv4_block6_out - False\n",
      "143 conv5_block1_1_conv - False\n",
      "144 conv5_block1_1_bn - False\n",
      "145 conv5_block1_1_relu - False\n",
      "146 conv5_block1_2_conv - False\n",
      "147 conv5_block1_2_bn - False\n",
      "148 conv5_block1_2_relu - False\n",
      "149 conv5_block1_0_conv - False\n",
      "150 conv5_block1_3_conv - True\n",
      "151 conv5_block1_0_bn - True\n",
      "152 conv5_block1_3_bn - True\n",
      "153 conv5_block1_add - True\n",
      "154 conv5_block1_out - True\n",
      "155 conv5_block2_1_conv - True\n",
      "156 conv5_block2_1_bn - True\n",
      "157 conv5_block2_1_relu - True\n",
      "158 conv5_block2_2_conv - True\n",
      "159 conv5_block2_2_bn - True\n",
      "160 conv5_block2_2_relu - True\n",
      "161 conv5_block2_3_conv - True\n",
      "162 conv5_block2_3_bn - True\n",
      "163 conv5_block2_add - True\n",
      "164 conv5_block2_out - True\n",
      "165 conv5_block3_1_conv - True\n",
      "166 conv5_block3_1_bn - True\n",
      "167 conv5_block3_1_relu - True\n",
      "168 conv5_block3_2_conv - True\n",
      "169 conv5_block3_2_bn - True\n",
      "170 conv5_block3_2_relu - True\n",
      "171 conv5_block3_3_conv - True\n",
      "172 conv5_block3_3_bn - True\n",
      "173 conv5_block3_add - True\n",
      "174 conv5_block3_out - True\n"
     ]
    }
   ],
   "source": [
    "input_layer = K.Input(shape=(160,160,3))\n",
    "resnet_model = K.applications.ResNet50(include_top = False, weights = \"imagenet\", input_tensor = input_layer)\n",
    "for layer in resnet_model.layers[:150]:\n",
    "    layer.trainable = False\n",
    "for i, layer in enumerate(resnet_model.layers):\n",
    "    print(i, layer.name, \"-\", layer.trainable)"
   ]
  },
  {
   "cell_type": "code",
   "execution_count": 4,
   "id": "6448199a",
   "metadata": {},
   "outputs": [],
   "source": [
    "METRICS = [\n",
    "      K.metrics.BinaryAccuracy(name='accuracy'),\n",
    "      K.metrics.Precision(name='precision'),\n",
    "      K.metrics.Recall(name='recall'),  \n",
    "      K.metrics.AUC(name='auc')\n",
    "]"
   ]
  },
  {
   "cell_type": "code",
   "execution_count": 5,
   "id": "73b41be7",
   "metadata": {},
   "outputs": [
    {
     "name": "stdout",
     "output_type": "stream",
     "text": [
      "Model: \"model\"\n",
      "_________________________________________________________________\n",
      " Layer (type)                Output Shape              Param #   \n",
      "=================================================================\n",
      " image (InputLayer)          [(None, 160, 160, 3)]     0         \n",
      "                                                                 \n",
      " resnet50 (Functional)       (None, 5, 5, 2048)        23587712  \n",
      "                                                                 \n",
      " flatten (Flatten)           (None, 51200)             0         \n",
      "                                                                 \n",
      " dense (Dense)               (None, 20)                1024020   \n",
      "                                                                 \n",
      "=================================================================\n",
      "Total params: 24,611,732\n",
      "Trainable params: 11,014,164\n",
      "Non-trainable params: 13,597,568\n",
      "_________________________________________________________________\n"
     ]
    },
    {
     "name": "stderr",
     "output_type": "stream",
     "text": [
      "C:\\Python\\lib\\site-packages\\keras\\optimizers\\optimizer_v2\\adam.py:114: UserWarning: The `lr` argument is deprecated, use `learning_rate` instead.\n",
      "  super().__init__(name, **kwargs)\n"
     ]
    }
   ],
   "source": [
    "inputs = K.layers.Input(shape=(160,160,3), name=\"image\")  \n",
    "\n",
    "resnet50 = resnet_model(inputs)\n",
    "flat = K.layers.Flatten()(resnet50)\n",
    "output = K.layers.Dense(20, activation='softmax')(flat)\n",
    "\n",
    "model = K.Model(inputs=inputs, outputs=output)\n",
    "optimizer = K.optimizers.Adam(lr=0.001, beta_1=0.9, beta_2=0.999, clipnorm=1.0)\n",
    "model.compile(loss=[\"categorical_crossentropy\"], metrics=METRICS, optimizer = optimizer)\n",
    "model.summary()"
   ]
  },
  {
   "cell_type": "markdown",
   "id": "88aece6c",
   "metadata": {},
   "source": [
    "# Training"
   ]
  },
  {
   "cell_type": "code",
   "execution_count": 6,
   "id": "3d545613",
   "metadata": {},
   "outputs": [
    {
     "name": "stdout",
     "output_type": "stream",
     "text": [
      "Epoch 1/25\n",
      "66/66 [==============================] - 528s 8s/step - loss: 3.2170 - accuracy: 0.9537 - precision: 0.5955 - recall: 0.2286 - auc: 0.8287 - val_loss: 8.3882 - val_accuracy: 0.9239 - val_precision: 0.1097 - val_recall: 0.0733 - val_auc: 0.6133\n",
      "Epoch 2/25\n",
      "66/66 [==============================] - 521s 8s/step - loss: 0.9865 - accuracy: 0.9725 - precision: 0.8378 - recall: 0.5583 - auc: 0.9716 - val_loss: 1.9954 - val_accuracy: 0.9579 - val_precision: 0.6437 - val_recall: 0.3522 - val_auc: 0.9155\n",
      "Epoch 3/25\n",
      "66/66 [==============================] - 526s 8s/step - loss: 0.7330 - accuracy: 0.9786 - precision: 0.8695 - recall: 0.6740 - auc: 0.9829 - val_loss: 1.3069 - val_accuracy: 0.9657 - val_precision: 0.7024 - val_recall: 0.5467 - val_auc: 0.9558\n",
      "Epoch 4/25\n",
      "66/66 [==============================] - 527s 8s/step - loss: 0.5484 - accuracy: 0.9829 - precision: 0.8967 - recall: 0.7443 - auc: 0.9908 - val_loss: 0.8372 - val_accuracy: 0.9744 - val_precision: 0.7829 - val_recall: 0.6750 - val_auc: 0.9774\n",
      "Epoch 5/25\n",
      "66/66 [==============================] - 522s 8s/step - loss: 0.4876 - accuracy: 0.9857 - precision: 0.9124 - recall: 0.7907 - auc: 0.9927 - val_loss: 1.9552 - val_accuracy: 0.9631 - val_precision: 0.6430 - val_recall: 0.5894 - val_auc: 0.9230\n",
      "Epoch 6/25\n",
      "66/66 [==============================] - 531s 8s/step - loss: 0.4414 - accuracy: 0.9858 - precision: 0.9026 - recall: 0.8029 - auc: 0.9938 - val_loss: 1.1559 - val_accuracy: 0.9719 - val_precision: 0.7358 - val_recall: 0.6839 - val_auc: 0.9550\n",
      "Epoch 7/25\n",
      "66/66 [==============================] - 533s 8s/step - loss: 0.3473 - accuracy: 0.9891 - precision: 0.9287 - recall: 0.8464 - auc: 0.9953 - val_loss: 0.8992 - val_accuracy: 0.9772 - val_precision: 0.7860 - val_recall: 0.7467 - val_auc: 0.9700\n",
      "Epoch 8/25\n",
      "66/66 [==============================] - 523s 8s/step - loss: 0.3552 - accuracy: 0.9899 - precision: 0.9346 - recall: 0.8574 - auc: 0.9954 - val_loss: 1.4551 - val_accuracy: 0.9725 - val_precision: 0.7341 - val_recall: 0.7056 - val_auc: 0.9434\n",
      "Epoch 9/25\n",
      "66/66 [==============================] - 525s 8s/step - loss: 0.3496 - accuracy: 0.9900 - precision: 0.9328 - recall: 0.8631 - auc: 0.9950 - val_loss: 4.5415 - val_accuracy: 0.9718 - val_precision: 0.7274 - val_recall: 0.6967 - val_auc: 0.9252\n",
      "Epoch 10/25\n",
      "66/66 [==============================] - 526s 8s/step - loss: 0.3263 - accuracy: 0.9904 - precision: 0.9321 - recall: 0.8724 - auc: 0.9953 - val_loss: 0.9572 - val_accuracy: 0.9758 - val_precision: 0.7715 - val_recall: 0.7333 - val_auc: 0.9678\n",
      "Epoch 11/25\n",
      "66/66 [==============================] - 526s 8s/step - loss: 0.2560 - accuracy: 0.9924 - precision: 0.9488 - recall: 0.8955 - auc: 0.9969 - val_loss: 0.9929 - val_accuracy: 0.9786 - val_precision: 0.7947 - val_recall: 0.7722 - val_auc: 0.9666\n",
      "Epoch 12/25\n",
      "66/66 [==============================] - 522s 8s/step - loss: 0.2629 - accuracy: 0.9916 - precision: 0.9452 - recall: 0.8833 - auc: 0.9972 - val_loss: 0.9301 - val_accuracy: 0.9784 - val_precision: 0.7929 - val_recall: 0.7678 - val_auc: 0.9665\n",
      "Epoch 13/25\n",
      "66/66 [==============================] - 524s 8s/step - loss: 0.1901 - accuracy: 0.9936 - precision: 0.9566 - recall: 0.9140 - auc: 0.9989 - val_loss: 0.7554 - val_accuracy: 0.9816 - val_precision: 0.8230 - val_recall: 0.8061 - val_auc: 0.9712\n",
      "Epoch 14/25\n",
      "66/66 [==============================] - 521s 8s/step - loss: 0.2183 - accuracy: 0.9935 - precision: 0.9527 - recall: 0.9150 - auc: 0.9979 - val_loss: 0.9583 - val_accuracy: 0.9792 - val_precision: 0.7999 - val_recall: 0.7794 - val_auc: 0.9585\n",
      "Epoch 15/25\n",
      "66/66 [==============================] - 523s 8s/step - loss: 0.2018 - accuracy: 0.9939 - precision: 0.9578 - recall: 0.9186 - auc: 0.9981 - val_loss: 0.9721 - val_accuracy: 0.9778 - val_precision: 0.7862 - val_recall: 0.7639 - val_auc: 0.9624\n",
      "Epoch 16/25\n",
      "66/66 [==============================] - 525s 8s/step - loss: 0.1888 - accuracy: 0.9944 - precision: 0.9609 - recall: 0.9252 - auc: 0.9984 - val_loss: 0.6957 - val_accuracy: 0.9827 - val_precision: 0.8339 - val_recall: 0.8172 - val_auc: 0.9786\n",
      "Epoch 17/25\n",
      "66/66 [==============================] - 520s 8s/step - loss: 0.1744 - accuracy: 0.9949 - precision: 0.9640 - recall: 0.9319 - auc: 0.9985 - val_loss: 0.9678 - val_accuracy: 0.9786 - val_precision: 0.7933 - val_recall: 0.7739 - val_auc: 0.9615\n",
      "Epoch 18/25\n",
      "66/66 [==============================] - 526s 8s/step - loss: 0.1872 - accuracy: 0.9942 - precision: 0.9588 - recall: 0.9243 - auc: 0.9981 - val_loss: 1.8974 - val_accuracy: 0.9754 - val_precision: 0.7604 - val_recall: 0.7406 - val_auc: 0.9353\n",
      "Epoch 19/25\n",
      "66/66 [==============================] - 521s 8s/step - loss: 0.2251 - accuracy: 0.9945 - precision: 0.9633 - recall: 0.9260 - auc: 0.9975 - val_loss: 0.7926 - val_accuracy: 0.9817 - val_precision: 0.8228 - val_recall: 0.8072 - val_auc: 0.9722\n",
      "Epoch 20/25\n",
      "66/66 [==============================] - 525s 8s/step - loss: 0.1940 - accuracy: 0.9951 - precision: 0.9676 - recall: 0.9326 - auc: 0.9977 - val_loss: 0.9197 - val_accuracy: 0.9796 - val_precision: 0.8030 - val_recall: 0.7856 - val_auc: 0.9636\n",
      "Epoch 21/25\n",
      "66/66 [==============================] - 524s 8s/step - loss: 0.1709 - accuracy: 0.9952 - precision: 0.9643 - recall: 0.9386 - auc: 0.9986 - val_loss: 1.2103 - val_accuracy: 0.9794 - val_precision: 0.8010 - val_recall: 0.7828 - val_auc: 0.9599\n",
      "Epoch 22/25\n",
      "66/66 [==============================] - 540s 8s/step - loss: 0.1339 - accuracy: 0.9960 - precision: 0.9726 - recall: 0.9476 - auc: 0.9990 - val_loss: 0.7501 - val_accuracy: 0.9833 - val_precision: 0.8397 - val_recall: 0.8233 - val_auc: 0.9711\n",
      "Epoch 23/25\n",
      "66/66 [==============================] - 539s 8s/step - loss: 0.1735 - accuracy: 0.9945 - precision: 0.9599 - recall: 0.9298 - auc: 0.9986 - val_loss: 1.0089 - val_accuracy: 0.9816 - val_precision: 0.8220 - val_recall: 0.8056 - val_auc: 0.9653\n",
      "Epoch 24/25\n",
      "66/66 [==============================] - 524s 8s/step - loss: 0.1203 - accuracy: 0.9961 - precision: 0.9736 - recall: 0.9486 - auc: 0.9994 - val_loss: 0.7908 - val_accuracy: 0.9851 - val_precision: 0.8561 - val_recall: 0.8428 - val_auc: 0.9788\n",
      "Epoch 25/25\n",
      "66/66 [==============================] - 520s 8s/step - loss: 0.0884 - accuracy: 0.9969 - precision: 0.9782 - recall: 0.9593 - auc: 0.9998 - val_loss: 0.8298 - val_accuracy: 0.9838 - val_precision: 0.8448 - val_recall: 0.8289 - val_auc: 0.9749\n"
     ]
    }
   ],
   "source": [
    "checkpoint_filepath = 'D:/RESEARCH/Circuit component recognition/'\n",
    "model_checkpoint_callback = K.callbacks.ModelCheckpoint(\n",
    "    filepath=checkpoint_filepath,\n",
    "    save_weights_only=True,\n",
    "    monitor='val_accuracy',\n",
    "    mode='max',\n",
    "    save_best_only=True)\n",
    "\n",
    "history = model.fit(train_dataset,\n",
    "                    epochs = 25,\n",
    "                    validation_data = validation_dataset,\n",
    "                    verbose = 1,\n",
    "                    callbacks=[model_checkpoint_callback],\n",
    "                    shuffle = True)"
   ]
  },
  {
   "cell_type": "code",
   "execution_count": 7,
   "id": "5afb4e42",
   "metadata": {},
   "outputs": [
    {
     "data": {
      "image/png": "[encoded data removed]",
      "text/plain": [
       "<Figure size 1440x360 with 4 Axes>"
      ]
     },
     "metadata": {
      "needs_background": "light"
     },
     "output_type": "display_data"
    }
   ],
   "source": [
    "#%% PLOTTING RESULTS (Train vs Validation FOLDER 1)\n",
    "\n",
    "def Train_Val_Plot(acc,val_acc,loss,val_loss,auc,val_auc,precision,val_precision):\n",
    "    \n",
    "    fig, (ax1, ax2,ax3,ax4) = plt.subplots(1,4, figsize= (20,5))\n",
    "    fig.suptitle(\" MODEL'S METRICS VISUALIZATION \")\n",
    "\n",
    "    ax1.plot(range(1, len(acc) + 1), acc)\n",
    "    ax1.plot(range(1, len(val_acc) + 1), val_acc)\n",
    "    ax1.set_title('History of Accuracy')\n",
    "    ax1.set_xlabel('Epochs')\n",
    "    ax1.set_ylabel('Accuracy')\n",
    "    ax1.legend(['training', 'validation'])\n",
    "\n",
    "\n",
    "    ax2.plot(range(1, len(loss) + 1), loss)\n",
    "    ax2.plot(range(1, len(val_loss) + 1), val_loss)\n",
    "    ax2.set_title('History of Loss')\n",
    "    ax2.set_xlabel('Epochs')\n",
    "    ax2.set_ylabel('Loss')\n",
    "    ax2.legend(['training', 'validation'])\n",
    "    \n",
    "    ax3.plot(range(1, len(auc) + 1), auc)\n",
    "    ax3.plot(range(1, len(val_auc) + 1), val_auc)\n",
    "    ax3.set_title('History of AUC')\n",
    "    ax3.set_xlabel('Epochs')\n",
    "    ax3.set_ylabel('AUC')\n",
    "    ax3.legend(['training', 'validation'])\n",
    "    \n",
    "    ax4.plot(range(1, len(precision) + 1), precision)\n",
    "    ax4.plot(range(1, len(val_precision) + 1), val_precision)\n",
    "    ax4.set_title('History of Precision')\n",
    "    ax4.set_xlabel('Epochs')\n",
    "    ax4.set_ylabel('Precision')\n",
    "    ax4.legend(['training', 'validation'])\n",
    "\n",
    "    plt.show()\n",
    "    \n",
    "\n",
    "Train_Val_Plot(history.history['accuracy'],history.history['val_accuracy'],\n",
    "               history.history['loss'],history.history['val_loss'],\n",
    "               history.history['auc'],history.history['val_auc'],\n",
    "               history.history['precision'],history.history['val_precision'],\n",
    "              )"
   ]
  },
  {
   "cell_type": "code",
   "execution_count": 8,
   "id": "18c2e19a",
   "metadata": {},
   "outputs": [],
   "source": [
    "model.save(\"resnet50.hdf5\")"
   ]
  },
  {
   "cell_type": "markdown",
   "id": "1fa81e10",
   "metadata": {},
   "source": [
    "# Testing"
   ]
  },
  {
   "cell_type": "code",
   "execution_count": 5,
   "id": "ce4175ca",
   "metadata": {},
   "outputs": [
    {
     "name": "stdout",
     "output_type": "stream",
     "text": [
      "32/32 [==============================] - 133s 4s/step - loss: 2.0195 - accuracy: 0.9708 - precision: 0.7134 - recall: 0.6970 - auc: 0.9197\n"
     ]
    },
    {
     "data": {
      "text/plain": [
       "[2.019491195678711,\n",
       " 0.9708499908447266,\n",
       " 0.7134084105491638,\n",
       " 0.6970000267028809,\n",
       " 0.9196864366531372]"
      ]
     },
     "execution_count": 5,
     "metadata": {},
     "output_type": "execute_result"
    }
   ],
   "source": [
    "# saved last model\n",
    "model = K.models.load_model(\"resnet50.hdf5\")\n",
    "model.evaluate(test_dataset)"
   ]
  },
  {
   "cell_type": "code",
   "execution_count": 13,
   "id": "2734ae6c",
   "metadata": {},
   "outputs": [
    {
     "name": "stderr",
     "output_type": "stream",
     "text": [
      "C:\\Users\\aroy8\\AppData\\Local\\Temp/ipykernel_20672/3580747851.py:1: UserWarning: `Model.predict_generator` is deprecated and will be removed in a future version. Please use `Model.predict`, which supports generators.\n",
      "  Y_pred = model.predict_generator(test_dataset, 1157)\n",
      "Your input ran out of data; interrupting training. Make sure that your dataset or generator can generate at least `steps_per_epoch * epochs` batches (in this case, 1157 batches). You may need to use the repeat() function when building your dataset.\n"
     ]
    },
    {
     "name": "stdout",
     "output_type": "stream",
     "text": [
      "Confusion Matrix\n"
     ]
    },
    {
     "data": {
      "image/png": "[encoded data removed]",
      "text/plain": [
       "<Figure size 432x288 with 2 Axes>"
      ]
     },
     "metadata": {
      "needs_background": "light"
     },
     "output_type": "display_data"
    },
    {
     "name": "stdout",
     "output_type": "stream",
     "text": [
      "Classification Report\n",
      "              precision    recall  f1-score   support\n",
      "\n",
      "           1       0.07      0.12      0.09       100\n",
      "           2       0.06      0.04      0.05       100\n",
      "           3       0.03      0.05      0.04       100\n",
      "           4       0.05      0.03      0.04       100\n",
      "           5       0.07      0.05      0.06       100\n",
      "           6       0.03      0.01      0.01       100\n",
      "           7       0.03      0.03      0.03       100\n",
      "           8       0.03      0.02      0.02       100\n",
      "           9       0.16      0.09      0.11       100\n",
      "          10       0.05      0.05      0.05       100\n",
      "          11       0.04      0.04      0.04       100\n",
      "          12       0.04      0.03      0.03       100\n",
      "          13       0.05      0.05      0.05       100\n",
      "          14       0.02      0.03      0.03       100\n",
      "          15       0.08      0.08      0.08       100\n",
      "          16       0.07      0.07      0.07       100\n",
      "          17       0.05      0.05      0.05       100\n",
      "          18       0.05      0.07      0.06       100\n",
      "          19       0.03      0.03      0.03       100\n",
      "          20       0.02      0.03      0.02       100\n",
      "\n",
      "    accuracy                           0.05      2000\n",
      "   macro avg       0.05      0.05      0.05      2000\n",
      "weighted avg       0.05      0.05      0.05      2000\n",
      "\n"
     ]
    }
   ],
   "source": [
    "Y_pred = model.predict_generator(test_dataset, 1157)\n",
    "y_pred = np.argmax(Y_pred, axis=1)\n",
    "print('Confusion Matrix')\n",
    "disp = ConfusionMatrixDisplay(confusion_matrix(test_dataset.classes, y_pred),display_labels=['1','2','3','4','5','6','7','8','9','10','11','12','13','14','15','16','17','18','19','20'])\n",
    "disp.plot()\n",
    "plt.show()\n",
    "print('Classification Report')\n",
    "target_names = ['1','2','3','4','5','6','7','8','9','10','11','12','13','14','15','16','17','18','19','20']\n",
    "print(classification_report(test_dataset.classes, y_pred, target_names=target_names))"
   ]
  },
  {
   "cell_type": "code",
   "execution_count": null,
   "id": "1b8a3547",
   "metadata": {},
   "outputs": [],
   "source": []
  }
 ],
 "metadata": {
  "kernelspec": {
   "display_name": "Python 3 (ipykernel)",
   "language": "python",
   "name": "python3"
  },
  "language_info": {
   "codemirror_mode": {
    "name": "ipython",
    "version": 3
   },
   "file_extension": ".py",
   "mimetype": "text/x-python",
   "name": "python",
   "nbconvert_exporter": "python",
   "pygments_lexer": "ipython3",
   "version": "3.9.7"
  }
 },
 "nbformat": 4,
 "nbformat_minor": 5
}
