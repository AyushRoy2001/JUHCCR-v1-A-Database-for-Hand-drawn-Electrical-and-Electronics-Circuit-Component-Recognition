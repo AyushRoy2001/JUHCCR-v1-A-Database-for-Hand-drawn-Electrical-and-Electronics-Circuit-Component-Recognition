{
  "cells": [
    {
      "cell_type": "code",
      "execution_count": 1,
      "metadata": {
        "id": "R3sh79vmFcCu"
      },
      "outputs": [],
      "source": [
        "import numpy as np\n",
        "import tensorflow as tf\n",
        "from tensorflow import keras\n",
        "from tensorflow.keras.layers import Dense, Activation\n",
        "from tensorflow.keras.optimizers import Adam\n",
        "from tensorflow.keras.metrics import categorical_crossentropy\n",
        "from tensorflow.keras.preprocessing.image import ImageDataGenerator\n",
        "from tensorflow.keras.preprocessing import image\n",
        "from tensorflow.keras.models import Model\n",
        "from tensorflow.keras.applications import  imagenet_utils\n",
        "from sklearn.metrics import confusion_matrix\n",
        "import itertools\n",
        "import os\n",
        "import shutil\n",
        "import random\n",
        "import matplotlib.pyplot as plt\n",
        "%matplotlib inline"
      ]
    },
    {
      "cell_type": "code",
      "execution_count": 2,
      "metadata": {
        "colab": {
          "base_uri": "https://localhost:8080/"
        },
        "id": "48eMw9mu5Sqi",
        "outputId": "25e0f88c-096a-4f61-f884-7a95509c7bce"
      },
      "outputs": [
        {
          "name": "stdout",
          "output_type": "stream",
          "text": [
            "Found 7000 images belonging to 20 classes.\n",
            "Found 3000 images belonging to 20 classes.\n",
            "Found 2000 images belonging to 20 classes.\n"
          ]
        }
      ],
      "source": [
        "train_datagen=keras.preprocessing.image.ImageDataGenerator(rescale=1./255,validation_split=0.3)\n",
        "train_dataset=train_datagen.flow_from_directory(directory='E:/data/train/',\n",
        "                                                target_size=(160,160),\n",
        "                                                class_mode='categorical',\n",
        "                                                subset='training',\n",
        "                                                shuffle=True,\n",
        "                                                batch_size=64)\n",
        "validation_dataset=train_datagen.flow_from_directory(directory='E:/data/train/',\n",
        "                                                target_size=(160,160),\n",
        "                                                class_mode='categorical',\n",
        "                                                subset='validation',\n",
        "                                                shuffle=True,\n",
        "                                                batch_size=64)\n",
        "\n",
        "test_datagen=keras.preprocessing.image.ImageDataGenerator(rescale=1./255)\n",
        "test_dataset=test_datagen.flow_from_directory(directory='E:/data/test/',\n",
        "                                                target_size=(160,160),\n",
        "                                                class_mode='categorical',\n",
        "                                                subset='training',\n",
        "                                                shuffle=True,\n",
        "                                                batch_size=64)"
      ]
    },
    {
      "cell_type": "code",
      "execution_count": 3,
      "metadata": {
        "colab": {
          "base_uri": "https://localhost:8080/"
        },
        "id": "eNXWeCcg7LlC",
        "outputId": "891bbbd1-8740-4bf2-969a-c05bad1b1d20"
      },
      "outputs": [],
      "source": [
        "IMG_SHAPE = (160, 160, 3)\n",
        "\n",
        "# Create the base model from the pre-trained model MobileNet V2\n",
        "base_model = tf.keras.applications.MobileNetV2(input_shape=IMG_SHAPE,\n",
        "                                               include_top=False,\n",
        "                                               weights='imagenet')"
      ]
    },
    {
      "cell_type": "code",
      "execution_count": 4,
      "metadata": {
        "colab": {
          "base_uri": "https://localhost:8080/"
        },
        "id": "HPDMQbmmEDwM",
        "outputId": "9a2de34b-c8eb-4aea-c91b-c4851ecaa847"
      },
      "outputs": [
        {
          "name": "stdout",
          "output_type": "stream",
          "text": [
            "0 input_1 - False\n",
            "1 Conv1 - False\n",
            "2 bn_Conv1 - False\n",
            "3 Conv1_relu - False\n",
            "4 expanded_conv_depthwise - False\n",
            "5 expanded_conv_depthwise_BN - False\n",
            "6 expanded_conv_depthwise_relu - False\n",
            "7 expanded_conv_project - False\n",
            "8 expanded_conv_project_BN - False\n",
            "9 block_1_expand - False\n",
            "10 block_1_expand_BN - False\n",
            "11 block_1_expand_relu - False\n",
            "12 block_1_pad - False\n",
            "13 block_1_depthwise - False\n",
            "14 block_1_depthwise_BN - False\n",
            "15 block_1_depthwise_relu - False\n",
            "16 block_1_project - False\n",
            "17 block_1_project_BN - False\n",
            "18 block_2_expand - False\n",
            "19 block_2_expand_BN - False\n",
            "20 block_2_expand_relu - False\n",
            "21 block_2_depthwise - False\n",
            "22 block_2_depthwise_BN - False\n",
            "23 block_2_depthwise_relu - False\n",
            "24 block_2_project - False\n",
            "25 block_2_project_BN - False\n",
            "26 block_2_add - False\n",
            "27 block_3_expand - False\n",
            "28 block_3_expand_BN - False\n",
            "29 block_3_expand_relu - False\n",
            "30 block_3_pad - False\n",
            "31 block_3_depthwise - False\n",
            "32 block_3_depthwise_BN - False\n",
            "33 block_3_depthwise_relu - False\n",
            "34 block_3_project - False\n",
            "35 block_3_project_BN - False\n",
            "36 block_4_expand - False\n",
            "37 block_4_expand_BN - False\n",
            "38 block_4_expand_relu - False\n",
            "39 block_4_depthwise - False\n",
            "40 block_4_depthwise_BN - False\n",
            "41 block_4_depthwise_relu - False\n",
            "42 block_4_project - False\n",
            "43 block_4_project_BN - False\n",
            "44 block_4_add - False\n",
            "45 block_5_expand - False\n",
            "46 block_5_expand_BN - False\n",
            "47 block_5_expand_relu - False\n",
            "48 block_5_depthwise - False\n",
            "49 block_5_depthwise_BN - False\n",
            "50 block_5_depthwise_relu - False\n",
            "51 block_5_project - False\n",
            "52 block_5_project_BN - False\n",
            "53 block_5_add - False\n",
            "54 block_6_expand - False\n",
            "55 block_6_expand_BN - False\n",
            "56 block_6_expand_relu - False\n",
            "57 block_6_pad - False\n",
            "58 block_6_depthwise - False\n",
            "59 block_6_depthwise_BN - False\n",
            "60 block_6_depthwise_relu - False\n",
            "61 block_6_project - False\n",
            "62 block_6_project_BN - False\n",
            "63 block_7_expand - False\n",
            "64 block_7_expand_BN - False\n",
            "65 block_7_expand_relu - False\n",
            "66 block_7_depthwise - False\n",
            "67 block_7_depthwise_BN - False\n",
            "68 block_7_depthwise_relu - False\n",
            "69 block_7_project - False\n",
            "70 block_7_project_BN - False\n",
            "71 block_7_add - False\n",
            "72 block_8_expand - False\n",
            "73 block_8_expand_BN - False\n",
            "74 block_8_expand_relu - False\n",
            "75 block_8_depthwise - False\n",
            "76 block_8_depthwise_BN - False\n",
            "77 block_8_depthwise_relu - False\n",
            "78 block_8_project - False\n",
            "79 block_8_project_BN - False\n",
            "80 block_8_add - False\n",
            "81 block_9_expand - False\n",
            "82 block_9_expand_BN - False\n",
            "83 block_9_expand_relu - False\n",
            "84 block_9_depthwise - False\n",
            "85 block_9_depthwise_BN - False\n",
            "86 block_9_depthwise_relu - False\n",
            "87 block_9_project - False\n",
            "88 block_9_project_BN - False\n",
            "89 block_9_add - False\n",
            "90 block_10_expand - False\n",
            "91 block_10_expand_BN - False\n",
            "92 block_10_expand_relu - False\n",
            "93 block_10_depthwise - False\n",
            "94 block_10_depthwise_BN - False\n",
            "95 block_10_depthwise_relu - False\n",
            "96 block_10_project - False\n",
            "97 block_10_project_BN - False\n",
            "98 block_11_expand - False\n",
            "99 block_11_expand_BN - False\n",
            "100 block_11_expand_relu - False\n",
            "101 block_11_depthwise - False\n",
            "102 block_11_depthwise_BN - False\n",
            "103 block_11_depthwise_relu - False\n",
            "104 block_11_project - False\n",
            "105 block_11_project_BN - False\n",
            "106 block_11_add - False\n",
            "107 block_12_expand - False\n",
            "108 block_12_expand_BN - False\n",
            "109 block_12_expand_relu - False\n",
            "110 block_12_depthwise - False\n",
            "111 block_12_depthwise_BN - False\n",
            "112 block_12_depthwise_relu - False\n",
            "113 block_12_project - False\n",
            "114 block_12_project_BN - False\n",
            "115 block_12_add - False\n",
            "116 block_13_expand - False\n",
            "117 block_13_expand_BN - False\n",
            "118 block_13_expand_relu - False\n",
            "119 block_13_pad - False\n",
            "120 block_13_depthwise - False\n",
            "121 block_13_depthwise_BN - False\n",
            "122 block_13_depthwise_relu - False\n",
            "123 block_13_project - False\n",
            "124 block_13_project_BN - False\n",
            "125 block_14_expand - False\n",
            "126 block_14_expand_BN - False\n",
            "127 block_14_expand_relu - False\n",
            "128 block_14_depthwise - False\n",
            "129 block_14_depthwise_BN - False\n",
            "130 block_14_depthwise_relu - False\n",
            "131 block_14_project - False\n",
            "132 block_14_project_BN - False\n",
            "133 block_14_add - False\n",
            "134 block_15_expand - False\n",
            "135 block_15_expand_BN - False\n",
            "136 block_15_expand_relu - False\n",
            "137 block_15_depthwise - False\n",
            "138 block_15_depthwise_BN - False\n",
            "139 block_15_depthwise_relu - False\n",
            "140 block_15_project - True\n",
            "141 block_15_project_BN - True\n",
            "142 block_15_add - True\n",
            "143 block_16_expand - True\n",
            "144 block_16_expand_BN - True\n",
            "145 block_16_expand_relu - True\n",
            "146 block_16_depthwise - True\n",
            "147 block_16_depthwise_BN - True\n",
            "148 block_16_depthwise_relu - True\n",
            "149 block_16_project - True\n",
            "150 block_16_project_BN - True\n",
            "151 Conv_1 - True\n",
            "152 Conv_1_bn - True\n",
            "153 out_relu - True\n"
          ]
        }
      ],
      "source": [
        "for layer in base_model.layers[:140]:\n",
        "  layer.trainable=False\n",
        "\n",
        "for i,layer in enumerate(base_model.layers):\n",
        "  print(i,layer.name,'-',layer.trainable)"
      ]
    },
    {
      "cell_type": "code",
      "execution_count": 5,
      "metadata": {
        "id": "Q6v6bPfI8912"
      },
      "outputs": [],
      "source": [
        "global_average_layer = tf.keras.layers.GlobalAveragePooling2D()\n",
        "prediction_layer = tf.keras.layers.Dense(20, activation='softmax')"
      ]
    },
    {
      "cell_type": "code",
      "execution_count": 6,
      "metadata": {
        "id": "ga0O8utTHJMx"
      },
      "outputs": [],
      "source": [
        "import keras.backend as K\n",
        "def f1_score(y_true, y_pred): #taken from old keras source code\n",
        "    true_positives = K.sum(K.round(K.clip(y_true * y_pred, 0, 1)))\n",
        "    possible_positives = K.sum(K.round(K.clip(y_true, 0, 1)))\n",
        "    predicted_positives = K.sum(K.round(K.clip(y_pred, 0, 1)))\n",
        "    precision = true_positives / (predicted_positives + K.epsilon())\n",
        "    recall = true_positives / (possible_positives + K.epsilon())\n",
        "    f1_val = 2*(precision*recall)/(precision+recall+K.epsilon())\n",
        "    return f1_val"
      ]
    },
    {
      "cell_type": "code",
      "execution_count": 7,
      "metadata": {
        "id": "RlR8eUcU9BVi"
      },
      "outputs": [],
      "source": [
        "model = tf.keras.Sequential([\n",
        "  base_model,\n",
        "  global_average_layer,\n",
        "  prediction_layer\n",
        "])\n",
        "\n",
        "base_learning_rate = 0.0001\n",
        "model.compile(optimizer=tf.keras.optimizers.Adam(learning_rate=base_learning_rate),\n",
        "              loss=tf.keras.losses.CategoricalCrossentropy(from_logits=True),\n",
        "              metrics=['accuracy',keras.metrics.Recall(name='recall'),keras.metrics.Precision(name='precision'),f1_score, keras.metrics.AUC(name='auc')])"
      ]
    },
    {
      "cell_type": "code",
      "execution_count": 8,
      "metadata": {
        "colab": {
          "base_uri": "https://localhost:8080/"
        },
        "id": "CIIw0qXED0AU",
        "outputId": "73d365dd-e1bf-4d5a-f356-a08bb4fc8ab9"
      },
      "outputs": [
        {
          "name": "stdout",
          "output_type": "stream",
          "text": [
            "Model: \"sequential\"\n",
            "_________________________________________________________________\n",
            " Layer (type)                Output Shape              Param #   \n",
            "=================================================================\n",
            " mobilenetv2_1.00_160 (Funct  (None, 5, 5, 1280)       2257984   \n",
            " ional)                                                          \n",
            "                                                                 \n",
            " global_average_pooling2d (G  (None, 1280)             0         \n",
            " lobalAveragePooling2D)                                          \n",
            "                                                                 \n",
            " dense (Dense)               (None, 20)                25620     \n",
            "                                                                 \n",
            "=================================================================\n",
            "Total params: 2,283,604\n",
            "Trainable params: 1,065,620\n",
            "Non-trainable params: 1,217,984\n",
            "_________________________________________________________________\n"
          ]
        }
      ],
      "source": [
        "model.summary()"
      ]
    },
    {
      "cell_type": "code",
      "execution_count": 9,
      "metadata": {
        "id": "QkbkuMst9GpK"
      },
      "outputs": [],
      "source": [
        "validation_steps=150\n",
        "initial_epochs = 150"
      ]
    },
    {
      "cell_type": "code",
      "execution_count": 10,
      "metadata": {
        "id": "HnPnOua6NkVK"
      },
      "outputs": [],
      "source": [
        "model_checkpoint_callback = keras.callbacks.ModelCheckpoint(\n",
        "    monitor='val_accuracy',\n",
        "    filepath='E:/data/mobilenetv2.hdf5',\n",
        "    save_best_only=True,\n",
        "    mode='max',\n",
        "    verbose=1\n",
        "    )"
      ]
    },
    {
      "cell_type": "code",
      "execution_count": 11,
      "metadata": {
        "colab": {
          "base_uri": "https://localhost:8080/",
          "height": 435
        },
        "id": "f5M4RXNJ9Tda",
        "outputId": "eba56205-cf8d-4fcb-99f8-8554e4a868a4"
      },
      "outputs": [
        {
          "name": "stdout",
          "output_type": "stream",
          "text": [
            "Epoch 1/150\n"
          ]
        },
        {
          "name": "stderr",
          "output_type": "stream",
          "text": [
            "c:\\Users\\SAPTARSHI PANI\\AppData\\Local\\Programs\\Python\\Python310\\lib\\site-packages\\tensorflow\\python\\util\\dispatch.py:1082: UserWarning: \"`categorical_crossentropy` received `from_logits=True`, but the `output` argument was produced by a sigmoid or softmax activation and thus does not represent logits. Was this intended?\"\n",
            "  return dispatch_target(*args, **kwargs)\n"
          ]
        },
        {
          "name": "stdout",
          "output_type": "stream",
          "text": [
            "  8/110 [=>............................] - ETA: 37:39 - loss: 2.8484 - accuracy: 0.1719 - recall: 0.0215 - precision: 0.8462 - f1_score: 0.0411 - auc: 0.6693        "
          ]
        }
      ],
      "source": [
        "history = model.fit(train_dataset,\n",
        "                    epochs=initial_epochs,\n",
        "                    validation_data=validation_dataset,verbose=1,callbacks=[model_checkpoint_callback],shuffle=True)"
      ]
    },
    {
      "cell_type": "code",
      "execution_count": null,
      "metadata": {
        "id": "xrYntJtXw_1V"
      },
      "outputs": [],
      "source": [
        "def Train_Val_Plot(acc,val_acc,loss,val_loss,auc,val_auc,precision,val_precision,recall,val_recall,f1_score,val_f1_score):\n",
        "    \n",
        "    fig, (ax1, ax2,ax3,ax4,ax5,ax6) = plt.subplots(1,4, figsize= (20,5))\n",
        "    fig.suptitle(\" MODEL'S METRICS VISUALIZATION \")\n",
        "\n",
        "    ax1.plot(range(1, len(acc) + 1), acc)\n",
        "    ax1.plot(range(1, len(val_acc) + 1), val_acc)\n",
        "    ax1.set_title('History of Accuracy')\n",
        "    ax1.set_xlabel('Epochs')\n",
        "    ax1.set_ylabel('Accuracy')\n",
        "    ax1.legend(['training', 'validation'])\n",
        "\n",
        "\n",
        "    ax2.plot(range(1, len(loss) + 1), loss)\n",
        "    ax2.plot(range(1, len(val_loss) + 1), val_loss)\n",
        "    ax2.set_title('History of Loss')\n",
        "    ax2.set_xlabel('Epochs')\n",
        "    ax2.set_ylabel('Loss')\n",
        "    ax2.legend(['training', 'validation'])\n",
        "    \n",
        "    ax3.plot(range(1, len(auc) + 1), auc)\n",
        "    ax3.plot(range(1, len(val_auc) + 1), val_auc)\n",
        "    ax3.set_title('History of AUC')\n",
        "    ax3.set_xlabel('Epochs')\n",
        "    ax3.set_ylabel('AUC')\n",
        "    ax3.legend(['training', 'validation'])\n",
        "    \n",
        "    ax4.plot(range(1, len(precision) + 1), precision)\n",
        "    ax4.plot(range(1, len(val_precision) + 1), val_precision)\n",
        "    ax4.set_title('History of Precision')\n",
        "    ax4.set_xlabel('Epochs')\n",
        "    ax4.set_ylabel('Precision')\n",
        "    ax4.legend(['training', 'validation'])\n",
        "\n",
        "    ax5.plot(range(1, len(recall) + 1), recall)\n",
        "    ax5.plot(range(1, len(val_recall) + 1), val_recall)\n",
        "    ax5.set_title('History of Recall')\n",
        "    ax5.set_xlabel('Epochs')\n",
        "    ax5.set_ylabel('Recall')\n",
        "    ax5.legend(['training', 'validation'])\n",
        "\n",
        "    ax6.plot(range(1, len(f1_score) + 1), f1_score)\n",
        "    ax6.plot(range(1, len(val_f1_score) + 1), val_f1_score)\n",
        "    ax6.set_title('History of F1 score')\n",
        "    ax6.set_xlabel('Epochs')\n",
        "    ax6.set_ylabel('Recall')\n",
        "    ax6.legend(['training', 'validation'])\n",
        "\n",
        "    plt.show()\n",
        "    \n",
        "\n",
        "Train_Val_Plot(history.history['accuracy'],history.history['val_accuracy'],\n",
        "               history.history['loss'],history.history['val_loss'],\n",
        "               history.history['auc'],history.history['val_auc'],\n",
        "               history.history['precision'],history.history['val_precision'],\n",
        "               history.history['recall'],history.history['val_recall'],\n",
        "               history.history['f1_score'],history.history['val_f1_score']\n",
        "              )"
      ]
    },
    {
      "cell_type": "code",
      "execution_count": null,
      "metadata": {
        "id": "7TPiWOoKrVNj"
      },
      "outputs": [],
      "source": [
        "model.save(\"E:/data/mobilenetv2.hdf5\")\n",
        "\n",
        "name_last_layer = str(model.layers[-1])\n",
        "name_seclast_layer = str(model.layers[-2])\n",
        "\n",
        "model2 = keras.Sequential()\n",
        "for layer in model.layers:\n",
        "    if str(layer) != name_last_layer:\n",
        "        if str(layer) != name_seclast_layer:\n",
        "            model2.add(layer)\n",
        "        \n",
        "model2.summary()    \n",
        "\n",
        "model2.save('E:/data/mobilenetv2_mod.hdf5')"
      ]
    },
    {
      "cell_type": "code",
      "execution_count": null,
      "metadata": {
        "id": "nvEF2qwowDy6"
      },
      "outputs": [],
      "source": [
        "model = keras.models.load_model(\"E:/data/mobilenetv2.hdf5\", custom_objects={\"f1_score\": f1_score })\n",
        "model.evaluate(test_dataset)"
      ]
    },
    {
      "cell_type": "code",
      "execution_count": null,
      "metadata": {
        "id": "zkKEQDs3A-74"
      },
      "outputs": [],
      "source": [
        "from sklearn.metrics import classification_report, confusion_matrix, ConfusionMatrixDisplay\n",
        "Y_pred = model.predict_generator(test_dataset, 1157)\n",
        "y_pred = np.argmax(Y_pred, axis=1)\n",
        "print('Confusion Matrix')\n",
        "disp = ConfusionMatrixDisplay(confusion_matrix(test_dataset.classes, y_pred),display_labels=['1','2','3','4','5','6','7','8','9','10','11','12','13','14','15','16','17','18','19','20'])\n",
        "disp.plot()\n",
        "plt.show()\n",
        "print('Classification Report')\n",
        "target_names = ['1','2','3','4','5','6','7','8','9','10','11','12','13','14','15','16','17','18','19','20']\n",
        "print(classification_report(test_dataset.classes, y_pred, target_names=target_names))"
      ]
    },
    {
      "cell_type": "code",
      "execution_count": null,
      "metadata": {
        "id": "v2D3MwJCJnmZ"
      },
      "outputs": [],
      "source": []
    }
  ],
  "metadata": {
    "colab": {
      "provenance": []
    },
    "gpuClass": "standard",
    "kernelspec": {
      "display_name": "Python 3",
      "language": "python",
      "name": "python3"
    },
    "language_info": {
      "codemirror_mode": {
        "name": "ipython",
        "version": 3
      },
      "file_extension": ".py",
      "mimetype": "text/x-python",
      "name": "python",
      "nbconvert_exporter": "python",
      "pygments_lexer": "ipython3",
      "version": "3.10.4"
    },
    "vscode": {
      "interpreter": {
        "hash": "dafe6867910730a70b3603e6871cbba46036c394fd190e21ead1062e672e8700"
      }
    }
  },
  "nbformat": 4,
  "nbformat_minor": 0
}
