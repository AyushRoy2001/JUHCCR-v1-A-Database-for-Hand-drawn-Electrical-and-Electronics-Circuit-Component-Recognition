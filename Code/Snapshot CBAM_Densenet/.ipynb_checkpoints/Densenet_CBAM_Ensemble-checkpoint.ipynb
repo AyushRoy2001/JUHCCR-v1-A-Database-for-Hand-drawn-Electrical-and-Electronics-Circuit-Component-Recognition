{
 "cells": [
  {
   "cell_type": "code",
   "execution_count": 1,
   "id": "b041422f",
   "metadata": {
    "executionInfo": {
     "elapsed": 14522,
     "status": "ok",
     "timestamp": 1675525959962,
     "user": {
      "displayName": "Ayush Roy",
      "userId": "08989709777079707146"
     },
     "user_tz": -330
    },
    "id": "b041422f"
   },
   "outputs": [],
   "source": [
    "import cv2\n",
    "import numpy as np\n",
    "import pandas as pd\n",
    "import os\n",
    "%matplotlib inline\n",
    "import matplotlib.pyplot as plt\n",
    "import matplotlib.image as mpimg\n",
    "import tensorflow.keras as K\n",
    "import tensorflow.keras.backend as Kback\n",
    "from sklearn.metrics import classification_report, confusion_matrix, ConfusionMatrixDisplay\n",
    "from scipy.fftpack import dct\n",
    "import tensorflow as tf\n",
    "from sklearn.preprocessing import OneHotEncoder"
   ]
  },
  {
   "cell_type": "code",
   "execution_count": 2,
   "id": "039b73cc",
   "metadata": {},
   "outputs": [],
   "source": [
    "from sklearn.datasets import make_blobs\n",
    "from keras.utils import to_categorical\n",
    "from keras.models import Sequential\n",
    "from keras.layers import Dense\n",
    "from keras.callbacks import Callback\n",
    "from keras.optimizers import SGD\n",
    "from keras import backend\n",
    "from math import pi\n",
    "from math import cos\n",
    "from math import floor"
   ]
  },
  {
   "cell_type": "markdown",
   "id": "e0856738",
   "metadata": {},
   "source": [
    "# Snapshot Ensemble"
   ]
  },
  {
   "cell_type": "code",
   "execution_count": 3,
   "id": "9b143747",
   "metadata": {},
   "outputs": [],
   "source": [
    "# snapshot ensemble with custom learning rate schedule\n",
    "class SnapshotEnsemble(Callback):\n",
    "\t# constructor\n",
    "\tdef __init__(self, n_epochs, n_cycles, lrate_max, verbose=0):\n",
    "\t\tself.epochs = n_epochs\n",
    "\t\tself.cycles = n_cycles\n",
    "\t\tself.lr_max = lrate_max\n",
    "\t\tself.lrates = list()\n",
    "\n",
    "\t# calculate learning rate for epoch\n",
    "\tdef cosine_annealing(self, epoch, n_epochs, n_cycles, lrate_max):\n",
    "\t\tepochs_per_cycle = floor(n_epochs/n_cycles)\n",
    "\t\tcos_inner = (pi * (epoch % epochs_per_cycle)) / (epochs_per_cycle)\n",
    "\t\treturn lrate_max/2 * (cos(cos_inner) + 1)\n",
    "\n",
    "\t# calculate and set learning rate at the start of the epoch\n",
    "\tdef on_epoch_begin(self, epoch, logs={}):\n",
    "\t\t# calculate learning rate\n",
    "\t\tlr = self.cosine_annealing(epoch, self.epochs, self.cycles, self.lr_max)\n",
    "\t\t# set learning rate\n",
    "\t\tbackend.set_value(self.model.optimizer.lr, lr)\n",
    "\t\t# log value\n",
    "\t\tself.lrates.append(lr)\n",
    "\n",
    "\t# save models at the end of each cycle\n",
    "\tdef on_epoch_end(self, epoch, logs={}):\n",
    "\t\t# check if we can save model\n",
    "\t\tepochs_per_cycle = floor(self.epochs / self.cycles)\n",
    "\t\tif epoch != 0 and (epoch + 1) % epochs_per_cycle == 0:\n",
    "\t\t\t# save model to file\n",
    "\t\t\tfilename = \"snapshot_model_%d.h5\" % int((epoch + 1) / epochs_per_cycle)\n",
    "\t\t\tself.model.save(filename)\n",
    "\t\t\tprint('>saved snapshot %s, epoch %d' % (filename, epoch))"
   ]
  },
  {
   "cell_type": "markdown",
   "id": "835ef538",
   "metadata": {
    "id": "835ef538"
   },
   "source": [
    "# Load dataset"
   ]
  },
  {
   "cell_type": "code",
   "execution_count": 4,
   "id": "b8e9bbfe",
   "metadata": {},
   "outputs": [
    {
     "name": "stdout",
     "output_type": "stream",
     "text": [
      "Found 7000 images belonging to 20 classes.\n",
      "Found 3000 images belonging to 20 classes.\n",
      "Found 2000 images belonging to 20 classes.\n"
     ]
    }
   ],
   "source": [
    "train_datagen = K.preprocessing.image.ImageDataGenerator(rescale = 1./255, validation_split = 0.3)   \n",
    "\n",
    "train_dataset  = train_datagen.flow_from_directory(directory = 'D:/RESEARCH/Circuit component recognition/train',\n",
    "                                                   target_size = (160,160),\n",
    "                                                   class_mode = 'categorical',\n",
    "                                                   subset = 'training',\n",
    "                                                   shuffle=True,\n",
    "                                                   batch_size = 64)\n",
    "validation_dataset  = train_datagen.flow_from_directory(directory = 'D:/RESEARCH/Circuit component recognition/train',\n",
    "                                                   target_size = (160,160),\n",
    "                                                   class_mode = 'categorical',\n",
    "                                                   subset = 'validation',\n",
    "                                                   shuffle=True,\n",
    "                                                   batch_size = 64)\n",
    "\n",
    "\n",
    "test_datagen = K.preprocessing.image.ImageDataGenerator(rescale = 1./255)   \n",
    "\n",
    "test_dataset  = test_datagen.flow_from_directory(directory = 'D:/RESEARCH/Circuit component recognition/test',\n",
    "                                                   target_size = (160,160),\n",
    "                                                   class_mode = 'categorical',\n",
    "                                                   subset = 'training',\n",
    "                                                   shuffle=False,\n",
    "                                                   batch_size = 64)"
   ]
  },
  {
   "cell_type": "markdown",
   "id": "a8a99350",
   "metadata": {
    "id": "a8a99350"
   },
   "source": [
    "# DenseNet121"
   ]
  },
  {
   "cell_type": "code",
   "execution_count": 5,
   "id": "3cfa8d68",
   "metadata": {
    "colab": {
     "base_uri": "https://localhost:8080/"
    },
    "executionInfo": {
     "elapsed": 3849,
     "status": "ok",
     "timestamp": 1675525972032,
     "user": {
      "displayName": "Ayush Roy",
      "userId": "08989709777079707146"
     },
     "user_tz": -330
    },
    "id": "3cfa8d68",
    "outputId": "87e09802-d676-4196-cdb1-d679a43f9eed"
   },
   "outputs": [
    {
     "name": "stdout",
     "output_type": "stream",
     "text": [
      "0 input_1 - False\n",
      "1 zero_padding2d - False\n",
      "2 conv1/conv - False\n",
      "3 conv1/bn - False\n",
      "4 conv1/relu - False\n",
      "5 zero_padding2d_1 - False\n",
      "6 pool1 - False\n",
      "7 conv2_block1_0_bn - False\n",
      "8 conv2_block1_0_relu - False\n",
      "9 conv2_block1_1_conv - False\n",
      "10 conv2_block1_1_bn - False\n",
      "11 conv2_block1_1_relu - False\n",
      "12 conv2_block1_2_conv - False\n",
      "13 conv2_block1_concat - False\n",
      "14 conv2_block2_0_bn - False\n",
      "15 conv2_block2_0_relu - False\n",
      "16 conv2_block2_1_conv - False\n",
      "17 conv2_block2_1_bn - False\n",
      "18 conv2_block2_1_relu - False\n",
      "19 conv2_block2_2_conv - False\n",
      "20 conv2_block2_concat - False\n",
      "21 conv2_block3_0_bn - False\n",
      "22 conv2_block3_0_relu - False\n",
      "23 conv2_block3_1_conv - False\n",
      "24 conv2_block3_1_bn - False\n",
      "25 conv2_block3_1_relu - False\n",
      "26 conv2_block3_2_conv - False\n",
      "27 conv2_block3_concat - False\n",
      "28 conv2_block4_0_bn - False\n",
      "29 conv2_block4_0_relu - False\n",
      "30 conv2_block4_1_conv - False\n",
      "31 conv2_block4_1_bn - False\n",
      "32 conv2_block4_1_relu - False\n",
      "33 conv2_block4_2_conv - False\n",
      "34 conv2_block4_concat - False\n",
      "35 conv2_block5_0_bn - False\n",
      "36 conv2_block5_0_relu - False\n",
      "37 conv2_block5_1_conv - False\n",
      "38 conv2_block5_1_bn - False\n",
      "39 conv2_block5_1_relu - False\n",
      "40 conv2_block5_2_conv - False\n",
      "41 conv2_block5_concat - False\n",
      "42 conv2_block6_0_bn - False\n",
      "43 conv2_block6_0_relu - False\n",
      "44 conv2_block6_1_conv - False\n",
      "45 conv2_block6_1_bn - False\n",
      "46 conv2_block6_1_relu - False\n",
      "47 conv2_block6_2_conv - False\n",
      "48 conv2_block6_concat - False\n",
      "49 pool2_bn - False\n",
      "50 pool2_relu - False\n",
      "51 pool2_conv - False\n",
      "52 pool2_pool - False\n",
      "53 conv3_block1_0_bn - False\n",
      "54 conv3_block1_0_relu - False\n",
      "55 conv3_block1_1_conv - False\n",
      "56 conv3_block1_1_bn - False\n",
      "57 conv3_block1_1_relu - False\n",
      "58 conv3_block1_2_conv - False\n",
      "59 conv3_block1_concat - False\n",
      "60 conv3_block2_0_bn - False\n",
      "61 conv3_block2_0_relu - False\n",
      "62 conv3_block2_1_conv - False\n",
      "63 conv3_block2_1_bn - False\n",
      "64 conv3_block2_1_relu - False\n",
      "65 conv3_block2_2_conv - False\n",
      "66 conv3_block2_concat - False\n",
      "67 conv3_block3_0_bn - False\n",
      "68 conv3_block3_0_relu - False\n",
      "69 conv3_block3_1_conv - False\n",
      "70 conv3_block3_1_bn - False\n",
      "71 conv3_block3_1_relu - False\n",
      "72 conv3_block3_2_conv - False\n",
      "73 conv3_block3_concat - False\n",
      "74 conv3_block4_0_bn - False\n",
      "75 conv3_block4_0_relu - False\n",
      "76 conv3_block4_1_conv - False\n",
      "77 conv3_block4_1_bn - False\n",
      "78 conv3_block4_1_relu - False\n",
      "79 conv3_block4_2_conv - False\n",
      "80 conv3_block4_concat - False\n",
      "81 conv3_block5_0_bn - False\n",
      "82 conv3_block5_0_relu - False\n",
      "83 conv3_block5_1_conv - False\n",
      "84 conv3_block5_1_bn - False\n",
      "85 conv3_block5_1_relu - False\n",
      "86 conv3_block5_2_conv - False\n",
      "87 conv3_block5_concat - False\n",
      "88 conv3_block6_0_bn - False\n",
      "89 conv3_block6_0_relu - False\n",
      "90 conv3_block6_1_conv - False\n",
      "91 conv3_block6_1_bn - False\n",
      "92 conv3_block6_1_relu - False\n",
      "93 conv3_block6_2_conv - False\n",
      "94 conv3_block6_concat - False\n",
      "95 conv3_block7_0_bn - False\n",
      "96 conv3_block7_0_relu - False\n",
      "97 conv3_block7_1_conv - False\n",
      "98 conv3_block7_1_bn - False\n",
      "99 conv3_block7_1_relu - False\n",
      "100 conv3_block7_2_conv - False\n",
      "101 conv3_block7_concat - False\n",
      "102 conv3_block8_0_bn - False\n",
      "103 conv3_block8_0_relu - False\n",
      "104 conv3_block8_1_conv - False\n",
      "105 conv3_block8_1_bn - False\n",
      "106 conv3_block8_1_relu - False\n",
      "107 conv3_block8_2_conv - False\n",
      "108 conv3_block8_concat - False\n",
      "109 conv3_block9_0_bn - False\n",
      "110 conv3_block9_0_relu - False\n",
      "111 conv3_block9_1_conv - False\n",
      "112 conv3_block9_1_bn - False\n",
      "113 conv3_block9_1_relu - False\n",
      "114 conv3_block9_2_conv - False\n",
      "115 conv3_block9_concat - False\n",
      "116 conv3_block10_0_bn - False\n",
      "117 conv3_block10_0_relu - False\n",
      "118 conv3_block10_1_conv - False\n",
      "119 conv3_block10_1_bn - False\n",
      "120 conv3_block10_1_relu - False\n",
      "121 conv3_block10_2_conv - False\n",
      "122 conv3_block10_concat - False\n",
      "123 conv3_block11_0_bn - False\n",
      "124 conv3_block11_0_relu - False\n",
      "125 conv3_block11_1_conv - False\n",
      "126 conv3_block11_1_bn - False\n",
      "127 conv3_block11_1_relu - False\n",
      "128 conv3_block11_2_conv - False\n",
      "129 conv3_block11_concat - False\n",
      "130 conv3_block12_0_bn - False\n",
      "131 conv3_block12_0_relu - False\n",
      "132 conv3_block12_1_conv - False\n",
      "133 conv3_block12_1_bn - False\n",
      "134 conv3_block12_1_relu - False\n",
      "135 conv3_block12_2_conv - False\n",
      "136 conv3_block12_concat - False\n",
      "137 pool3_bn - False\n",
      "138 pool3_relu - False\n",
      "139 pool3_conv - False\n",
      "140 pool3_pool - False\n",
      "141 conv4_block1_0_bn - False\n",
      "142 conv4_block1_0_relu - False\n",
      "143 conv4_block1_1_conv - False\n",
      "144 conv4_block1_1_bn - False\n",
      "145 conv4_block1_1_relu - False\n",
      "146 conv4_block1_2_conv - False\n",
      "147 conv4_block1_concat - False\n",
      "148 conv4_block2_0_bn - False\n",
      "149 conv4_block2_0_relu - False\n",
      "150 conv4_block2_1_conv - False\n",
      "151 conv4_block2_1_bn - False\n",
      "152 conv4_block2_1_relu - False\n",
      "153 conv4_block2_2_conv - False\n",
      "154 conv4_block2_concat - False\n",
      "155 conv4_block3_0_bn - False\n",
      "156 conv4_block3_0_relu - False\n",
      "157 conv4_block3_1_conv - False\n",
      "158 conv4_block3_1_bn - False\n",
      "159 conv4_block3_1_relu - False\n",
      "160 conv4_block3_2_conv - False\n",
      "161 conv4_block3_concat - False\n",
      "162 conv4_block4_0_bn - False\n",
      "163 conv4_block4_0_relu - False\n",
      "164 conv4_block4_1_conv - False\n",
      "165 conv4_block4_1_bn - False\n",
      "166 conv4_block4_1_relu - False\n",
      "167 conv4_block4_2_conv - False\n",
      "168 conv4_block4_concat - False\n",
      "169 conv4_block5_0_bn - False\n",
      "170 conv4_block5_0_relu - False\n",
      "171 conv4_block5_1_conv - False\n",
      "172 conv4_block5_1_bn - False\n",
      "173 conv4_block5_1_relu - False\n",
      "174 conv4_block5_2_conv - False\n",
      "175 conv4_block5_concat - False\n",
      "176 conv4_block6_0_bn - False\n",
      "177 conv4_block6_0_relu - False\n",
      "178 conv4_block6_1_conv - False\n",
      "179 conv4_block6_1_bn - False\n",
      "180 conv4_block6_1_relu - False\n",
      "181 conv4_block6_2_conv - False\n",
      "182 conv4_block6_concat - False\n",
      "183 conv4_block7_0_bn - False\n",
      "184 conv4_block7_0_relu - False\n",
      "185 conv4_block7_1_conv - False\n",
      "186 conv4_block7_1_bn - False\n",
      "187 conv4_block7_1_relu - False\n",
      "188 conv4_block7_2_conv - False\n",
      "189 conv4_block7_concat - False\n",
      "190 conv4_block8_0_bn - False\n",
      "191 conv4_block8_0_relu - False\n",
      "192 conv4_block8_1_conv - False\n",
      "193 conv4_block8_1_bn - False\n",
      "194 conv4_block8_1_relu - False\n",
      "195 conv4_block8_2_conv - False\n",
      "196 conv4_block8_concat - False\n",
      "197 conv4_block9_0_bn - False\n",
      "198 conv4_block9_0_relu - False\n",
      "199 conv4_block9_1_conv - False\n",
      "200 conv4_block9_1_bn - False\n",
      "201 conv4_block9_1_relu - False\n",
      "202 conv4_block9_2_conv - False\n",
      "203 conv4_block9_concat - False\n",
      "204 conv4_block10_0_bn - False\n",
      "205 conv4_block10_0_relu - False\n",
      "206 conv4_block10_1_conv - False\n",
      "207 conv4_block10_1_bn - False\n",
      "208 conv4_block10_1_relu - False\n",
      "209 conv4_block10_2_conv - False\n",
      "210 conv4_block10_concat - False\n",
      "211 conv4_block11_0_bn - False\n",
      "212 conv4_block11_0_relu - False\n",
      "213 conv4_block11_1_conv - False\n",
      "214 conv4_block11_1_bn - False\n",
      "215 conv4_block11_1_relu - False\n",
      "216 conv4_block11_2_conv - False\n",
      "217 conv4_block11_concat - False\n",
      "218 conv4_block12_0_bn - False\n",
      "219 conv4_block12_0_relu - False\n",
      "220 conv4_block12_1_conv - False\n",
      "221 conv4_block12_1_bn - False\n",
      "222 conv4_block12_1_relu - False\n",
      "223 conv4_block12_2_conv - False\n",
      "224 conv4_block12_concat - False\n",
      "225 conv4_block13_0_bn - False\n",
      "226 conv4_block13_0_relu - False\n",
      "227 conv4_block13_1_conv - False\n",
      "228 conv4_block13_1_bn - False\n",
      "229 conv4_block13_1_relu - False\n",
      "230 conv4_block13_2_conv - False\n",
      "231 conv4_block13_concat - False\n",
      "232 conv4_block14_0_bn - False\n",
      "233 conv4_block14_0_relu - False\n",
      "234 conv4_block14_1_conv - False\n",
      "235 conv4_block14_1_bn - False\n",
      "236 conv4_block14_1_relu - False\n",
      "237 conv4_block14_2_conv - False\n",
      "238 conv4_block14_concat - False\n",
      "239 conv4_block15_0_bn - False\n",
      "240 conv4_block15_0_relu - False\n",
      "241 conv4_block15_1_conv - False\n",
      "242 conv4_block15_1_bn - False\n",
      "243 conv4_block15_1_relu - False\n",
      "244 conv4_block15_2_conv - False\n",
      "245 conv4_block15_concat - False\n",
      "246 conv4_block16_0_bn - False\n",
      "247 conv4_block16_0_relu - False\n",
      "248 conv4_block16_1_conv - False\n",
      "249 conv4_block16_1_bn - False\n",
      "250 conv4_block16_1_relu - False\n",
      "251 conv4_block16_2_conv - False\n",
      "252 conv4_block16_concat - False\n",
      "253 conv4_block17_0_bn - False\n",
      "254 conv4_block17_0_relu - False\n",
      "255 conv4_block17_1_conv - False\n",
      "256 conv4_block17_1_bn - False\n",
      "257 conv4_block17_1_relu - False\n",
      "258 conv4_block17_2_conv - False\n",
      "259 conv4_block17_concat - False\n",
      "260 conv4_block18_0_bn - False\n",
      "261 conv4_block18_0_relu - False\n",
      "262 conv4_block18_1_conv - False\n",
      "263 conv4_block18_1_bn - False\n",
      "264 conv4_block18_1_relu - False\n",
      "265 conv4_block18_2_conv - False\n",
      "266 conv4_block18_concat - False\n",
      "267 conv4_block19_0_bn - False\n",
      "268 conv4_block19_0_relu - False\n",
      "269 conv4_block19_1_conv - False\n",
      "270 conv4_block19_1_bn - False\n",
      "271 conv4_block19_1_relu - False\n",
      "272 conv4_block19_2_conv - False\n",
      "273 conv4_block19_concat - False\n",
      "274 conv4_block20_0_bn - False\n",
      "275 conv4_block20_0_relu - False\n",
      "276 conv4_block20_1_conv - False\n",
      "277 conv4_block20_1_bn - False\n",
      "278 conv4_block20_1_relu - False\n",
      "279 conv4_block20_2_conv - False\n",
      "280 conv4_block20_concat - False\n",
      "281 conv4_block21_0_bn - False\n",
      "282 conv4_block21_0_relu - False\n",
      "283 conv4_block21_1_conv - False\n",
      "284 conv4_block21_1_bn - False\n",
      "285 conv4_block21_1_relu - False\n",
      "286 conv4_block21_2_conv - False\n",
      "287 conv4_block21_concat - False\n",
      "288 conv4_block22_0_bn - False\n",
      "289 conv4_block22_0_relu - False\n",
      "290 conv4_block22_1_conv - False\n",
      "291 conv4_block22_1_bn - False\n",
      "292 conv4_block22_1_relu - False\n",
      "293 conv4_block22_2_conv - False\n",
      "294 conv4_block22_concat - False\n",
      "295 conv4_block23_0_bn - False\n",
      "296 conv4_block23_0_relu - False\n",
      "297 conv4_block23_1_conv - False\n",
      "298 conv4_block23_1_bn - False\n",
      "299 conv4_block23_1_relu - False\n",
      "300 conv4_block23_2_conv - False\n",
      "301 conv4_block23_concat - False\n",
      "302 conv4_block24_0_bn - False\n",
      "303 conv4_block24_0_relu - False\n",
      "304 conv4_block24_1_conv - False\n",
      "305 conv4_block24_1_bn - False\n",
      "306 conv4_block24_1_relu - False\n",
      "307 conv4_block24_2_conv - False\n",
      "308 conv4_block24_concat - False\n",
      "309 pool4_bn - False\n",
      "310 pool4_relu - False\n",
      "311 pool4_conv - False\n",
      "312 pool4_pool - False\n",
      "313 conv5_block1_0_bn - False\n",
      "314 conv5_block1_0_relu - False\n",
      "315 conv5_block1_1_conv - False\n",
      "316 conv5_block1_1_bn - False\n",
      "317 conv5_block1_1_relu - False\n",
      "318 conv5_block1_2_conv - False\n",
      "319 conv5_block1_concat - False\n",
      "320 conv5_block2_0_bn - False\n",
      "321 conv5_block2_0_relu - False\n",
      "322 conv5_block2_1_conv - False\n",
      "323 conv5_block2_1_bn - False\n",
      "324 conv5_block2_1_relu - False\n",
      "325 conv5_block2_2_conv - False\n",
      "326 conv5_block2_concat - False\n",
      "327 conv5_block3_0_bn - False\n",
      "328 conv5_block3_0_relu - False\n",
      "329 conv5_block3_1_conv - False\n",
      "330 conv5_block3_1_bn - False\n",
      "331 conv5_block3_1_relu - False\n",
      "332 conv5_block3_2_conv - False\n",
      "333 conv5_block3_concat - False\n",
      "334 conv5_block4_0_bn - False\n",
      "335 conv5_block4_0_relu - False\n",
      "336 conv5_block4_1_conv - False\n",
      "337 conv5_block4_1_bn - False\n",
      "338 conv5_block4_1_relu - False\n",
      "339 conv5_block4_2_conv - False\n",
      "340 conv5_block4_concat - False\n",
      "341 conv5_block5_0_bn - False\n",
      "342 conv5_block5_0_relu - False\n",
      "343 conv5_block5_1_conv - False\n",
      "344 conv5_block5_1_bn - False\n",
      "345 conv5_block5_1_relu - False\n",
      "346 conv5_block5_2_conv - False\n",
      "347 conv5_block5_concat - False\n",
      "348 conv5_block6_0_bn - False\n",
      "349 conv5_block6_0_relu - False\n",
      "350 conv5_block6_1_conv - False\n",
      "351 conv5_block6_1_bn - False\n",
      "352 conv5_block6_1_relu - False\n",
      "353 conv5_block6_2_conv - False\n",
      "354 conv5_block6_concat - False\n",
      "355 conv5_block7_0_bn - False\n",
      "356 conv5_block7_0_relu - False\n",
      "357 conv5_block7_1_conv - False\n",
      "358 conv5_block7_1_bn - False\n",
      "359 conv5_block7_1_relu - False\n",
      "360 conv5_block7_2_conv - False\n",
      "361 conv5_block7_concat - False\n",
      "362 conv5_block8_0_bn - False\n",
      "363 conv5_block8_0_relu - False\n",
      "364 conv5_block8_1_conv - False\n",
      "365 conv5_block8_1_bn - False\n",
      "366 conv5_block8_1_relu - False\n",
      "367 conv5_block8_2_conv - False\n",
      "368 conv5_block8_concat - False\n",
      "369 conv5_block9_0_bn - False\n",
      "370 conv5_block9_0_relu - False\n",
      "371 conv5_block9_1_conv - False\n",
      "372 conv5_block9_1_bn - False\n",
      "373 conv5_block9_1_relu - False\n",
      "374 conv5_block9_2_conv - False\n",
      "375 conv5_block9_concat - False\n",
      "376 conv5_block10_0_bn - False\n",
      "377 conv5_block10_0_relu - False\n",
      "378 conv5_block10_1_conv - False\n",
      "379 conv5_block10_1_bn - False\n",
      "380 conv5_block10_1_relu - False\n",
      "381 conv5_block10_2_conv - False\n",
      "382 conv5_block10_concat - False\n",
      "383 conv5_block11_0_bn - False\n",
      "384 conv5_block11_0_relu - False\n",
      "385 conv5_block11_1_conv - False\n",
      "386 conv5_block11_1_bn - False\n",
      "387 conv5_block11_1_relu - False\n",
      "388 conv5_block11_2_conv - False\n",
      "389 conv5_block11_concat - False\n",
      "390 conv5_block12_0_bn - False\n",
      "391 conv5_block12_0_relu - False\n",
      "392 conv5_block12_1_conv - False\n",
      "393 conv5_block12_1_bn - False\n",
      "394 conv5_block12_1_relu - False\n",
      "395 conv5_block12_2_conv - False\n",
      "396 conv5_block12_concat - False\n",
      "397 conv5_block13_0_bn - False\n",
      "398 conv5_block13_0_relu - False\n",
      "399 conv5_block13_1_conv - False\n",
      "400 conv5_block13_1_bn - False\n",
      "401 conv5_block13_1_relu - False\n",
      "402 conv5_block13_2_conv - False\n",
      "403 conv5_block13_concat - False\n",
      "404 conv5_block14_0_bn - False\n",
      "405 conv5_block14_0_relu - False\n",
      "406 conv5_block14_1_conv - False\n",
      "407 conv5_block14_1_bn - False\n",
      "408 conv5_block14_1_relu - False\n",
      "409 conv5_block14_2_conv - False\n",
      "410 conv5_block14_concat - False\n",
      "411 conv5_block15_0_bn - False\n",
      "412 conv5_block15_0_relu - False\n",
      "413 conv5_block15_1_conv - False\n",
      "414 conv5_block15_1_bn - False\n",
      "415 conv5_block15_1_relu - False\n",
      "416 conv5_block15_2_conv - False\n",
      "417 conv5_block15_concat - False\n",
      "418 conv5_block16_0_bn - False\n",
      "419 conv5_block16_0_relu - False\n",
      "420 conv5_block16_1_conv - False\n",
      "421 conv5_block16_1_bn - False\n",
      "422 conv5_block16_1_relu - False\n",
      "423 conv5_block16_2_conv - False\n",
      "424 conv5_block16_concat - False\n",
      "425 bn - False\n",
      "426 relu - False\n"
     ]
    }
   ],
   "source": [
    "input_layer = K.Input(shape=(160,160,3))\n",
    "effnet_model = K.applications.DenseNet121(include_top = False, weights = \"imagenet\", input_tensor = input_layer)\n",
    "for layer in effnet_model.layers:\n",
    "    layer.trainable = False\n",
    "for i, layer in enumerate(effnet_model.layers):\n",
    "    print(i, layer.name, \"-\", layer.trainable)"
   ]
  },
  {
   "cell_type": "markdown",
   "id": "269bd5f3",
   "metadata": {},
   "source": [
    "# CBAM "
   ]
  },
  {
   "cell_type": "code",
   "execution_count": 6,
   "id": "6f787a3b",
   "metadata": {},
   "outputs": [],
   "source": [
    "def channel_attention_module(x, ratio=8):\n",
    "    batch, _, _, channel = x.shape\n",
    "    ## Shared layers\n",
    "    l1 = K.layers.Dense(channel//ratio, activation=\"relu\", use_bias=False)\n",
    "    l2 = K.layers.Dense(channel, use_bias=False)\n",
    "    ## Global Average Pooling\n",
    "    x1 = K.layers.GlobalAveragePooling2D()(x)\n",
    "    x1 = l1(x1)\n",
    "    x1 = l2(x1)\n",
    "    ## Global Max Pooling\n",
    "    x2 = K.layers.GlobalMaxPooling2D()(x)\n",
    "    x2 = l1(x2)\n",
    "    x2 = l2(x2)\n",
    "    ## Add both the features and pass through sigmoid\n",
    "    feats = x1 + x2\n",
    "    feats = K.layers.Activation(\"sigmoid\")(feats)\n",
    "    feats = K.layers.Multiply()([x, feats])\n",
    "\n",
    "    return feats\n",
    "\n",
    "def spatial_attention_module(x):\n",
    "    ## Average Pooling\n",
    "    x1 = tf.reduce_mean(x, axis=-1)\n",
    "    x1 = tf.expand_dims(x1, axis=-1)\n",
    "    ## Max Pooling\n",
    "    x2 = tf.reduce_max(x, axis=-1)\n",
    "    x2 = tf.expand_dims(x2, axis=-1)\n",
    "    ## Concatenat both the features\n",
    "    feats = K.layers.Concatenate()([x1, x2])\n",
    "    ## Conv layer\n",
    "    feats = K.layers.Conv2D(1, kernel_size=7, padding=\"same\", activation=\"sigmoid\")(feats)\n",
    "    feats = K.layers.Multiply()([x, feats])\n",
    "\n",
    "    return feats\n",
    "\n",
    "def cbam(x):\n",
    "    x = channel_attention_module(x)\n",
    "    x = spatial_attention_module(x)\n",
    "    return x"
   ]
  },
  {
   "cell_type": "code",
   "execution_count": 24,
   "id": "6448199a",
   "metadata": {
    "executionInfo": {
     "elapsed": 9,
     "status": "ok",
     "timestamp": 1675525973290,
     "user": {
      "displayName": "Ayush Roy",
      "userId": "08989709777079707146"
     },
     "user_tz": -330
    },
    "id": "6448199a"
   },
   "outputs": [],
   "source": [
    "def f1_score(y_true, y_pred): #taken from old keras source code\n",
    "    true_positives = Kback.sum(Kback.round(Kback.clip(y_true * y_pred, 0, 1)))\n",
    "    possible_positives = Kback.sum(Kback.round(Kback.clip(y_true, 0, 1)))\n",
    "    predicted_positives = Kback.sum(Kback.round(Kback.clip(y_pred, 0, 1)))\n",
    "    precision = true_positives / (predicted_positives + Kback.epsilon())\n",
    "    recall = true_positives / (possible_positives + Kback.epsilon())\n",
    "    f1_val = 2*(precision*recall)/(precision+recall+Kback.epsilon())\n",
    "    return f1_val\n",
    "\n",
    "METRICS = [\n",
    "      \"accuracy\",\n",
    "      K.metrics.Precision(name='precision'),\n",
    "      K.metrics.Recall(name='recall'),\n",
    "      K.metrics.AUC(name='auc'),\n",
    "      f1_score\n",
    "]"
   ]
  },
  {
   "cell_type": "code",
   "execution_count": 8,
   "id": "73b41be7",
   "metadata": {
    "colab": {
     "base_uri": "https://localhost:8080/"
    },
    "executionInfo": {
     "elapsed": 2039,
     "status": "ok",
     "timestamp": 1675505876469,
     "user": {
      "displayName": "Ayush Roy",
      "userId": "08989709777079707146"
     },
     "user_tz": -330
    },
    "id": "73b41be7",
    "outputId": "5de4aff7-8a5a-40c9-d40f-be7c698e9dc7"
   },
   "outputs": [
    {
     "name": "stdout",
     "output_type": "stream",
     "text": [
      "Model: \"model\"\n",
      "__________________________________________________________________________________________________\n",
      " Layer (type)                   Output Shape         Param #     Connected to                     \n",
      "==================================================================================================\n",
      " image (InputLayer)             [(None, 160, 160, 3  0           []                               \n",
      "                                )]                                                                \n",
      "                                                                                                  \n",
      " densenet121 (Functional)       (None, 5, 5, 1024)   7037504     ['image[0][0]']                  \n",
      "                                                                                                  \n",
      " global_average_pooling2d (Glob  (None, 1024)        0           ['densenet121[0][0]']            \n",
      " alAveragePooling2D)                                                                              \n",
      "                                                                                                  \n",
      " global_max_pooling2d (GlobalMa  (None, 1024)        0           ['densenet121[0][0]']            \n",
      " xPooling2D)                                                                                      \n",
      "                                                                                                  \n",
      " dense (Dense)                  (None, 128)          131072      ['global_average_pooling2d[0][0]'\n",
      "                                                                 , 'global_max_pooling2d[0][0]']  \n",
      "                                                                                                  \n",
      " dense_1 (Dense)                (None, 1024)         131072      ['dense[0][0]',                  \n",
      "                                                                  'dense[1][0]']                  \n",
      "                                                                                                  \n",
      " tf.__operators__.add (TFOpLamb  (None, 1024)        0           ['dense_1[0][0]',                \n",
      " da)                                                              'dense_1[1][0]']                \n",
      "                                                                                                  \n",
      " activation (Activation)        (None, 1024)         0           ['tf.__operators__.add[0][0]']   \n",
      "                                                                                                  \n",
      " multiply (Multiply)            (None, 5, 5, 1024)   0           ['densenet121[0][0]',            \n",
      "                                                                  'activation[0][0]']             \n",
      "                                                                                                  \n",
      " tf.math.reduce_mean (TFOpLambd  (None, 5, 5)        0           ['multiply[0][0]']               \n",
      " a)                                                                                               \n",
      "                                                                                                  \n",
      " tf.math.reduce_max (TFOpLambda  (None, 5, 5)        0           ['multiply[0][0]']               \n",
      " )                                                                                                \n",
      "                                                                                                  \n",
      " tf.expand_dims (TFOpLambda)    (None, 5, 5, 1)      0           ['tf.math.reduce_mean[0][0]']    \n",
      "                                                                                                  \n",
      " tf.expand_dims_1 (TFOpLambda)  (None, 5, 5, 1)      0           ['tf.math.reduce_max[0][0]']     \n",
      "                                                                                                  \n",
      " concatenate (Concatenate)      (None, 5, 5, 2)      0           ['tf.expand_dims[0][0]',         \n",
      "                                                                  'tf.expand_dims_1[0][0]']       \n",
      "                                                                                                  \n",
      " conv2d (Conv2D)                (None, 5, 5, 1)      99          ['concatenate[0][0]']            \n",
      "                                                                                                  \n",
      " multiply_1 (Multiply)          (None, 5, 5, 1024)   0           ['multiply[0][0]',               \n",
      "                                                                  'conv2d[0][0]']                 \n",
      "                                                                                                  \n",
      " global_average_pooling2d_1 (Gl  (None, 1024)        0           ['multiply_1[0][0]']             \n",
      " obalAveragePooling2D)                                                                            \n",
      "                                                                                                  \n",
      " dense_2 (Dense)                (None, 20)           20500       ['global_average_pooling2d_1[0][0\n",
      "                                                                 ]']                              \n",
      "                                                                                                  \n",
      "==================================================================================================\n",
      "Total params: 7,320,247\n",
      "Trainable params: 282,743\n",
      "Non-trainable params: 7,037,504\n",
      "__________________________________________________________________________________________________\n"
     ]
    },
    {
     "name": "stderr",
     "output_type": "stream",
     "text": [
      "C:\\Python\\lib\\site-packages\\keras\\optimizers\\optimizer_v2\\adam.py:110: UserWarning: The `lr` argument is deprecated, use `learning_rate` instead.\n",
      "  super(Adam, self).__init__(name, **kwargs)\n"
     ]
    }
   ],
   "source": [
    "inputs = K.layers.Input(shape=(160,160,3), name=\"image\") \n",
    "\n",
    "resnet50 = effnet_model(inputs)\n",
    "cbam_lay = cbam(resnet50)\n",
    "flat = K.layers.GlobalAveragePooling2D()(cbam_lay)\n",
    "output = K.layers.Dense(20, activation='softmax')(flat)\n",
    "\n",
    "model = K.Model(inputs=inputs, outputs=output)\n",
    "optimizer = K.optimizers.Adam(lr=0.001, beta_1=0.9, beta_2=0.999, clipnorm=1.0)\n",
    "model.compile(loss=[\"categorical_crossentropy\"], metrics=METRICS, optimizer = optimizer)\n",
    "model.summary()"
   ]
  },
  {
   "cell_type": "markdown",
   "id": "88aece6c",
   "metadata": {
    "id": "88aece6c"
   },
   "source": [
    "# Training"
   ]
  },
  {
   "cell_type": "code",
   "execution_count": 9,
   "id": "3d545613",
   "metadata": {
    "colab": {
     "base_uri": "https://localhost:8080/"
    },
    "id": "3d545613",
    "outputId": "80f3bd44-a3f1-444d-aa00-3755d0ea4a19"
   },
   "outputs": [
    {
     "name": "stdout",
     "output_type": "stream",
     "text": [
      "Epoch 1/100\n",
      "110/110 [==============================] - 688s 6s/step - loss: 1.4218 - accuracy: 0.6267 - precision: 0.8706 - recall: 0.3190 - auc: 0.9548 - f1_score: 0.3915 - val_loss: 0.6353 - val_accuracy: 0.7800 - val_precision: 0.8408 - val_recall: 0.6917 - val_auc: 0.9897 - val_f1_score: 0.7578\n",
      "Epoch 2/100\n",
      "110/110 [==============================] - 613s 6s/step - loss: 0.3920 - accuracy: 0.8874 - precision: 0.9229 - recall: 0.8209 - auc: 0.9973 - f1_score: 0.8678 - val_loss: 0.4791 - val_accuracy: 0.8317 - val_precision: 0.8554 - val_recall: 0.7967 - val_auc: 0.9930 - val_f1_score: 0.8250\n",
      "Epoch 3/100\n",
      "110/110 [==============================] - 607s 6s/step - loss: 0.2562 - accuracy: 0.9260 - precision: 0.9433 - recall: 0.8984 - auc: 0.9988 - f1_score: 0.9204 - val_loss: 0.4260 - val_accuracy: 0.8387 - val_precision: 0.8593 - val_recall: 0.8203 - val_auc: 0.9938 - val_f1_score: 0.8393\n",
      "Epoch 4/100\n",
      "110/110 [==============================] - 606s 6s/step - loss: 0.1856 - accuracy: 0.9476 - precision: 0.9581 - recall: 0.9317 - auc: 0.9994 - f1_score: 0.9442 - val_loss: 0.4171 - val_accuracy: 0.8450 - val_precision: 0.8532 - val_recall: 0.8293 - val_auc: 0.9937 - val_f1_score: 0.8409\n",
      "Epoch 5/100\n",
      "110/110 [==============================] - 605s 6s/step - loss: 0.1474 - accuracy: 0.9600 - precision: 0.9666 - recall: 0.9494 - auc: 0.9996 - f1_score: 0.9578 - val_loss: 0.3451 - val_accuracy: 0.8743 - val_precision: 0.8837 - val_recall: 0.8633 - val_auc: 0.9949 - val_f1_score: 0.8732\n",
      "Epoch 6/100\n",
      "110/110 [==============================] - 608s 6s/step - loss: 0.1130 - accuracy: 0.9721 - precision: 0.9762 - recall: 0.9660 - auc: 0.9998 - f1_score: 0.9710 - val_loss: 0.3231 - val_accuracy: 0.8820 - val_precision: 0.8929 - val_recall: 0.8730 - val_auc: 0.9947 - val_f1_score: 0.8827\n",
      "Epoch 7/100\n",
      "110/110 [==============================] - 602s 5s/step - loss: 0.0888 - accuracy: 0.9796 - precision: 0.9816 - recall: 0.9741 - auc: 0.9999 - f1_score: 0.9779 - val_loss: 0.3352 - val_accuracy: 0.8793 - val_precision: 0.8917 - val_recall: 0.8703 - val_auc: 0.9948 - val_f1_score: 0.8807\n",
      "Epoch 8/100\n",
      "110/110 [==============================] - 602s 6s/step - loss: 0.0694 - accuracy: 0.9839 - precision: 0.9866 - recall: 0.9811 - auc: 0.9999 - f1_score: 0.9840 - val_loss: 0.3596 - val_accuracy: 0.8737 - val_precision: 0.8821 - val_recall: 0.8630 - val_auc: 0.9936 - val_f1_score: 0.8724\n",
      "Epoch 9/100\n",
      "110/110 [==============================] - 602s 5s/step - loss: 0.0583 - accuracy: 0.9876 - precision: 0.9894 - recall: 0.9849 - auc: 1.0000 - f1_score: 0.9869 - val_loss: 0.3313 - val_accuracy: 0.8870 - val_precision: 0.8958 - val_recall: 0.8793 - val_auc: 0.9929 - val_f1_score: 0.8874\n",
      "Epoch 10/100\n",
      "110/110 [==============================] - 603s 5s/step - loss: 0.0461 - accuracy: 0.9934 - precision: 0.9944 - recall: 0.9921 - auc: 1.0000 - f1_score: 0.9933 - val_loss: 0.3186 - val_accuracy: 0.8923 - val_precision: 0.9025 - val_recall: 0.8857 - val_auc: 0.9938 - val_f1_score: 0.8940\n",
      "Epoch 11/100\n",
      "110/110 [==============================] - 604s 6s/step - loss: 0.0376 - accuracy: 0.9946 - precision: 0.9958 - recall: 0.9934 - auc: 1.0000 - f1_score: 0.9947 - val_loss: 0.3094 - val_accuracy: 0.9017 - val_precision: 0.9084 - val_recall: 0.8953 - val_auc: 0.9939 - val_f1_score: 0.9017\n",
      "Epoch 12/100\n",
      "110/110 [==============================] - 603s 5s/step - loss: 0.0316 - accuracy: 0.9967 - precision: 0.9973 - recall: 0.9950 - auc: 1.0000 - f1_score: 0.9962 - val_loss: 0.3300 - val_accuracy: 0.8910 - val_precision: 0.8992 - val_recall: 0.8857 - val_auc: 0.9921 - val_f1_score: 0.8924\n",
      "Epoch 13/100\n",
      "110/110 [==============================] - 602s 5s/step - loss: 0.0276 - accuracy: 0.9969 - precision: 0.9981 - recall: 0.9963 - auc: 1.0000 - f1_score: 0.9971 - val_loss: 0.3310 - val_accuracy: 0.8953 - val_precision: 0.9024 - val_recall: 0.8903 - val_auc: 0.9925 - val_f1_score: 0.8963\n",
      "Epoch 14/100\n",
      "110/110 [==============================] - 602s 5s/step - loss: 0.0237 - accuracy: 0.9980 - precision: 0.9986 - recall: 0.9974 - auc: 1.0000 - f1_score: 0.9980 - val_loss: 0.3284 - val_accuracy: 0.8950 - val_precision: 0.9024 - val_recall: 0.8903 - val_auc: 0.9926 - val_f1_score: 0.8964\n",
      "Epoch 15/100\n",
      "110/110 [==============================] - 630s 6s/step - loss: 0.0216 - accuracy: 0.9987 - precision: 0.9990 - recall: 0.9983 - auc: 1.0000 - f1_score: 0.9986 - val_loss: 0.3193 - val_accuracy: 0.9003 - val_precision: 0.9068 - val_recall: 0.8947 - val_auc: 0.9931 - val_f1_score: 0.9007\n",
      "Epoch 16/100\n",
      "110/110 [==============================] - 632s 6s/step - loss: 0.0197 - accuracy: 0.9989 - precision: 0.9990 - recall: 0.9984 - auc: 1.0000 - f1_score: 0.9987 - val_loss: 0.3370 - val_accuracy: 0.8960 - val_precision: 0.9025 - val_recall: 0.8920 - val_auc: 0.9914 - val_f1_score: 0.8972\n",
      "Epoch 17/100\n",
      "110/110 [==============================] - 605s 6s/step - loss: 0.0186 - accuracy: 0.9990 - precision: 0.9993 - recall: 0.9984 - auc: 1.0000 - f1_score: 0.9989 - val_loss: 0.3285 - val_accuracy: 0.8973 - val_precision: 0.9047 - val_recall: 0.8920 - val_auc: 0.9921 - val_f1_score: 0.8982\n",
      "Epoch 18/100\n",
      "110/110 [==============================] - 601s 5s/step - loss: 0.0178 - accuracy: 0.9991 - precision: 0.9993 - recall: 0.9989 - auc: 1.0000 - f1_score: 0.9991 - val_loss: 0.3261 - val_accuracy: 0.9023 - val_precision: 0.9081 - val_recall: 0.8957 - val_auc: 0.9923 - val_f1_score: 0.9020\n",
      "Epoch 19/100\n",
      "110/110 [==============================] - 602s 5s/step - loss: 0.0172 - accuracy: 0.9991 - precision: 0.9993 - recall: 0.9989 - auc: 1.0000 - f1_score: 0.9991 - val_loss: 0.3298 - val_accuracy: 0.8987 - val_precision: 0.9060 - val_recall: 0.8930 - val_auc: 0.9918 - val_f1_score: 0.8992\n",
      "Epoch 20/100\n",
      "110/110 [==============================] - ETA: 0s - loss: 0.0170 - accuracy: 0.9991 - precision: 0.9994 - recall: 0.9989 - auc: 1.0000 - f1_score: 0.9991>saved snapshot snapshot_model_1.h5, epoch 19\n",
      "110/110 [==============================] - 603s 5s/step - loss: 0.0170 - accuracy: 0.9991 - precision: 0.9994 - recall: 0.9989 - auc: 1.0000 - f1_score: 0.9991 - val_loss: 0.3286 - val_accuracy: 0.8990 - val_precision: 0.9066 - val_recall: 0.8930 - val_auc: 0.9919 - val_f1_score: 0.8998\n",
      "Epoch 21/100\n",
      "110/110 [==============================] - 602s 5s/step - loss: 0.0557 - accuracy: 0.9863 - precision: 0.9877 - recall: 0.9847 - auc: 0.9997 - f1_score: 0.9863 - val_loss: 0.4234 - val_accuracy: 0.8690 - val_precision: 0.8781 - val_recall: 0.8623 - val_auc: 0.9889 - val_f1_score: 0.8700\n",
      "Epoch 22/100\n",
      "110/110 [==============================] - 603s 5s/step - loss: 0.0744 - accuracy: 0.9743 - precision: 0.9755 - recall: 0.9717 - auc: 0.9999 - f1_score: 0.9735 - val_loss: 0.5059 - val_accuracy: 0.8723 - val_precision: 0.8781 - val_recall: 0.8667 - val_auc: 0.9824 - val_f1_score: 0.8725\n",
      "Epoch 23/100\n",
      "110/110 [==============================] - 602s 5s/step - loss: 0.0449 - accuracy: 0.9866 - precision: 0.9877 - recall: 0.9857 - auc: 0.9999 - f1_score: 0.9868 - val_loss: 0.3494 - val_accuracy: 0.8953 - val_precision: 0.9030 - val_recall: 0.8907 - val_auc: 0.9912 - val_f1_score: 0.8970\n",
      "Epoch 24/100\n",
      "110/110 [==============================] - 601s 5s/step - loss: 0.0300 - accuracy: 0.9933 - precision: 0.9938 - recall: 0.9920 - auc: 1.0000 - f1_score: 0.9930 - val_loss: 0.3700 - val_accuracy: 0.8967 - val_precision: 0.9017 - val_recall: 0.8930 - val_auc: 0.9894 - val_f1_score: 0.8971\n",
      "Epoch 25/100\n",
      "110/110 [==============================] - 601s 5s/step - loss: 0.0169 - accuracy: 0.9969 - precision: 0.9973 - recall: 0.9966 - auc: 1.0000 - f1_score: 0.9969 - val_loss: 0.3981 - val_accuracy: 0.8900 - val_precision: 0.8978 - val_recall: 0.8873 - val_auc: 0.9871 - val_f1_score: 0.8925\n",
      "Epoch 26/100\n",
      "110/110 [==============================] - 600s 5s/step - loss: 0.0130 - accuracy: 0.9976 - precision: 0.9979 - recall: 0.9974 - auc: 1.0000 - f1_score: 0.9977 - val_loss: 0.3731 - val_accuracy: 0.8967 - val_precision: 0.9036 - val_recall: 0.8937 - val_auc: 0.9895 - val_f1_score: 0.8986\n",
      "Epoch 27/100\n",
      "110/110 [==============================] - 599s 5s/step - loss: 0.0082 - accuracy: 0.9991 - precision: 0.9993 - recall: 0.9991 - auc: 1.0000 - f1_score: 0.9992 - val_loss: 0.3793 - val_accuracy: 0.9010 - val_precision: 0.9061 - val_recall: 0.8970 - val_auc: 0.9879 - val_f1_score: 0.9013\n"
     ]
    },
    {
     "name": "stdout",
     "output_type": "stream",
     "text": [
      "Epoch 28/100\n",
      "110/110 [==============================] - 602s 5s/step - loss: 0.0056 - accuracy: 0.9994 - precision: 0.9994 - recall: 0.9993 - auc: 1.0000 - f1_score: 0.9994 - val_loss: 0.3713 - val_accuracy: 0.9023 - val_precision: 0.9061 - val_recall: 0.9003 - val_auc: 0.9875 - val_f1_score: 0.9032\n",
      "Epoch 29/100\n",
      "110/110 [==============================] - 603s 5s/step - loss: 0.0048 - accuracy: 0.9997 - precision: 0.9997 - recall: 0.9996 - auc: 1.0000 - f1_score: 0.9996 - val_loss: 0.3591 - val_accuracy: 0.9050 - val_precision: 0.9092 - val_recall: 0.9040 - val_auc: 0.9881 - val_f1_score: 0.9065\n",
      "Epoch 30/100\n",
      "110/110 [==============================] - 602s 5s/step - loss: 0.0038 - accuracy: 0.9997 - precision: 0.9997 - recall: 0.9997 - auc: 1.0000 - f1_score: 0.9997 - val_loss: 0.3632 - val_accuracy: 0.9050 - val_precision: 0.9095 - val_recall: 0.9040 - val_auc: 0.9884 - val_f1_score: 0.9065\n",
      "Epoch 31/100\n",
      "110/110 [==============================] - 601s 5s/step - loss: 0.0035 - accuracy: 0.9997 - precision: 0.9997 - recall: 0.9997 - auc: 1.0000 - f1_score: 0.9997 - val_loss: 0.3697 - val_accuracy: 0.9043 - val_precision: 0.9082 - val_recall: 0.9037 - val_auc: 0.9874 - val_f1_score: 0.9057\n",
      "Epoch 32/100\n",
      "110/110 [==============================] - 602s 5s/step - loss: 0.0032 - accuracy: 0.9996 - precision: 0.9996 - recall: 0.9996 - auc: 1.0000 - f1_score: 0.9996 - val_loss: 0.3662 - val_accuracy: 0.9047 - val_precision: 0.9091 - val_recall: 0.9033 - val_auc: 0.9879 - val_f1_score: 0.9063\n",
      "Epoch 33/100\n",
      "110/110 [==============================] - 602s 5s/step - loss: 0.0030 - accuracy: 0.9997 - precision: 0.9997 - recall: 0.9996 - auc: 1.0000 - f1_score: 0.9996 - val_loss: 0.3731 - val_accuracy: 0.9067 - val_precision: 0.9098 - val_recall: 0.9040 - val_auc: 0.9874 - val_f1_score: 0.9068\n",
      "Epoch 34/100\n",
      "110/110 [==============================] - 605s 6s/step - loss: 0.0029 - accuracy: 0.9997 - precision: 0.9997 - recall: 0.9997 - auc: 1.0000 - f1_score: 0.9997 - val_loss: 0.3696 - val_accuracy: 0.9070 - val_precision: 0.9110 - val_recall: 0.9047 - val_auc: 0.9875 - val_f1_score: 0.9078\n",
      "Epoch 35/100\n",
      "110/110 [==============================] - 603s 6s/step - loss: 0.0027 - accuracy: 0.9997 - precision: 0.9997 - recall: 0.9997 - auc: 1.0000 - f1_score: 0.9997 - val_loss: 0.3744 - val_accuracy: 0.9070 - val_precision: 0.9108 - val_recall: 0.9053 - val_auc: 0.9871 - val_f1_score: 0.9080\n",
      "Epoch 36/100\n",
      "110/110 [==============================] - 601s 5s/step - loss: 0.0027 - accuracy: 0.9999 - precision: 0.9999 - recall: 0.9997 - auc: 1.0000 - f1_score: 0.9997 - val_loss: 0.3734 - val_accuracy: 0.9057 - val_precision: 0.9092 - val_recall: 0.9047 - val_auc: 0.9871 - val_f1_score: 0.9069\n",
      "Epoch 37/100\n",
      "110/110 [==============================] - 602s 6s/step - loss: 0.0025 - accuracy: 0.9999 - precision: 0.9999 - recall: 0.9999 - auc: 1.0000 - f1_score: 0.9999 - val_loss: 0.3725 - val_accuracy: 0.9063 - val_precision: 0.9101 - val_recall: 0.9047 - val_auc: 0.9871 - val_f1_score: 0.9075\n",
      "Epoch 38/100\n",
      "110/110 [==============================] - 602s 5s/step - loss: 0.0025 - accuracy: 0.9999 - precision: 0.9999 - recall: 0.9997 - auc: 1.0000 - f1_score: 0.9998 - val_loss: 0.3735 - val_accuracy: 0.9073 - val_precision: 0.9115 - val_recall: 0.9060 - val_auc: 0.9870 - val_f1_score: 0.9085\n",
      "Epoch 39/100\n",
      "110/110 [==============================] - 603s 5s/step - loss: 0.0025 - accuracy: 0.9999 - precision: 0.9999 - recall: 0.9999 - auc: 1.0000 - f1_score: 0.9999 - val_loss: 0.3742 - val_accuracy: 0.9070 - val_precision: 0.9111 - val_recall: 0.9057 - val_auc: 0.9870 - val_f1_score: 0.9085\n",
      "Epoch 40/100\n",
      "110/110 [==============================] - ETA: 0s - loss: 0.0025 - accuracy: 0.9999 - precision: 0.9999 - recall: 0.9999 - auc: 1.0000 - f1_score: 0.9999>saved snapshot snapshot_model_2.h5, epoch 39\n",
      "110/110 [==============================] - 603s 5s/step - loss: 0.0025 - accuracy: 0.9999 - precision: 0.9999 - recall: 0.9999 - auc: 1.0000 - f1_score: 0.9999 - val_loss: 0.3743 - val_accuracy: 0.9070 - val_precision: 0.9111 - val_recall: 0.9057 - val_auc: 0.9870 - val_f1_score: 0.9084\n",
      "Epoch 41/100\n",
      "110/110 [==============================] - 601s 5s/step - loss: 0.0127 - accuracy: 0.9967 - precision: 0.9967 - recall: 0.9964 - auc: 0.9998 - f1_score: 0.9966 - val_loss: 0.5801 - val_accuracy: 0.8597 - val_precision: 0.8683 - val_recall: 0.8550 - val_auc: 0.9780 - val_f1_score: 0.8614\n",
      "Epoch 42/100\n",
      "110/110 [==============================] - 601s 5s/step - loss: 0.0701 - accuracy: 0.9747 - precision: 0.9768 - recall: 0.9736 - auc: 0.9996 - f1_score: 0.9753 - val_loss: 0.4775 - val_accuracy: 0.8643 - val_precision: 0.8710 - val_recall: 0.8623 - val_auc: 0.9838 - val_f1_score: 0.8669\n",
      "Epoch 43/100\n",
      "110/110 [==============================] - 601s 5s/step - loss: 0.0389 - accuracy: 0.9873 - precision: 0.9876 - recall: 0.9867 - auc: 1.0000 - f1_score: 0.9872 - val_loss: 0.4841 - val_accuracy: 0.8783 - val_precision: 0.8832 - val_recall: 0.8750 - val_auc: 0.9829 - val_f1_score: 0.8791\n",
      "Epoch 44/100\n",
      "110/110 [==============================] - 602s 5s/step - loss: 0.0217 - accuracy: 0.9940 - precision: 0.9943 - recall: 0.9939 - auc: 0.9999 - f1_score: 0.9941 - val_loss: 0.4612 - val_accuracy: 0.8880 - val_precision: 0.8923 - val_recall: 0.8867 - val_auc: 0.9833 - val_f1_score: 0.8893\n",
      "Epoch 45/100\n",
      "110/110 [==============================] - 601s 5s/step - loss: 0.0074 - accuracy: 0.9991 - precision: 0.9991 - recall: 0.9989 - auc: 1.0000 - f1_score: 0.9990 - val_loss: 0.4167 - val_accuracy: 0.8940 - val_precision: 0.8980 - val_recall: 0.8923 - val_auc: 0.9861 - val_f1_score: 0.8952\n",
      "Epoch 46/100\n",
      "110/110 [==============================] - 604s 6s/step - loss: 0.0078 - accuracy: 0.9974 - precision: 0.9976 - recall: 0.9974 - auc: 1.0000 - f1_score: 0.9973 - val_loss: 0.3920 - val_accuracy: 0.9030 - val_precision: 0.9070 - val_recall: 0.9010 - val_auc: 0.9862 - val_f1_score: 0.9040\n",
      "Epoch 47/100\n",
      "110/110 [==============================] - 601s 5s/step - loss: 0.0038 - accuracy: 0.9994 - precision: 0.9996 - recall: 0.9994 - auc: 1.0000 - f1_score: 0.9995 - val_loss: 0.4065 - val_accuracy: 0.9023 - val_precision: 0.9058 - val_recall: 0.9007 - val_auc: 0.9854 - val_f1_score: 0.9033\n",
      "Epoch 48/100\n",
      "110/110 [==============================] - 601s 5s/step - loss: 0.0019 - accuracy: 0.9996 - precision: 0.9997 - recall: 0.9996 - auc: 1.0000 - f1_score: 0.9996 - val_loss: 0.4029 - val_accuracy: 0.9037 - val_precision: 0.9072 - val_recall: 0.9023 - val_auc: 0.9846 - val_f1_score: 0.9047\n",
      "Epoch 49/100\n",
      "110/110 [==============================] - 601s 5s/step - loss: 0.0016 - accuracy: 0.9997 - precision: 0.9999 - recall: 0.9997 - auc: 1.0000 - f1_score: 0.9998 - val_loss: 0.4071 - val_accuracy: 0.9050 - val_precision: 0.9082 - val_recall: 0.9040 - val_auc: 0.9846 - val_f1_score: 0.9060\n",
      "Epoch 50/100\n",
      "110/110 [==============================] - 602s 5s/step - loss: 0.0014 - accuracy: 0.9997 - precision: 0.9997 - recall: 0.9997 - auc: 1.0000 - f1_score: 0.9997 - val_loss: 0.4069 - val_accuracy: 0.9057 - val_precision: 0.9080 - val_recall: 0.9043 - val_auc: 0.9851 - val_f1_score: 0.9063\n",
      "Epoch 51/100\n",
      "110/110 [==============================] - 601s 5s/step - loss: 0.0014 - accuracy: 0.9997 - precision: 0.9997 - recall: 0.9997 - auc: 1.0000 - f1_score: 0.9997 - val_loss: 0.4099 - val_accuracy: 0.9053 - val_precision: 0.9077 - val_recall: 0.9043 - val_auc: 0.9848 - val_f1_score: 0.9057\n",
      "Epoch 52/100\n",
      "110/110 [==============================] - 604s 6s/step - loss: 0.0012 - accuracy: 0.9999 - precision: 0.9999 - recall: 0.9999 - auc: 1.0000 - f1_score: 0.9999 - val_loss: 0.4122 - val_accuracy: 0.9063 - val_precision: 0.9087 - val_recall: 0.9053 - val_auc: 0.9848 - val_f1_score: 0.9069\n",
      "Epoch 53/100\n",
      "110/110 [==============================] - 605s 6s/step - loss: 0.0012 - accuracy: 0.9999 - precision: 0.9999 - recall: 0.9999 - auc: 1.0000 - f1_score: 0.9999 - val_loss: 0.4114 - val_accuracy: 0.9053 - val_precision: 0.9077 - val_recall: 0.9043 - val_auc: 0.9848 - val_f1_score: 0.9060\n",
      "Epoch 54/100\n",
      "110/110 [==============================] - 602s 5s/step - loss: 0.0011 - accuracy: 0.9997 - precision: 0.9997 - recall: 0.9997 - auc: 1.0000 - f1_score: 0.9997 - val_loss: 0.4144 - val_accuracy: 0.9057 - val_precision: 0.9077 - val_recall: 0.9047 - val_auc: 0.9846 - val_f1_score: 0.9060\n",
      "Epoch 55/100\n",
      "110/110 [==============================] - 600s 5s/step - loss: 0.0011 - accuracy: 0.9999 - precision: 0.9999 - recall: 0.9999 - auc: 1.0000 - f1_score: 0.9999 - val_loss: 0.4155 - val_accuracy: 0.9070 - val_precision: 0.9085 - val_recall: 0.9067 - val_auc: 0.9848 - val_f1_score: 0.9076\n",
      "Epoch 56/100\n",
      "110/110 [==============================] - 601s 5s/step - loss: 0.0011 - accuracy: 0.9999 - precision: 0.9999 - recall: 0.9999 - auc: 1.0000 - f1_score: 0.9999 - val_loss: 0.4169 - val_accuracy: 0.9063 - val_precision: 0.9084 - val_recall: 0.9057 - val_auc: 0.9846 - val_f1_score: 0.9068\n",
      "Epoch 57/100\n",
      "110/110 [==============================] - 602s 5s/step - loss: 0.0011 - accuracy: 0.9999 - precision: 0.9999 - recall: 0.9999 - auc: 1.0000 - f1_score: 0.9999 - val_loss: 0.4155 - val_accuracy: 0.9057 - val_precision: 0.9077 - val_recall: 0.9050 - val_auc: 0.9846 - val_f1_score: 0.9064\n",
      "Epoch 58/100\n",
      "110/110 [==============================] - 625s 6s/step - loss: 0.0010 - accuracy: 0.9997 - precision: 0.9997 - recall: 0.9997 - auc: 1.0000 - f1_score: 0.9997 - val_loss: 0.4160 - val_accuracy: 0.9057 - val_precision: 0.9077 - val_recall: 0.9047 - val_auc: 0.9846 - val_f1_score: 0.9063\n",
      "Epoch 59/100\n",
      "110/110 [==============================] - 609s 6s/step - loss: 0.0010 - accuracy: 0.9999 - precision: 0.9999 - recall: 0.9999 - auc: 1.0000 - f1_score: 0.9999 - val_loss: 0.4161 - val_accuracy: 0.9053 - val_precision: 0.9074 - val_recall: 0.9043 - val_auc: 0.9846 - val_f1_score: 0.9058\n",
      "Epoch 60/100\n",
      "110/110 [==============================] - ETA: 0s - loss: 0.0010 - accuracy: 0.9999 - precision: 0.9999 - recall: 0.9999 - auc: 1.0000 - f1_score: 0.9999>saved snapshot snapshot_model_3.h5, epoch 59\n",
      "110/110 [==============================] - 605s 6s/step - loss: 0.0010 - accuracy: 0.9999 - precision: 0.9999 - recall: 0.9999 - auc: 1.0000 - f1_score: 0.9999 - val_loss: 0.4162 - val_accuracy: 0.9053 - val_precision: 0.9074 - val_recall: 0.9043 - val_auc: 0.9846 - val_f1_score: 0.9059\n",
      "Epoch 61/100\n",
      "110/110 [==============================] - 602s 5s/step - loss: 0.0102 - accuracy: 0.9967 - precision: 0.9969 - recall: 0.9966 - auc: 1.0000 - f1_score: 0.9965 - val_loss: 0.5035 - val_accuracy: 0.8700 - val_precision: 0.8739 - val_recall: 0.8667 - val_auc: 0.9828 - val_f1_score: 0.8702\n",
      "Epoch 62/100\n",
      "110/110 [==============================] - 602s 5s/step - loss: 0.0543 - accuracy: 0.9820 - precision: 0.9825 - recall: 0.9809 - auc: 0.9997 - f1_score: 0.9818 - val_loss: 0.6305 - val_accuracy: 0.8517 - val_precision: 0.8570 - val_recall: 0.8473 - val_auc: 0.9768 - val_f1_score: 0.8521\n",
      "Epoch 63/100\n",
      "110/110 [==============================] - 603s 5s/step - loss: 0.0361 - accuracy: 0.9884 - precision: 0.9891 - recall: 0.9879 - auc: 0.9999 - f1_score: 0.9886 - val_loss: 0.4525 - val_accuracy: 0.8857 - val_precision: 0.8885 - val_recall: 0.8820 - val_auc: 0.9831 - val_f1_score: 0.8854\n",
      "Epoch 64/100\n",
      "110/110 [==============================] - 602s 5s/step - loss: 0.0120 - accuracy: 0.9967 - precision: 0.9969 - recall: 0.9966 - auc: 1.0000 - f1_score: 0.9967 - val_loss: 0.4518 - val_accuracy: 0.8930 - val_precision: 0.8973 - val_recall: 0.8910 - val_auc: 0.9840 - val_f1_score: 0.8942\n",
      "Epoch 65/100\n",
      "110/110 [==============================] - 603s 6s/step - loss: 0.0074 - accuracy: 0.9983 - precision: 0.9983 - recall: 0.9983 - auc: 1.0000 - f1_score: 0.9983 - val_loss: 0.4293 - val_accuracy: 0.8987 - val_precision: 0.9009 - val_recall: 0.8970 - val_auc: 0.9841 - val_f1_score: 0.8988\n",
      "Epoch 66/100\n",
      "110/110 [==============================] - 602s 5s/step - loss: 0.0018 - accuracy: 0.9999 - precision: 0.9999 - recall: 0.9999 - auc: 1.0000 - f1_score: 0.9999 - val_loss: 0.4347 - val_accuracy: 0.9030 - val_precision: 0.9049 - val_recall: 0.9007 - val_auc: 0.9836 - val_f1_score: 0.9028\n",
      "Epoch 67/100\n",
      "110/110 [==============================] - 601s 5s/step - loss: 0.0014 - accuracy: 0.9997 - precision: 0.9997 - recall: 0.9997 - auc: 1.0000 - f1_score: 0.9997 - val_loss: 0.4321 - val_accuracy: 0.9003 - val_precision: 0.9035 - val_recall: 0.8983 - val_auc: 0.9840 - val_f1_score: 0.9007\n",
      "Epoch 68/100\n",
      "110/110 [==============================] - 602s 5s/step - loss: 0.0010 - accuracy: 0.9999 - precision: 0.9999 - recall: 0.9999 - auc: 1.0000 - f1_score: 0.9999 - val_loss: 0.4363 - val_accuracy: 0.8987 - val_precision: 0.9016 - val_recall: 0.8980 - val_auc: 0.9835 - val_f1_score: 0.9000\n",
      "Epoch 69/100\n",
      "110/110 [==============================] - 629s 6s/step - loss: 0.0010 - accuracy: 0.9997 - precision: 0.9997 - recall: 0.9997 - auc: 1.0000 - f1_score: 0.9997 - val_loss: 0.4450 - val_accuracy: 0.9017 - val_precision: 0.9044 - val_recall: 0.8990 - val_auc: 0.9838 - val_f1_score: 0.9018\n",
      "Epoch 70/100\n",
      "110/110 [==============================] - 664s 6s/step - loss: 0.0010 - accuracy: 0.9999 - precision: 0.9999 - recall: 0.9999 - auc: 1.0000 - f1_score: 0.9999 - val_loss: 0.4425 - val_accuracy: 0.9023 - val_precision: 0.9055 - val_recall: 0.9003 - val_auc: 0.9828 - val_f1_score: 0.9027\n",
      "Epoch 71/100\n",
      "110/110 [==============================] - 612s 6s/step - loss: 9.5566e-04 - accuracy: 0.9997 - precision: 0.9997 - recall: 0.9997 - auc: 1.0000 - f1_score: 0.9997 - val_loss: 0.4395 - val_accuracy: 0.8987 - val_precision: 0.9016 - val_recall: 0.8977 - val_auc: 0.9836 - val_f1_score: 0.8997\n",
      "Epoch 72/100\n",
      "110/110 [==============================] - 605s 6s/step - loss: 8.5032e-04 - accuracy: 0.9999 - precision: 0.9999 - recall: 0.9999 - auc: 1.0000 - f1_score: 0.9999 - val_loss: 0.4389 - val_accuracy: 0.9000 - val_precision: 0.9033 - val_recall: 0.8997 - val_auc: 0.9837 - val_f1_score: 0.9015\n",
      "Epoch 73/100\n",
      "110/110 [==============================] - 1074s 10s/step - loss: 8.3470e-04 - accuracy: 0.9997 - precision: 0.9997 - recall: 0.9997 - auc: 1.0000 - f1_score: 0.9997 - val_loss: 0.4415 - val_accuracy: 0.9003 - val_precision: 0.9036 - val_recall: 0.9003 - val_auc: 0.9831 - val_f1_score: 0.9022\n",
      "Epoch 74/100\n",
      "110/110 [==============================] - 609s 6s/step - loss: 7.7351e-04 - accuracy: 0.9997 - precision: 0.9997 - recall: 0.9997 - auc: 1.0000 - f1_score: 0.9997 - val_loss: 0.4428 - val_accuracy: 0.9003 - val_precision: 0.9033 - val_recall: 0.9003 - val_auc: 0.9835 - val_f1_score: 0.9020\n",
      "Epoch 75/100\n",
      "110/110 [==============================] - 609s 6s/step - loss: 7.2522e-04 - accuracy: 0.9999 - precision: 0.9999 - recall: 0.9999 - auc: 1.0000 - f1_score: 0.9999 - val_loss: 0.4425 - val_accuracy: 0.9013 - val_precision: 0.9046 - val_recall: 0.9010 - val_auc: 0.9832 - val_f1_score: 0.9028\n",
      "Epoch 76/100\n",
      "110/110 [==============================] - 611s 6s/step - loss: 6.9119e-04 - accuracy: 0.9999 - precision: 0.9999 - recall: 0.9999 - auc: 1.0000 - f1_score: 0.9999 - val_loss: 0.4429 - val_accuracy: 0.9013 - val_precision: 0.9046 - val_recall: 0.9010 - val_auc: 0.9833 - val_f1_score: 0.9029\n",
      "Epoch 77/100\n",
      "110/110 [==============================] - 611s 6s/step - loss: 6.9693e-04 - accuracy: 0.9999 - precision: 0.9999 - recall: 0.9999 - auc: 1.0000 - f1_score: 0.9999 - val_loss: 0.4441 - val_accuracy: 0.9007 - val_precision: 0.9040 - val_recall: 0.9007 - val_auc: 0.9833 - val_f1_score: 0.9024\n",
      "Epoch 78/100\n",
      "110/110 [==============================] - 611s 6s/step - loss: 6.8316e-04 - accuracy: 0.9997 - precision: 0.9997 - recall: 0.9997 - auc: 1.0000 - f1_score: 0.9997 - val_loss: 0.4440 - val_accuracy: 0.9013 - val_precision: 0.9049 - val_recall: 0.9007 - val_auc: 0.9831 - val_f1_score: 0.9027\n",
      "Epoch 79/100\n",
      "110/110 [==============================] - 610s 6s/step - loss: 6.7313e-04 - accuracy: 0.9999 - precision: 0.9999 - recall: 0.9997 - auc: 1.0000 - f1_score: 0.9998 - val_loss: 0.4440 - val_accuracy: 0.9007 - val_precision: 0.9046 - val_recall: 0.9003 - val_auc: 0.9832 - val_f1_score: 0.9025\n",
      "Epoch 80/100\n"
     ]
    },
    {
     "name": "stdout",
     "output_type": "stream",
     "text": [
      "110/110 [==============================] - ETA: 0s - loss: 6.6637e-04 - accuracy: 0.9999 - precision: 0.9999 - recall: 0.9999 - auc: 1.0000 - f1_score: 0.9999>saved snapshot snapshot_model_4.h5, epoch 79\n",
      "110/110 [==============================] - 610s 6s/step - loss: 6.6637e-04 - accuracy: 0.9999 - precision: 0.9999 - recall: 0.9999 - auc: 1.0000 - f1_score: 0.9999 - val_loss: 0.4440 - val_accuracy: 0.9007 - val_precision: 0.9046 - val_recall: 0.9003 - val_auc: 0.9832 - val_f1_score: 0.9023\n",
      "Epoch 81/100\n",
      "110/110 [==============================] - 609s 6s/step - loss: 9.2004e-04 - accuracy: 0.9997 - precision: 0.9997 - recall: 0.9997 - auc: 1.0000 - f1_score: 0.9997 - val_loss: 0.4534 - val_accuracy: 0.9020 - val_precision: 0.9052 - val_recall: 0.9010 - val_auc: 0.9838 - val_f1_score: 0.9033\n",
      "Epoch 82/100\n",
      "110/110 [==============================] - 611s 6s/step - loss: 0.0011 - accuracy: 0.9997 - precision: 0.9997 - recall: 0.9997 - auc: 1.0000 - f1_score: 0.9997 - val_loss: 0.4464 - val_accuracy: 0.9033 - val_precision: 0.9056 - val_recall: 0.9020 - val_auc: 0.9837 - val_f1_score: 0.9038\n",
      "Epoch 83/100\n",
      "110/110 [==============================] - 611s 6s/step - loss: 0.0235 - accuracy: 0.9941 - precision: 0.9943 - recall: 0.9936 - auc: 0.9997 - f1_score: 0.9940 - val_loss: 0.4712 - val_accuracy: 0.8860 - val_precision: 0.8902 - val_recall: 0.8840 - val_auc: 0.9836 - val_f1_score: 0.8871\n",
      "Epoch 84/100\n",
      "110/110 [==============================] - 610s 6s/step - loss: 0.0515 - accuracy: 0.9810 - precision: 0.9818 - recall: 0.9807 - auc: 0.9997 - f1_score: 0.9811 - val_loss: 0.5232 - val_accuracy: 0.8683 - val_precision: 0.8724 - val_recall: 0.8657 - val_auc: 0.9803 - val_f1_score: 0.8691\n",
      "Epoch 85/100\n",
      "110/110 [==============================] - 619s 6s/step - loss: 0.0251 - accuracy: 0.9919 - precision: 0.9921 - recall: 0.9914 - auc: 0.9998 - f1_score: 0.9918 - val_loss: 0.4943 - val_accuracy: 0.8860 - val_precision: 0.8926 - val_recall: 0.8840 - val_auc: 0.9822 - val_f1_score: 0.8882\n",
      "Epoch 86/100\n",
      "110/110 [==============================] - 624s 6s/step - loss: 0.0036 - accuracy: 0.9994 - precision: 0.9994 - recall: 0.9994 - auc: 1.0000 - f1_score: 0.9994 - val_loss: 0.4820 - val_accuracy: 0.8967 - val_precision: 0.9007 - val_recall: 0.8950 - val_auc: 0.9813 - val_f1_score: 0.8977\n",
      "Epoch 87/100\n",
      "110/110 [==============================] - 611s 6s/step - loss: 0.0019 - accuracy: 0.9997 - precision: 0.9999 - recall: 0.9997 - auc: 1.0000 - f1_score: 0.9998 - val_loss: 0.4664 - val_accuracy: 0.9000 - val_precision: 0.9024 - val_recall: 0.8973 - val_auc: 0.9821 - val_f1_score: 0.8999\n",
      "Epoch 88/100\n",
      "110/110 [==============================] - 613s 6s/step - loss: 0.0012 - accuracy: 0.9997 - precision: 0.9997 - recall: 0.9997 - auc: 1.0000 - f1_score: 0.9997 - val_loss: 0.4561 - val_accuracy: 0.9017 - val_precision: 0.9049 - val_recall: 0.9003 - val_auc: 0.9829 - val_f1_score: 0.9026\n",
      "Epoch 89/100\n",
      "110/110 [==============================] - 611s 6s/step - loss: 0.0010 - accuracy: 0.9999 - precision: 0.9999 - recall: 0.9999 - auc: 1.0000 - f1_score: 0.9999 - val_loss: 0.4642 - val_accuracy: 0.9020 - val_precision: 0.9055 - val_recall: 0.9003 - val_auc: 0.9823 - val_f1_score: 0.9028\n",
      "Epoch 90/100\n",
      "110/110 [==============================] - 610s 6s/step - loss: 9.2761e-04 - accuracy: 0.9997 - precision: 0.9997 - recall: 0.9997 - auc: 1.0000 - f1_score: 0.9997 - val_loss: 0.4551 - val_accuracy: 0.9033 - val_precision: 0.9059 - val_recall: 0.9017 - val_auc: 0.9825 - val_f1_score: 0.9037\n",
      "Epoch 91/100\n",
      "110/110 [==============================] - 611s 6s/step - loss: 7.5363e-04 - accuracy: 0.9999 - precision: 0.9999 - recall: 0.9999 - auc: 1.0000 - f1_score: 0.9999 - val_loss: 0.4581 - val_accuracy: 0.9020 - val_precision: 0.9056 - val_recall: 0.9013 - val_auc: 0.9823 - val_f1_score: 0.9034\n",
      "Epoch 92/100\n",
      "110/110 [==============================] - 610s 6s/step - loss: 7.4084e-04 - accuracy: 0.9997 - precision: 0.9997 - recall: 0.9997 - auc: 1.0000 - f1_score: 0.9997 - val_loss: 0.4595 - val_accuracy: 0.9040 - val_precision: 0.9072 - val_recall: 0.9027 - val_auc: 0.9817 - val_f1_score: 0.9048\n",
      "Epoch 93/100\n",
      "110/110 [==============================] - 611s 6s/step - loss: 7.1020e-04 - accuracy: 0.9999 - precision: 0.9999 - recall: 0.9999 - auc: 1.0000 - f1_score: 0.9999 - val_loss: 0.4604 - val_accuracy: 0.9020 - val_precision: 0.9056 - val_recall: 0.9013 - val_auc: 0.9823 - val_f1_score: 0.9034\n",
      "Epoch 94/100\n",
      "110/110 [==============================] - 617s 6s/step - loss: 6.9454e-04 - accuracy: 0.9997 - precision: 0.9997 - recall: 0.9997 - auc: 1.0000 - f1_score: 0.9997 - val_loss: 0.4611 - val_accuracy: 0.9033 - val_precision: 0.9075 - val_recall: 0.9027 - val_auc: 0.9822 - val_f1_score: 0.9051\n",
      "Epoch 95/100\n",
      "110/110 [==============================] - 614s 6s/step - loss: 6.4533e-04 - accuracy: 0.9999 - precision: 0.9999 - recall: 0.9999 - auc: 1.0000 - f1_score: 0.9999 - val_loss: 0.4601 - val_accuracy: 0.9037 - val_precision: 0.9069 - val_recall: 0.9023 - val_auc: 0.9818 - val_f1_score: 0.9047\n",
      "Epoch 96/100\n",
      "110/110 [==============================] - 610s 6s/step - loss: 6.3985e-04 - accuracy: 0.9997 - precision: 0.9997 - recall: 0.9997 - auc: 1.0000 - f1_score: 0.9997 - val_loss: 0.4620 - val_accuracy: 0.9043 - val_precision: 0.9076 - val_recall: 0.9033 - val_auc: 0.9815 - val_f1_score: 0.9053\n",
      "Epoch 97/100\n",
      "110/110 [==============================] - 611s 6s/step - loss: 6.3136e-04 - accuracy: 0.9997 - precision: 0.9997 - recall: 0.9997 - auc: 1.0000 - f1_score: 0.9997 - val_loss: 0.4616 - val_accuracy: 0.9040 - val_precision: 0.9069 - val_recall: 0.9027 - val_auc: 0.9815 - val_f1_score: 0.9048\n",
      "Epoch 98/100\n",
      "110/110 [==============================] - 609s 6s/step - loss: 6.1895e-04 - accuracy: 0.9997 - precision: 0.9997 - recall: 0.9997 - auc: 1.0000 - f1_score: 0.9997 - val_loss: 0.4619 - val_accuracy: 0.9040 - val_precision: 0.9069 - val_recall: 0.9027 - val_auc: 0.9815 - val_f1_score: 0.9046\n",
      "Epoch 99/100\n",
      "110/110 [==============================] - 609s 6s/step - loss: 6.1242e-04 - accuracy: 0.9997 - precision: 0.9999 - recall: 0.9997 - auc: 1.0000 - f1_score: 0.9998 - val_loss: 0.4620 - val_accuracy: 0.9043 - val_precision: 0.9072 - val_recall: 0.9030 - val_auc: 0.9815 - val_f1_score: 0.9049\n",
      "Epoch 100/100\n",
      "110/110 [==============================] - ETA: 0s - loss: 6.0777e-04 - accuracy: 0.9999 - precision: 0.9999 - recall: 0.9999 - auc: 1.0000 - f1_score: 0.9999>saved snapshot snapshot_model_5.h5, epoch 99\n",
      "110/110 [==============================] - 610s 6s/step - loss: 6.0777e-04 - accuracy: 0.9999 - precision: 0.9999 - recall: 0.9999 - auc: 1.0000 - f1_score: 0.9999 - val_loss: 0.4621 - val_accuracy: 0.9043 - val_precision: 0.9072 - val_recall: 0.9030 - val_auc: 0.9815 - val_f1_score: 0.9050\n"
     ]
    }
   ],
   "source": [
    "n_epochs = 100\n",
    "n_cycles = n_epochs / 20\n",
    "ca = SnapshotEnsemble(n_epochs, n_cycles, 0.001)\n",
    "\n",
    "history = model.fit(train_dataset,\n",
    "                    epochs = n_epochs,\n",
    "                    validation_data = validation_dataset,\n",
    "                    verbose = 1,\n",
    "                    callbacks=[ca],\n",
    "                    shuffle = True)"
   ]
  },
  {
   "cell_type": "code",
   "execution_count": 10,
   "id": "5afb4e42",
   "metadata": {
    "id": "5afb4e42"
   },
   "outputs": [
    {
     "data": {
      "image/png": "[encoded data removed]",
      "text/plain": [
       "<Figure size 1440x360 with 6 Axes>"
      ]
     },
     "metadata": {
      "needs_background": "light"
     },
     "output_type": "display_data"
    }
   ],
   "source": [
    "#%% PLOTTING RESULTS (Train vs Validation FOLDER 1)\n",
    "\n",
    "def Train_Val_Plot(acc,val_acc,loss,val_loss,auc,val_auc,precision,val_precision,recall,val_recall,f1_score,val_f1_score):\n",
    "    \n",
    "    fig, (ax1,ax2,ax3,ax4,ax5,ax6) = plt.subplots(1,6, figsize= (20,5))\n",
    "    fig.suptitle(\" MODEL'S METRICS VISUALIZATION \")\n",
    "\n",
    "    ax1.plot(range(1, len(acc) + 1), acc)\n",
    "    ax1.plot(range(1, len(val_acc) + 1), val_acc)\n",
    "    ax1.set_title('History of Accuracy')\n",
    "    ax1.set_xlabel('Epochs')\n",
    "    ax1.set_ylabel('Accuracy')\n",
    "    ax1.legend(['training', 'validation'])\n",
    "\n",
    "\n",
    "    ax2.plot(range(1, len(loss) + 1), loss)\n",
    "    ax2.plot(range(1, len(val_loss) + 1), val_loss)\n",
    "    ax2.set_title('History of Loss')\n",
    "    ax2.set_xlabel('Epochs')\n",
    "    ax2.set_ylabel('Loss')\n",
    "    ax2.legend(['training', 'validation'])\n",
    "    \n",
    "    ax3.plot(range(1, len(auc) + 1), auc)\n",
    "    ax3.plot(range(1, len(val_auc) + 1), val_auc)\n",
    "    ax3.set_title('History of AUC')\n",
    "    ax3.set_xlabel('Epochs')\n",
    "    ax3.set_ylabel('AUC')\n",
    "    ax3.legend(['training', 'validation'])\n",
    "    \n",
    "    ax4.plot(range(1, len(precision) + 1), precision)\n",
    "    ax4.plot(range(1, len(val_precision) + 1), val_precision)\n",
    "    ax4.set_title('History of Precision')\n",
    "    ax4.set_xlabel('Epochs')\n",
    "    ax4.set_ylabel('Precision')\n",
    "    ax4.legend(['training', 'validation'])\n",
    "    \n",
    "    ax5.plot(range(1, len(recall) + 1), recall)\n",
    "    ax5.plot(range(1, len(val_recall) + 1), val_recall)\n",
    "    ax5.set_title('History of Recall')\n",
    "    ax5.set_xlabel('Epochs')\n",
    "    ax5.set_ylabel('Recall')\n",
    "    ax5.legend(['training', 'validation'])\n",
    "\n",
    "    ax6.plot(range(1, len(f1_score) + 1), f1_score)\n",
    "    ax6.plot(range(1, len(val_f1_score) + 1), val_f1_score)\n",
    "    ax6.set_title('History of F1 score')\n",
    "    ax6.set_xlabel('Epochs')\n",
    "    ax6.set_ylabel('Recall')\n",
    "    ax6.legend(['training', 'validation'])\n",
    "\n",
    "    plt.show()\n",
    "    \n",
    "\n",
    "Train_Val_Plot(history.history['accuracy'],history.history['val_accuracy'],\n",
    "               history.history['loss'],history.history['val_loss'],\n",
    "               history.history['auc'],history.history['val_auc'],\n",
    "               history.history['precision'],history.history['val_precision'],\n",
    "               history.history['recall'],history.history['val_recall'],\n",
    "               history.history['f1_score'],history.history['val_f1_score']\n",
    "              )"
   ]
  },
  {
   "cell_type": "code",
   "execution_count": 11,
   "id": "e25504c3",
   "metadata": {},
   "outputs": [
    {
     "data": {
      "text/plain": [
       "<KerasTensor: shape=(None, 1024) dtype=float32 (created by layer 'global_average_pooling2d_1')>"
      ]
     },
     "execution_count": 11,
     "metadata": {},
     "output_type": "execute_result"
    }
   ],
   "source": [
    "model.layers[-2].output"
   ]
  },
  {
   "cell_type": "markdown",
   "id": "1fa81e10",
   "metadata": {
    "id": "1fa81e10"
   },
   "source": [
    "# Testing"
   ]
  },
  {
   "cell_type": "code",
   "execution_count": 12,
   "id": "ce4175ca",
   "metadata": {
    "colab": {
     "base_uri": "https://localhost:8080/"
    },
    "executionInfo": {
     "elapsed": 484882,
     "status": "ok",
     "timestamp": 1675526508183,
     "user": {
      "displayName": "Ayush Roy",
      "userId": "08989709777079707146"
     },
     "user_tz": -330
    },
    "id": "ce4175ca",
    "outputId": "ac6f3ff5-ac03-420e-f9d1-d7acfa700f12"
   },
   "outputs": [
    {
     "name": "stdout",
     "output_type": "stream",
     "text": [
      "32/32 [==============================] - 127s 4s/step - loss: 0.3700 - accuracy: 0.8900 - precision: 0.8974 - recall: 0.8835 - auc: 0.9898 - f1_score: 0.8922\n",
      "Testing Loss:\n",
      "0.3700474202632904\n",
      "Testing Accuracy:\n",
      "0.8899999856948853\n",
      "Testing Precision:\n",
      "0.8974098563194275\n",
      "Testing Recall:\n",
      "0.8834999799728394\n",
      "Testing F1-Score:\n",
      "0.8921909332275391\n",
      "Testing AUC:\n",
      "0.98978191614151\n"
     ]
    }
   ],
   "source": [
    "model = K.models.load_model(\"snapshot_model_1.h5\", custom_objects={\"f1_score\": f1_score})\n",
    "loss, accuracy, precision, recall, auc, f1_score = model.evaluate(test_dataset)\n",
    "print(\"Testing Loss:\")\n",
    "print(loss)\n",
    "print(\"Testing Accuracy:\")\n",
    "print(accuracy)\n",
    "print(\"Testing Precision:\")\n",
    "print(precision)\n",
    "print(\"Testing Recall:\")\n",
    "print(recall)\n",
    "print(\"Testing F1-Score:\")\n",
    "print(f1_score)\n",
    "print(\"Testing AUC:\")\n",
    "print(auc)"
   ]
  },
  {
   "cell_type": "code",
   "execution_count": 13,
   "id": "2734ae6c",
   "metadata": {
    "colab": {
     "base_uri": "https://localhost:8080/",
     "height": 854
    },
    "executionInfo": {
     "elapsed": 152341,
     "status": "ok",
     "timestamp": 1675526660494,
     "user": {
      "displayName": "Ayush Roy",
      "userId": "08989709777079707146"
     },
     "user_tz": -330
    },
    "id": "2734ae6c",
    "outputId": "b10c03aa-9d85-47d0-ae47-a5b4edbfb90b"
   },
   "outputs": [
    {
     "name": "stderr",
     "output_type": "stream",
     "text": [
      "C:\\Users\\aroy8\\AppData\\Local\\Temp/ipykernel_21600/3580747851.py:1: UserWarning: `Model.predict_generator` is deprecated and will be removed in a future version. Please use `Model.predict`, which supports generators.\n",
      "  Y_pred = model.predict_generator(test_dataset, 1157)\n",
      "Your input ran out of data; interrupting training. Make sure that your dataset or generator can generate at least `steps_per_epoch * epochs` batches (in this case, 1157 batches). You may need to use the repeat() function when building your dataset.\n"
     ]
    },
    {
     "name": "stdout",
     "output_type": "stream",
     "text": [
      "Confusion Matrix\n"
     ]
    },
    {
     "data": {
      "image/png": "[encoded data removed]",
      "text/plain": [
       "<Figure size 432x288 with 2 Axes>"
      ]
     },
     "metadata": {
      "needs_background": "light"
     },
     "output_type": "display_data"
    },
    {
     "name": "stdout",
     "output_type": "stream",
     "text": [
      "Classification Report\n",
      "              precision    recall  f1-score   support\n",
      "\n",
      "           1       0.82      0.78      0.80       100\n",
      "           2       0.71      0.99      0.83       100\n",
      "           3       0.90      0.75      0.82       100\n",
      "           4       1.00      0.85      0.92       100\n",
      "           5       0.89      0.40      0.55       100\n",
      "           6       0.77      0.93      0.84       100\n",
      "           7       0.99      0.99      0.99       100\n",
      "           8       1.00      0.92      0.96       100\n",
      "           9       0.99      0.94      0.96       100\n",
      "          10       1.00      1.00      1.00       100\n",
      "          11       0.74      0.85      0.79       100\n",
      "          12       0.93      0.79      0.85       100\n",
      "          13       0.72      0.91      0.80       100\n",
      "          14       0.91      0.90      0.90       100\n",
      "          15       0.92      0.98      0.95       100\n",
      "          16       0.98      0.92      0.95       100\n",
      "          17       1.00      1.00      1.00       100\n",
      "          18       0.99      1.00      1.00       100\n",
      "          19       0.84      0.92      0.88       100\n",
      "          20       0.90      0.98      0.94       100\n",
      "\n",
      "    accuracy                           0.89      2000\n",
      "   macro avg       0.90      0.89      0.89      2000\n",
      "weighted avg       0.90      0.89      0.89      2000\n",
      "\n"
     ]
    }
   ],
   "source": [
    "Y_pred = model.predict_generator(test_dataset, 1157)\n",
    "y_pred = np.argmax(Y_pred, axis=1)\n",
    "print('Confusion Matrix')\n",
    "disp = ConfusionMatrixDisplay(confusion_matrix(test_dataset.classes, y_pred),display_labels=['1','2','3','4','5','6','7','8','9','10','11','12','13','14','15','16','17','18','19','20'])\n",
    "disp.plot()\n",
    "plt.show()\n",
    "print('Classification Report')\n",
    "target_names = ['1','2','3','4','5','6','7','8','9','10','11','12','13','14','15','16','17','18','19','20']\n",
    "print(classification_report(test_dataset.classes, y_pred, target_names=target_names))"
   ]
  },
  {
   "cell_type": "code",
   "execution_count": 16,
   "id": "ac9dad34",
   "metadata": {},
   "outputs": [
    {
     "name": "stdout",
     "output_type": "stream",
     "text": [
      "32/32 [==============================] - 139s 4s/step - loss: 0.4547 - accuracy: 0.8960 - precision: 0.9003 - recall: 0.8940 - auc: 0.9814 - f1_score: 0.8990\n",
      "Testing Loss:\n",
      "0.45472413301467896\n",
      "Testing Accuracy:\n",
      "0.8960000276565552\n",
      "Testing Precision:\n",
      "0.9003021121025085\n",
      "Testing Recall:\n",
      "0.8939999938011169\n",
      "Testing F1-Score:\n",
      "0.8990437388420105\n",
      "Testing AUC:\n",
      "0.9814372658729553\n"
     ]
    }
   ],
   "source": [
    "model = K.models.load_model(\"snapshot_model_2.h5\", custom_objects={\"f1_score\": f1_score})\n",
    "loss, accuracy, precision, recall, auc, f1_score = model.evaluate(test_dataset)\n",
    "print(\"Testing Loss:\")\n",
    "print(loss)\n",
    "print(\"Testing Accuracy:\")\n",
    "print(accuracy)\n",
    "print(\"Testing Precision:\")\n",
    "print(precision)\n",
    "print(\"Testing Recall:\")\n",
    "print(recall)\n",
    "print(\"Testing F1-Score:\")\n",
    "print(f1_score)\n",
    "print(\"Testing AUC:\")\n",
    "print(auc)"
   ]
  },
  {
   "cell_type": "code",
   "execution_count": 17,
   "id": "0bcb1ee7",
   "metadata": {},
   "outputs": [
    {
     "name": "stderr",
     "output_type": "stream",
     "text": [
      "C:\\Users\\aroy8\\AppData\\Local\\Temp/ipykernel_21600/3580747851.py:1: UserWarning: `Model.predict_generator` is deprecated and will be removed in a future version. Please use `Model.predict`, which supports generators.\n",
      "  Y_pred = model.predict_generator(test_dataset, 1157)\n",
      "Your input ran out of data; interrupting training. Make sure that your dataset or generator can generate at least `steps_per_epoch * epochs` batches (in this case, 1157 batches). You may need to use the repeat() function when building your dataset.\n"
     ]
    },
    {
     "name": "stdout",
     "output_type": "stream",
     "text": [
      "Confusion Matrix\n"
     ]
    },
    {
     "data": {
      "image/png": "[encoded data removed]",
      "text/plain": [
       "<Figure size 432x288 with 2 Axes>"
      ]
     },
     "metadata": {
      "needs_background": "light"
     },
     "output_type": "display_data"
    },
    {
     "name": "stdout",
     "output_type": "stream",
     "text": [
      "Classification Report\n",
      "              precision    recall  f1-score   support\n",
      "\n",
      "           1       0.84      0.85      0.85       100\n",
      "           2       0.71      1.00      0.83       100\n",
      "           3       0.89      0.76      0.82       100\n",
      "           4       1.00      0.86      0.92       100\n",
      "           5       0.84      0.38      0.52       100\n",
      "           6       0.77      0.91      0.83       100\n",
      "           7       0.99      0.99      0.99       100\n",
      "           8       1.00      0.91      0.95       100\n",
      "           9       0.99      0.97      0.98       100\n",
      "          10       1.00      1.00      1.00       100\n",
      "          11       0.77      0.84      0.80       100\n",
      "          12       0.97      0.84      0.90       100\n",
      "          13       0.72      0.90      0.80       100\n",
      "          14       0.90      0.91      0.91       100\n",
      "          15       0.94      0.98      0.96       100\n",
      "          16       0.98      0.92      0.95       100\n",
      "          17       1.00      1.00      1.00       100\n",
      "          18       0.98      1.00      0.99       100\n",
      "          19       0.88      0.92      0.90       100\n",
      "          20       0.91      0.98      0.94       100\n",
      "\n",
      "    accuracy                           0.90      2000\n",
      "   macro avg       0.90      0.90      0.89      2000\n",
      "weighted avg       0.90      0.90      0.89      2000\n",
      "\n"
     ]
    }
   ],
   "source": [
    "Y_pred = model.predict_generator(test_dataset, 1157)\n",
    "y_pred = np.argmax(Y_pred, axis=1)\n",
    "print('Confusion Matrix')\n",
    "disp = ConfusionMatrixDisplay(confusion_matrix(test_dataset.classes, y_pred),display_labels=['1','2','3','4','5','6','7','8','9','10','11','12','13','14','15','16','17','18','19','20'])\n",
    "disp.plot()\n",
    "plt.show()\n",
    "print('Classification Report')\n",
    "target_names = ['1','2','3','4','5','6','7','8','9','10','11','12','13','14','15','16','17','18','19','20']\n",
    "print(classification_report(test_dataset.classes, y_pred, target_names=target_names))"
   ]
  },
  {
   "cell_type": "code",
   "execution_count": 19,
   "id": "a5c0b5c6",
   "metadata": {},
   "outputs": [
    {
     "name": "stdout",
     "output_type": "stream",
     "text": [
      "32/32 [==============================] - 137s 4s/step - loss: 0.4941 - accuracy: 0.8960 - precision: 0.8998 - recall: 0.8940 - auc: 0.9791 - f1_score: 0.8992\n",
      "Testing Loss:\n",
      "0.49409645795822144\n",
      "Testing Accuracy:\n",
      "0.8960000276565552\n",
      "Testing Precision:\n",
      "0.899848997592926\n",
      "Testing Recall:\n",
      "0.8939999938011169\n",
      "Testing F1-Score:\n",
      "0.8991530537605286\n",
      "Testing AUC:\n",
      "0.9791232943534851\n"
     ]
    }
   ],
   "source": [
    "model = K.models.load_model(\"snapshot_model_3.h5\", custom_objects={\"f1_score\": f1_score})\n",
    "loss, accuracy, precision, recall, auc, f1_score = model.evaluate(test_dataset)\n",
    "print(\"Testing Loss:\")\n",
    "print(loss)\n",
    "print(\"Testing Accuracy:\")\n",
    "print(accuracy)\n",
    "print(\"Testing Precision:\")\n",
    "print(precision)\n",
    "print(\"Testing Recall:\")\n",
    "print(recall)\n",
    "print(\"Testing F1-Score:\")\n",
    "print(f1_score)\n",
    "print(\"Testing AUC:\")\n",
    "print(auc)"
   ]
  },
  {
   "cell_type": "code",
   "execution_count": 20,
   "id": "93f6d8e4",
   "metadata": {},
   "outputs": [
    {
     "name": "stderr",
     "output_type": "stream",
     "text": [
      "C:\\Users\\aroy8\\AppData\\Local\\Temp/ipykernel_21600/3580747851.py:1: UserWarning: `Model.predict_generator` is deprecated and will be removed in a future version. Please use `Model.predict`, which supports generators.\n",
      "  Y_pred = model.predict_generator(test_dataset, 1157)\n",
      "Your input ran out of data; interrupting training. Make sure that your dataset or generator can generate at least `steps_per_epoch * epochs` batches (in this case, 1157 batches). You may need to use the repeat() function when building your dataset.\n"
     ]
    },
    {
     "name": "stdout",
     "output_type": "stream",
     "text": [
      "Confusion Matrix\n"
     ]
    },
    {
     "data": {
      "image/png": "[encoded data removed]",
      "text/plain": [
       "<Figure size 432x288 with 2 Axes>"
      ]
     },
     "metadata": {
      "needs_background": "light"
     },
     "output_type": "display_data"
    },
    {
     "name": "stdout",
     "output_type": "stream",
     "text": [
      "Classification Report\n",
      "              precision    recall  f1-score   support\n",
      "\n",
      "           1       0.84      0.83      0.83       100\n",
      "           2       0.71      0.99      0.83       100\n",
      "           3       0.90      0.73      0.81       100\n",
      "           4       1.00      0.85      0.92       100\n",
      "           5       0.82      0.42      0.56       100\n",
      "           6       0.75      0.92      0.83       100\n",
      "           7       1.00      1.00      1.00       100\n",
      "           8       0.98      0.94      0.96       100\n",
      "           9       1.00      0.96      0.98       100\n",
      "          10       1.00      1.00      1.00       100\n",
      "          11       0.78      0.84      0.81       100\n",
      "          12       0.99      0.85      0.91       100\n",
      "          13       0.74      0.86      0.79       100\n",
      "          14       0.92      0.92      0.92       100\n",
      "          15       0.94      0.98      0.96       100\n",
      "          16       0.98      0.94      0.96       100\n",
      "          17       1.00      1.00      1.00       100\n",
      "          18       0.99      0.98      0.98       100\n",
      "          19       0.83      0.94      0.88       100\n",
      "          20       0.91      0.97      0.94       100\n",
      "\n",
      "    accuracy                           0.90      2000\n",
      "   macro avg       0.90      0.90      0.89      2000\n",
      "weighted avg       0.90      0.90      0.89      2000\n",
      "\n"
     ]
    }
   ],
   "source": [
    "Y_pred = model.predict_generator(test_dataset, 1157)\n",
    "y_pred = np.argmax(Y_pred, axis=1)\n",
    "print('Confusion Matrix')\n",
    "disp = ConfusionMatrixDisplay(confusion_matrix(test_dataset.classes, y_pred),display_labels=['1','2','3','4','5','6','7','8','9','10','11','12','13','14','15','16','17','18','19','20'])\n",
    "disp.plot()\n",
    "plt.show()\n",
    "print('Classification Report')\n",
    "target_names = ['1','2','3','4','5','6','7','8','9','10','11','12','13','14','15','16','17','18','19','20']\n",
    "print(classification_report(test_dataset.classes, y_pred, target_names=target_names))"
   ]
  },
  {
   "cell_type": "code",
   "execution_count": 22,
   "id": "85d99526",
   "metadata": {},
   "outputs": [
    {
     "name": "stdout",
     "output_type": "stream",
     "text": [
      "32/32 [==============================] - 139s 4s/step - loss: 0.5452 - accuracy: 0.8925 - precision: 0.8955 - recall: 0.8910 - auc: 0.9781 - f1_score: 0.8955\n",
      "Testing Loss:\n",
      "0.5451651811599731\n",
      "Testing Accuracy:\n",
      "0.8924999833106995\n",
      "Testing Precision:\n",
      "0.8954774141311646\n",
      "Testing Recall:\n",
      "0.890999972820282\n",
      "Testing F1-Score:\n",
      "0.8954623937606812\n",
      "Testing AUC:\n",
      "0.978090226650238\n"
     ]
    }
   ],
   "source": [
    "model = K.models.load_model(\"snapshot_model_4.h5\", custom_objects={\"f1_score\": f1_score})\n",
    "loss, accuracy, precision, recall, auc, f1_score = model.evaluate(test_dataset)\n",
    "print(\"Testing Loss:\")\n",
    "print(loss)\n",
    "print(\"Testing Accuracy:\")\n",
    "print(accuracy)\n",
    "print(\"Testing Precision:\")\n",
    "print(precision)\n",
    "print(\"Testing Recall:\")\n",
    "print(recall)\n",
    "print(\"Testing F1-Score:\")\n",
    "print(f1_score)\n",
    "print(\"Testing AUC:\")\n",
    "print(auc)"
   ]
  },
  {
   "cell_type": "code",
   "execution_count": 23,
   "id": "68fb9850",
   "metadata": {},
   "outputs": [
    {
     "name": "stderr",
     "output_type": "stream",
     "text": [
      "C:\\Users\\aroy8\\AppData\\Local\\Temp/ipykernel_21600/3580747851.py:1: UserWarning: `Model.predict_generator` is deprecated and will be removed in a future version. Please use `Model.predict`, which supports generators.\n",
      "  Y_pred = model.predict_generator(test_dataset, 1157)\n",
      "Your input ran out of data; interrupting training. Make sure that your dataset or generator can generate at least `steps_per_epoch * epochs` batches (in this case, 1157 batches). You may need to use the repeat() function when building your dataset.\n"
     ]
    },
    {
     "name": "stdout",
     "output_type": "stream",
     "text": [
      "Confusion Matrix\n"
     ]
    },
    {
     "data": {
      "image/png": "[encoded data removed]",
      "text/plain": [
       "<Figure size 432x288 with 2 Axes>"
      ]
     },
     "metadata": {
      "needs_background": "light"
     },
     "output_type": "display_data"
    },
    {
     "name": "stdout",
     "output_type": "stream",
     "text": [
      "Classification Report\n",
      "              precision    recall  f1-score   support\n",
      "\n",
      "           1       0.84      0.79      0.81       100\n",
      "           2       0.72      0.99      0.84       100\n",
      "           3       0.85      0.75      0.80       100\n",
      "           4       0.99      0.85      0.91       100\n",
      "           5       0.81      0.44      0.57       100\n",
      "           6       0.76      0.88      0.81       100\n",
      "           7       0.99      1.00      1.00       100\n",
      "           8       0.97      0.94      0.95       100\n",
      "           9       1.00      0.95      0.97       100\n",
      "          10       1.00      1.00      1.00       100\n",
      "          11       0.75      0.86      0.80       100\n",
      "          12       0.99      0.83      0.90       100\n",
      "          13       0.72      0.87      0.79       100\n",
      "          14       0.92      0.90      0.91       100\n",
      "          15       0.97      0.98      0.98       100\n",
      "          16       0.98      0.94      0.96       100\n",
      "          17       1.00      1.00      1.00       100\n",
      "          18       1.00      0.97      0.98       100\n",
      "          19       0.83      0.94      0.88       100\n",
      "          20       0.89      0.97      0.93       100\n",
      "\n",
      "    accuracy                           0.89      2000\n",
      "   macro avg       0.90      0.89      0.89      2000\n",
      "weighted avg       0.90      0.89      0.89      2000\n",
      "\n"
     ]
    }
   ],
   "source": [
    "Y_pred = model.predict_generator(test_dataset, 1157)\n",
    "y_pred = np.argmax(Y_pred, axis=1)\n",
    "print('Confusion Matrix')\n",
    "disp = ConfusionMatrixDisplay(confusion_matrix(test_dataset.classes, y_pred),display_labels=['1','2','3','4','5','6','7','8','9','10','11','12','13','14','15','16','17','18','19','20'])\n",
    "disp.plot()\n",
    "plt.show()\n",
    "print('Classification Report')\n",
    "target_names = ['1','2','3','4','5','6','7','8','9','10','11','12','13','14','15','16','17','18','19','20']\n",
    "print(classification_report(test_dataset.classes, y_pred, target_names=target_names))"
   ]
  },
  {
   "cell_type": "code",
   "execution_count": 25,
   "id": "69fa9463",
   "metadata": {},
   "outputs": [
    {
     "name": "stdout",
     "output_type": "stream",
     "text": [
      "32/32 [==============================] - 141s 4s/step - loss: 0.5713 - accuracy: 0.8985 - precision: 0.8988 - recall: 0.8930 - auc: 0.9773 - f1_score: 0.8981\n",
      "Testing Loss:\n",
      "0.5713437795639038\n",
      "Testing Accuracy:\n",
      "0.8985000252723694\n",
      "Testing Precision:\n",
      "0.898842453956604\n",
      "Testing Recall:\n",
      "0.8930000066757202\n",
      "Testing F1-Score:\n",
      "0.8981494903564453\n",
      "Testing AUC:\n",
      "0.9772555828094482\n"
     ]
    }
   ],
   "source": [
    "model = K.models.load_model(\"snapshot_model_5.h5\", custom_objects={\"f1_score\": f1_score})\n",
    "loss, accuracy, precision, recall, auc, f1_score = model.evaluate(test_dataset)\n",
    "print(\"Testing Loss:\")\n",
    "print(loss)\n",
    "print(\"Testing Accuracy:\")\n",
    "print(accuracy)\n",
    "print(\"Testing Precision:\")\n",
    "print(precision)\n",
    "print(\"Testing Recall:\")\n",
    "print(recall)\n",
    "print(\"Testing F1-Score:\")\n",
    "print(f1_score)\n",
    "print(\"Testing AUC:\")\n",
    "print(auc)"
   ]
  },
  {
   "cell_type": "code",
   "execution_count": 26,
   "id": "2b2cd02a",
   "metadata": {},
   "outputs": [
    {
     "name": "stderr",
     "output_type": "stream",
     "text": [
      "C:\\Users\\aroy8\\AppData\\Local\\Temp/ipykernel_21600/3580747851.py:1: UserWarning: `Model.predict_generator` is deprecated and will be removed in a future version. Please use `Model.predict`, which supports generators.\n",
      "  Y_pred = model.predict_generator(test_dataset, 1157)\n",
      "Your input ran out of data; interrupting training. Make sure that your dataset or generator can generate at least `steps_per_epoch * epochs` batches (in this case, 1157 batches). You may need to use the repeat() function when building your dataset.\n"
     ]
    },
    {
     "name": "stdout",
     "output_type": "stream",
     "text": [
      "Confusion Matrix\n"
     ]
    },
    {
     "data": {
      "image/png": "[encoded data removed]",
      "text/plain": [
       "<Figure size 432x288 with 2 Axes>"
      ]
     },
     "metadata": {
      "needs_background": "light"
     },
     "output_type": "display_data"
    },
    {
     "name": "stdout",
     "output_type": "stream",
     "text": [
      "Classification Report\n",
      "              precision    recall  f1-score   support\n",
      "\n",
      "           1       0.82      0.82      0.82       100\n",
      "           2       0.74      0.99      0.85       100\n",
      "           3       0.86      0.75      0.80       100\n",
      "           4       1.00      0.83      0.91       100\n",
      "           5       0.88      0.50      0.64       100\n",
      "           6       0.77      0.88      0.82       100\n",
      "           7       1.00      0.99      0.99       100\n",
      "           8       0.98      0.92      0.95       100\n",
      "           9       0.98      0.95      0.96       100\n",
      "          10       1.00      1.00      1.00       100\n",
      "          11       0.77      0.85      0.81       100\n",
      "          12       0.99      0.82      0.90       100\n",
      "          13       0.74      0.89      0.81       100\n",
      "          14       0.91      0.93      0.92       100\n",
      "          15       0.97      0.98      0.98       100\n",
      "          16       0.99      0.97      0.98       100\n",
      "          17       1.00      1.00      1.00       100\n",
      "          18       1.00      0.98      0.99       100\n",
      "          19       0.85      0.94      0.89       100\n",
      "          20       0.89      0.98      0.93       100\n",
      "\n",
      "    accuracy                           0.90      2000\n",
      "   macro avg       0.91      0.90      0.90      2000\n",
      "weighted avg       0.91      0.90      0.90      2000\n",
      "\n"
     ]
    }
   ],
   "source": [
    "Y_pred = model.predict_generator(test_dataset, 1157)\n",
    "y_pred = np.argmax(Y_pred, axis=1)\n",
    "print('Confusion Matrix')\n",
    "disp = ConfusionMatrixDisplay(confusion_matrix(test_dataset.classes, y_pred),display_labels=['1','2','3','4','5','6','7','8','9','10','11','12','13','14','15','16','17','18','19','20'])\n",
    "disp.plot()\n",
    "plt.show()\n",
    "print('Classification Report')\n",
    "target_names = ['1','2','3','4','5','6','7','8','9','10','11','12','13','14','15','16','17','18','19','20']\n",
    "print(classification_report(test_dataset.classes, y_pred, target_names=target_names))"
   ]
  }
 ],
 "metadata": {
  "accelerator": "GPU",
  "colab": {
   "provenance": []
  },
  "gpuClass": "standard",
  "kernelspec": {
   "display_name": "Python 3 (ipykernel)",
   "language": "python",
   "name": "python3"
  },
  "language_info": {
   "codemirror_mode": {
    "name": "ipython",
    "version": 3
   },
   "file_extension": ".py",
   "mimetype": "text/x-python",
   "name": "python",
   "nbconvert_exporter": "python",
   "pygments_lexer": "ipython3",
   "version": "3.9.7"
  },
  "vscode": {
   "interpreter": {
    "hash": "52634da84371cba311ea128a5ea7cdc41ff074b781779e754b270ff9f8153cee"
   }
  }
 },
 "nbformat": 4,
 "nbformat_minor": 5
}
