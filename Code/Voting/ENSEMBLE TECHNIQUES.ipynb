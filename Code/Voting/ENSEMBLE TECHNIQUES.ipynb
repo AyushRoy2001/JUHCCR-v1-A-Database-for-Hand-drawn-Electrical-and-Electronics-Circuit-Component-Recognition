{
 "cells": [
  {
   "cell_type": "code",
   "execution_count": 2,
   "id": "9b8604b4",
   "metadata": {
    "colab": {
     "base_uri": "https://localhost:8080/"
    },
    "executionInfo": {
     "elapsed": 28723,
     "status": "ok",
     "timestamp": 1676456192322,
     "user": {
      "displayName": "Joint Colab",
      "userId": "04943251974374661202"
     },
     "user_tz": -330
    },
    "id": "9b8604b4",
    "outputId": "11c29802-8d1a-40f0-b1e3-05d53656439d"
   },
   "outputs": [],
   "source": [
    "# from google.colab import drive\n",
    "# drive.mount('/content/drive')\n",
    "\n",
    "import cv2\n",
    "import numpy as np\n",
    "import pandas as pd\n",
    "import os\n",
    "%matplotlib inline\n",
    "import matplotlib.pyplot as plt\n",
    "import matplotlib.image as mpimg\n",
    "import tensorflow.keras as K\n",
    "import tensorflow.keras.backend as Kback\n",
    "from sklearn.metrics import classification_report, confusion_matrix, ConfusionMatrixDisplay\n",
    "import tensorflow as tf"
   ]
  },
  {
   "cell_type": "markdown",
   "id": "b2861f52",
   "metadata": {
    "id": "b2861f52"
   },
   "source": [
    "# Loading dataset for testing"
   ]
  },
  {
   "cell_type": "code",
   "execution_count": 4,
   "id": "b953655f",
   "metadata": {
    "colab": {
     "base_uri": "https://localhost:8080/"
    },
    "executionInfo": {
     "elapsed": 4075,
     "status": "ok",
     "timestamp": 1676456196368,
     "user": {
      "displayName": "Joint Colab",
      "userId": "04943251974374661202"
     },
     "user_tz": -330
    },
    "id": "b953655f",
    "outputId": "3b0f83d9-afab-4981-cf65-665264340f18"
   },
   "outputs": [
    {
     "name": "stdout",
     "output_type": "stream",
     "text": [
      "Found 2000 images belonging to 20 classes.\n"
     ]
    }
   ],
   "source": [
    "test_datagen = K.preprocessing.image.ImageDataGenerator(rescale = 1./255)   \n",
    "\n",
    "test_dataset  = test_datagen.flow_from_directory(directory = 'D:/RESEARCH/Circuit component recognition/Circuit-Component-Analysis/Dataset/CktComDb-v1.o/Test',\n",
    "                                                   target_size = (160,160),\n",
    "                                                   class_mode = 'categorical',\n",
    "                                                   subset = 'training',\n",
    "                                                   shuffle=False,\n",
    "                                                   batch_size = 64)"
   ]
  },
  {
   "cell_type": "markdown",
   "id": "89285025",
   "metadata": {
    "id": "89285025"
   },
   "source": [
    "# The three best models for voting (snapshot 1,2 and DenseNet121_CBAM)"
   ]
  },
  {
   "cell_type": "code",
   "execution_count": null,
   "id": "9638698c",
   "metadata": {
    "executionInfo": {
     "elapsed": 41055,
     "status": "ok",
     "timestamp": 1676456237413,
     "user": {
      "displayName": "Joint Colab",
      "userId": "04943251974374661202"
     },
     "user_tz": -330
    },
    "id": "9638698c"
   },
   "outputs": [],
   "source": [
    "def f1_score(y_true, y_pred): #taken from old keras source code\n",
    "    true_positives = Kback.sum(Kback.round(Kback.clip(y_true * y_pred, 0, 1)))\n",
    "    possible_positives = Kback.sum(Kback.round(Kback.clip(y_true, 0, 1)))\n",
    "    predicted_positives = Kback.sum(Kback.round(Kback.clip(y_pred, 0, 1)))\n",
    "    precision = true_positives / (predicted_positives + Kback.epsilon())\n",
    "    recall = true_positives / (possible_positives + Kback.epsilon())\n",
    "    f1_val = 2*(precision*recall)/(precision+recall+Kback.epsilon())\n",
    "    return f1_val\n",
    "\n",
    "model0 = K.models.load_model(\"D:/RESEARCH/Circuit component recognition/Circuit-Component-Analysis/Code/Snapshot CBAM_Densenet/snapshot_model_2.h5\", custom_objects={\"f1_score\": f1_score})\n",
    "model1 = K.models.load_model(\"D:/RESEARCH/Circuit component recognition/Circuit-Component-Analysis/Code/Snapshot CBAM_Densenet/snapshot_model_3.h5\", custom_objects={\"f1_score\": f1_score})\n",
    "model2 = K.models.load_model(\"/content/drive/MyDrive/Colab Notebooks/snapshot_model_4.h5\", custom_objects={\"f1_score\": f1_score})\n",
    "model3 = K.models.load_model(\"/content/drive/MyDrive/Colab Notebooks/snapshot_model_5.h5\", custom_objects={\"f1_score\": f1_score})\n",
    "model4 = K.models.load_model(\"/content/drive/MyDrive/Colab Notebooks/snapshot_model_1.h5\", custom_objects={\"f1_score\": f1_score})\n",
    "#model_cbam = K.models.load_model(\"densenet121_cbam.hdf5\", custom_objects={\"f1_score\": f1_score})"
   ]
  },
  {
   "cell_type": "code",
   "execution_count": null,
   "id": "5514ca08",
   "metadata": {
    "colab": {
     "base_uri": "https://localhost:8080/"
    },
    "executionInfo": {
     "elapsed": 531827,
     "status": "ok",
     "timestamp": 1676456769206,
     "user": {
      "displayName": "Joint Colab",
      "userId": "04943251974374661202"
     },
     "user_tz": -330
    },
    "id": "5514ca08",
    "outputId": "01a44118-01d8-4f73-a597-b49d06c15986"
   },
   "outputs": [],
   "source": [
    "y_label = np.asarray(test_dataset.classes)\n",
    "y_label = y_label.astype('int')\n",
    "\n",
    "Y_pred_0 = model0.predict_generator(test_dataset, 1157)\n",
    "y_pred_0 = np.argmax(Y_pred_0, axis=1)\n",
    "y_pred_0 = y_pred_0.astype('int')\n",
    "\n",
    "Y_pred_1 = model1.predict_generator(test_dataset, 1157)\n",
    "y_pred_1 = np.argmax(Y_pred_1, axis=1)\n",
    "y_pred_1 = y_pred_1.astype('int')\n",
    "\n",
    "Y_pred_2 = model2.predict_generator(test_dataset, 1157)\n",
    "y_pred_2 = np.argmax(Y_pred_2, axis=1)\n",
    "y_pred_2 = y_pred_2.astype('int')\n",
    "\n",
    "Y_pred_3 = model3.predict_generator(test_dataset, 1157)\n",
    "y_pred_3 = np.argmax(Y_pred_3, axis=1)\n",
    "y_pred_3 = y_pred_3.astype('int')\n",
    "\n",
    "Y_pred_4 = model4.predict_generator(test_dataset, 1157)\n",
    "y_pred_4 = np.argmax(Y_pred_4, axis=1)\n",
    "y_pred_4 = y_pred_4.astype('int')"
   ]
  },
  {
   "cell_type": "code",
   "execution_count": null,
   "id": "47923c4b",
   "metadata": {
    "executionInfo": {
     "elapsed": 44,
     "status": "ok",
     "timestamp": 1676456769208,
     "user": {
      "displayName": "Joint Colab",
      "userId": "04943251974374661202"
     },
     "user_tz": -330
    },
    "id": "47923c4b"
   },
   "outputs": [],
   "source": [
    "#Y_pred_cbam = model0.predict_generator(test_dataset, 1157)\n",
    "#y_pred_cbam = np.argmax(Y_pred_cbam, axis=1)\n",
    "#y_pred_cbam = y_pred_cbam.astype('int')"
   ]
  },
  {
   "cell_type": "markdown",
   "id": "b863f425",
   "metadata": {
    "id": "b863f425"
   },
   "source": [
    "#### Max Voting"
   ]
  },
  {
   "cell_type": "code",
   "execution_count": null,
   "id": "9a1929b3",
   "metadata": {
    "executionInfo": {
     "elapsed": 42,
     "status": "ok",
     "timestamp": 1676456769209,
     "user": {
      "displayName": "Joint Colab",
      "userId": "04943251974374661202"
     },
     "user_tz": -330
    },
    "id": "9a1929b3"
   },
   "outputs": [],
   "source": [
    "def voting_max(arr1,arr2,arr3):\n",
    "    arr = []\n",
    "    for i in range(0,2000):\n",
    "        if arr1[i] == arr2[i] or arr1[i] == arr3[i] or arr1[i] == arr2[i] == arr3[i]:\n",
    "            arr.append(arr1[i])\n",
    "        elif arr2[i] == arr3[i]:\n",
    "            arr.append(arr2[i])\n",
    "        else:\n",
    "            arr.append(arr1[i])\n",
    "    arr = np.asarray(arr)\n",
    "    arr = arr.astype('int')\n",
    "    return arr"
   ]
  },
  {
   "cell_type": "markdown",
   "id": "a5def251",
   "metadata": {
    "id": "a5def251"
   },
   "source": [
    "#### Weighted voting "
   ]
  },
  {
   "cell_type": "code",
   "execution_count": null,
   "id": "3c477f5f",
   "metadata": {
    "executionInfo": {
     "elapsed": 42,
     "status": "ok",
     "timestamp": 1676456769210,
     "user": {
      "displayName": "Joint Colab",
      "userId": "04943251974374661202"
     },
     "user_tz": -330
    },
    "id": "3c477f5f"
   },
   "outputs": [],
   "source": [
    "def voting_weighted(arr1,arr2,arr3):\n",
    "    arr = []\n",
    "    for i in range(0,2000):\n",
    "        arr.append(0.4*arr1[i]+0.3*arr2[i]+0.3*arr3[i])\n",
    "    arr = np.asarray(arr)\n",
    "    arr = arr.astype('int')\n",
    "    return arr"
   ]
  },
  {
   "cell_type": "markdown",
   "id": "346d0595",
   "metadata": {
    "id": "346d0595"
   },
   "source": [
    "#### Groupwise weighted voting"
   ]
  },
  {
   "cell_type": "code",
   "execution_count": null,
   "id": "545fca2c",
   "metadata": {
    "executionInfo": {
     "elapsed": 41,
     "status": "ok",
     "timestamp": 1676456769211,
     "user": {
      "displayName": "Joint Colab",
      "userId": "04943251974374661202"
     },
     "user_tz": -330
    },
    "id": "545fca2c"
   },
   "outputs": [],
   "source": [
    "def voting_group_weighted(arr1,arr2,arr3,arr4,arr5):\n",
    "    arr = []\n",
    "    for i in range(0,2000):\n",
    "        a = 0.4*arr1[i]+(0.2*arr2[i]+0.1*arr5[i])+(0.2*arr3[i]+0.1*arr4[i])\n",
    "        arr.append(a)\n",
    "    arr = np.asarray(arr)\n",
    "    arr = arr.astype('int')\n",
    "    return arr"
   ]
  },
  {
   "cell_type": "markdown",
   "id": "98982fac",
   "metadata": {
    "id": "98982fac"
   },
   "source": [
    "#### Mean weighted voting"
   ]
  },
  {
   "cell_type": "code",
   "execution_count": null,
   "id": "19f0a64a",
   "metadata": {
    "executionInfo": {
     "elapsed": 40,
     "status": "ok",
     "timestamp": 1676456769211,
     "user": {
      "displayName": "Joint Colab",
      "userId": "04943251974374661202"
     },
     "user_tz": -330
    },
    "id": "19f0a64a"
   },
   "outputs": [],
   "source": [
    "def voting_mean(Y_pred_1,Y_pred_2,Y_pred_3):\n",
    "    Y_pred = 0.4*Y_pred_1+0.3*Y_pred_2+0.3*Y_pred_3\n",
    "    Y_pred = np.log(Y_pred)\n",
    "    y_pred = np.argmax(Y_pred, axis=1)\n",
    "    y_pred = y_pred.astype('int')\n",
    "    return y_pred"
   ]
  },
  {
   "cell_type": "markdown",
   "id": "3e3a6137",
   "metadata": {
    "id": "3e3a6137"
   },
   "source": [
    "#### Gompertz ensemble"
   ]
  },
  {
   "cell_type": "code",
   "execution_count": null,
   "id": "b7d38b2c",
   "metadata": {
    "executionInfo": {
     "elapsed": 41,
     "status": "ok",
     "timestamp": 1676456769213,
     "user": {
      "displayName": "Joint Colab",
      "userId": "04943251974374661202"
     },
     "user_tz": -330
    },
    "id": "b7d38b2c"
   },
   "outputs": [],
   "source": [
    "import math\n",
    "\n",
    "def fuzzy_rank(CF):\n",
    "    R_L = np.zeros(CF.shape)\n",
    "    for i in range(CF.shape[0]):\n",
    "        for j in range(CF.shape[1]):\n",
    "            R_L[i][j] = 1 - math.exp(-math.exp(-2.0*CF[i][j]))  #Gompertz Function\n",
    "    \n",
    "    K_L = 0.632*np.ones(shape = R_L.shape) #initiate all values as penalty values\n",
    "    for z in range(2000):\n",
    "        sort_R_L = np.sort(R_L[z])\n",
    "        top1 = sort_R_L[0]\n",
    "        top2 = sort_R_L[1]\n",
    "        for i in range(R_L.shape[0]):\n",
    "            for j in range(R_L.shape[1]):\n",
    "                if R_L[i][j] == top1:\n",
    "                    K_L[i][j] = R_L[i][j]\n",
    "                elif R_L[i][j] == top2:\n",
    "                    K_L[i][j] = R_L[i][j]\n",
    "    return K_L\n",
    "\n",
    "def CFS_func(CF, K_L):\n",
    "    for i in range(CF.shape[0]):\n",
    "        for j in range(CF.shape[1]):\n",
    "            if K_L[i][j] == 0.632:\n",
    "                CF[i][j] = 0\n",
    "    return CF\n",
    "\n",
    "def Gompertz(CF1,CF2,CF3):\n",
    "    CF = CF1+CF2+CF3\n",
    "    CF = np.asarray(CF)\n",
    "    RS = fuzzy_rank(CF) #R_L is with penalties\n",
    "    CFS = CFS_func(CF, RS)\n",
    "    FS = RS*CFS\n",
    "\n",
    "    predictions = np.argmin(FS,axis=1)\n",
    "    return predictions"
   ]
  },
  {
   "cell_type": "markdown",
   "id": "fa00b9ae",
   "metadata": {
    "id": "fa00b9ae"
   },
   "source": [
    "# Metrics of the voting "
   ]
  },
  {
   "cell_type": "markdown",
   "id": "fdb5c3f3",
   "metadata": {
    "id": "fdb5c3f3"
   },
   "source": [
    "#### Max Voting"
   ]
  },
  {
   "cell_type": "code",
   "execution_count": null,
   "id": "921d9b64",
   "metadata": {
    "colab": {
     "base_uri": "https://localhost:8080/",
     "height": 439
    },
    "executionInfo": {
     "elapsed": 1987,
     "status": "ok",
     "timestamp": 1676456771160,
     "user": {
      "displayName": "Joint Colab",
      "userId": "04943251974374661202"
     },
     "user_tz": -330
    },
    "id": "921d9b64",
    "outputId": "4c880a79-5495-42d9-a8e7-0da4e131ac15"
   },
   "outputs": [],
   "source": [
    "y_pred = voting_max(y_pred_0, y_pred_1, y_pred_2)\n",
    "\n",
    "#Making the Confusion Matrix\n",
    "cm = confusion_matrix(y_label, y_pred)\n",
    "disp = ConfusionMatrixDisplay(cm,display_labels=['1','2','3','4','5','6','7','8','9','10','11','12','13','14','15','16','17','18','19','20'])\n",
    "\n",
    "#Accuracy\n",
    "from sklearn.metrics import accuracy_score\n",
    "print(\"Testing accuracy:\")\n",
    "print(accuracy_score(y_label, y_pred))\n",
    "#F1_score\n",
    "from sklearn.metrics import f1_score\n",
    "print(\"Testing F1-score\")\n",
    "print(f1_score(y_label, y_pred, average = 'macro'))\n",
    "#Precision\n",
    "from sklearn.metrics import precision_score\n",
    "print(\"Testing Precision:\")\n",
    "print(precision_score(y_label, y_pred, average = 'macro'))\n",
    "#Recall\n",
    "from sklearn.metrics import recall_score\n",
    "print(\"Testing Recall:\")\n",
    "print(recall_score(y_label, y_pred, average = 'macro'))\n",
    "\n",
    "disp.plot()"
   ]
  },
  {
   "cell_type": "markdown",
   "id": "45d38812",
   "metadata": {
    "id": "45d38812"
   },
   "source": [
    "#### Weighted Voting"
   ]
  },
  {
   "cell_type": "code",
   "execution_count": null,
   "id": "ae6a1dc7",
   "metadata": {
    "colab": {
     "base_uri": "https://localhost:8080/",
     "height": 439
    },
    "executionInfo": {
     "elapsed": 577,
     "status": "ok",
     "timestamp": 1676456771713,
     "user": {
      "displayName": "Joint Colab",
      "userId": "04943251974374661202"
     },
     "user_tz": -330
    },
    "id": "ae6a1dc7",
    "outputId": "31270162-afa8-4d85-8a64-85352db69f7d"
   },
   "outputs": [],
   "source": [
    "y_pred = voting_weighted(y_pred_0, y_pred_1, y_pred_2)\n",
    "\n",
    "#Making the Confusion Matrix\n",
    "cm = confusion_matrix(y_label, y_pred)\n",
    "disp = ConfusionMatrixDisplay(cm,display_labels=['1','2','3','4','5','6','7','8','9','10','11','12','13','14','15','16','17','18','19','20'])\n",
    "\n",
    "#Accuracy\n",
    "from sklearn.metrics import accuracy_score\n",
    "print(\"Testing accuracy:\")\n",
    "print(accuracy_score(y_label, y_pred))\n",
    "#F1_score\n",
    "from sklearn.metrics import f1_score\n",
    "print(\"Testing F1-score\")\n",
    "print(f1_score(y_label, y_pred, average = 'macro'))\n",
    "#Precision\n",
    "from sklearn.metrics import precision_score\n",
    "print(\"Testing Precision:\")\n",
    "print(precision_score(y_label, y_pred, average = 'macro'))\n",
    "#Recall\n",
    "from sklearn.metrics import recall_score\n",
    "print(\"Testing Recall:\")\n",
    "print(recall_score(y_label, y_pred, average = 'macro'))\n",
    "\n",
    "disp.plot()"
   ]
  },
  {
   "cell_type": "markdown",
   "id": "1968a8ce",
   "metadata": {
    "id": "1968a8ce"
   },
   "source": [
    "#### Groupwise Weighted Voting"
   ]
  },
  {
   "cell_type": "code",
   "execution_count": null,
   "id": "86abc423",
   "metadata": {
    "colab": {
     "base_uri": "https://localhost:8080/",
     "height": 439
    },
    "executionInfo": {
     "elapsed": 1655,
     "status": "ok",
     "timestamp": 1676456773355,
     "user": {
      "displayName": "Joint Colab",
      "userId": "04943251974374661202"
     },
     "user_tz": -330
    },
    "id": "86abc423",
    "outputId": "8e794912-938c-476d-c3ef-e1d84644abc2"
   },
   "outputs": [],
   "source": [
    "y_pred = voting_group_weighted(y_pred_0, y_pred_1, y_pred_2, y_pred_3, y_pred_4)\n",
    "\n",
    "#Making the Confusion Matrix\n",
    "cm = confusion_matrix(y_label, y_pred)\n",
    "disp = ConfusionMatrixDisplay(cm,display_labels=['1','2','3','4','5','6','7','8','9','10','11','12','13','14','15','16','17','18','19','20'])\n",
    "\n",
    "#Accuracy\n",
    "from sklearn.metrics import accuracy_score\n",
    "print(\"Testing accuracy:\")\n",
    "print(accuracy_score(y_label, y_pred))\n",
    "#F1_score\n",
    "from sklearn.metrics import f1_score\n",
    "print(\"Testing F1-score\")\n",
    "print(f1_score(y_label, y_pred, average = 'macro'))\n",
    "#Precision\n",
    "from sklearn.metrics import precision_score\n",
    "print(\"Testing Precision:\")\n",
    "print(precision_score(y_label, y_pred, average = 'macro'))\n",
    "#Recall\n",
    "from sklearn.metrics import recall_score\n",
    "print(\"Testing Recall:\")\n",
    "print(recall_score(y_label, y_pred, average = 'macro'))\n",
    "\n",
    "disp.plot()"
   ]
  },
  {
   "cell_type": "markdown",
   "id": "44a45ba9",
   "metadata": {
    "id": "44a45ba9"
   },
   "source": [
    "#### Mean Weighted Voting"
   ]
  },
  {
   "cell_type": "code",
   "execution_count": null,
   "id": "d7e15a80",
   "metadata": {
    "colab": {
     "base_uri": "https://localhost:8080/",
     "height": 439
    },
    "executionInfo": {
     "elapsed": 799,
     "status": "ok",
     "timestamp": 1676456774138,
     "user": {
      "displayName": "Joint Colab",
      "userId": "04943251974374661202"
     },
     "user_tz": -330
    },
    "id": "d7e15a80",
    "outputId": "e3a3103b-b12b-4937-d2c2-5f5faf9e28bd"
   },
   "outputs": [],
   "source": [
    "y_pred = voting_mean(Y_pred_0, Y_pred_1, Y_pred_2)\n",
    "\n",
    "#Making the Confusion Matrix\n",
    "cm = confusion_matrix(y_label, y_pred)\n",
    "disp = ConfusionMatrixDisplay(cm,display_labels=['1','2','3','4','5','6','7','8','9','10','11','12','13','14','15','16','17','18','19','20'])\n",
    "\n",
    "#Accuracy\n",
    "from sklearn.metrics import accuracy_score\n",
    "print(\"Testing accuracy:\")\n",
    "print(accuracy_score(y_label, y_pred))\n",
    "#F1_score\n",
    "from sklearn.metrics import f1_score\n",
    "print(\"Testing F1-score\")\n",
    "print(f1_score(y_label, y_pred, average = 'macro'))\n",
    "#Precision\n",
    "from sklearn.metrics import precision_score\n",
    "print(\"Testing Precision:\")\n",
    "print(precision_score(y_label, y_pred, average = 'macro'))\n",
    "#Recall\n",
    "from sklearn.metrics import recall_score\n",
    "print(\"Testing Recall:\")\n",
    "print(recall_score(y_label, y_pred, average = 'macro'))\n",
    "\n",
    "disp.plot()"
   ]
  }
 ],
 "metadata": {
  "accelerator": "GPU",
  "colab": {
   "provenance": []
  },
  "gpuClass": "standard",
  "kernelspec": {
   "display_name": "Python 3 (ipykernel)",
   "language": "python",
   "name": "python3"
  },
  "language_info": {
   "codemirror_mode": {
    "name": "ipython",
    "version": 3
   },
   "file_extension": ".py",
   "mimetype": "text/x-python",
   "name": "python",
   "nbconvert_exporter": "python",
   "pygments_lexer": "ipython3",
   "version": "3.9.7"
  }
 },
 "nbformat": 4,
 "nbformat_minor": 5
}
