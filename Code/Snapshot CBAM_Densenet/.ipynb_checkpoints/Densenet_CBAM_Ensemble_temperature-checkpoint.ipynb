{
 "cells": [
  {
   "cell_type": "code",
   "execution_count": 1,
   "id": "b041422f",
   "metadata": {
    "colab": {
     "base_uri": "https://localhost:8080/"
    },
    "executionInfo": {
     "elapsed": 14036,
     "status": "ok",
     "timestamp": 1676449803337,
     "user": {
      "displayName": "Joint Colab",
      "userId": "04943251974374661202"
     },
     "user_tz": -330
    },
    "id": "b041422f",
    "outputId": "13ee9236-886a-44f0-edb0-0e61a5825a18"
   },
   "outputs": [
    {
     "ename": "ModuleNotFoundError",
     "evalue": "No module named 'google.colab'",
     "output_type": "error",
     "traceback": [
      "\u001b[1;31m---------------------------------------------------------------------------\u001b[0m",
      "\u001b[1;31mModuleNotFoundError\u001b[0m                       Traceback (most recent call last)",
      "\u001b[1;32m~\\AppData\\Local\\Temp/ipykernel_16868/2984060071.py\u001b[0m in \u001b[0;36m<module>\u001b[1;34m\u001b[0m\n\u001b[1;32m----> 1\u001b[1;33m \u001b[1;32mfrom\u001b[0m \u001b[0mgoogle\u001b[0m\u001b[1;33m.\u001b[0m\u001b[0mcolab\u001b[0m \u001b[1;32mimport\u001b[0m \u001b[0mdrive\u001b[0m\u001b[1;33m\u001b[0m\u001b[1;33m\u001b[0m\u001b[0m\n\u001b[0m\u001b[0;32m      2\u001b[0m \u001b[0mdrive\u001b[0m\u001b[1;33m.\u001b[0m\u001b[0mmount\u001b[0m\u001b[1;33m(\u001b[0m\u001b[1;34m'/content/drive'\u001b[0m\u001b[1;33m)\u001b[0m\u001b[1;33m\u001b[0m\u001b[1;33m\u001b[0m\u001b[0m\n\u001b[0;32m      3\u001b[0m \u001b[1;33m\u001b[0m\u001b[0m\n\u001b[0;32m      4\u001b[0m \u001b[1;32mimport\u001b[0m \u001b[0mcv2\u001b[0m\u001b[1;33m\u001b[0m\u001b[1;33m\u001b[0m\u001b[0m\n\u001b[0;32m      5\u001b[0m \u001b[1;32mimport\u001b[0m \u001b[0mnumpy\u001b[0m \u001b[1;32mas\u001b[0m \u001b[0mnp\u001b[0m\u001b[1;33m\u001b[0m\u001b[1;33m\u001b[0m\u001b[0m\n",
      "\u001b[1;31mModuleNotFoundError\u001b[0m: No module named 'google.colab'"
     ]
    }
   ],
   "source": [
    "from google.colab import drive\n",
    "drive.mount('/content/drive')\n",
    "\n",
    "import cv2\n",
    "import numpy as np\n",
    "import pandas as pd\n",
    "import os\n",
    "%matplotlib inline\n",
    "import matplotlib.pyplot as plt\n",
    "import matplotlib.image as mpimg\n",
    "import tensorflow.keras as K\n",
    "import tensorflow.keras.backend as Kback\n",
    "from sklearn.metrics import classification_report, confusion_matrix, ConfusionMatrixDisplay\n",
    "from scipy.fftpack import dct\n",
    "import tensorflow as tf\n",
    "from sklearn.preprocessing import OneHotEncoder"
   ]
  },
  {
   "cell_type": "code",
   "execution_count": 2,
   "id": "039b73cc",
   "metadata": {
    "executionInfo": {
     "elapsed": 39,
     "status": "ok",
     "timestamp": 1676449803339,
     "user": {
      "displayName": "Joint Colab",
      "userId": "04943251974374661202"
     },
     "user_tz": -330
    },
    "id": "039b73cc"
   },
   "outputs": [],
   "source": [
    "from sklearn.datasets import make_blobs\n",
    "from keras.utils import to_categorical\n",
    "from keras.models import Sequential\n",
    "from keras.layers import Dense\n",
    "from keras.callbacks import Callback\n",
    "from keras.optimizers import SGD\n",
    "from keras import backend\n",
    "from math import pi\n",
    "from math import cos\n",
    "from math import floor"
   ]
  },
  {
   "cell_type": "markdown",
   "id": "e0856738",
   "metadata": {
    "id": "e0856738"
   },
   "source": [
    "# Snapshot Ensemble"
   ]
  },
  {
   "cell_type": "code",
   "execution_count": 3,
   "id": "9b143747",
   "metadata": {
    "executionInfo": {
     "elapsed": 34,
     "status": "ok",
     "timestamp": 1676449803339,
     "user": {
      "displayName": "Joint Colab",
      "userId": "04943251974374661202"
     },
     "user_tz": -330
    },
    "id": "9b143747"
   },
   "outputs": [],
   "source": [
    "# snapshot ensemble with custom learning rate schedule\n",
    "class SnapshotEnsemble(Callback):\n",
    "\t# constructor\n",
    "\tdef __init__(self, n_epochs, n_cycles, lrate_max, verbose=0):\n",
    "\t\tself.epochs = n_epochs\n",
    "\t\tself.cycles = n_cycles\n",
    "\t\tself.lr_max = lrate_max\n",
    "\t\tself.lrates = list()\n",
    "\n",
    "\t# calculate learning rate for epoch\n",
    "\tdef cosine_annealing(self, epoch, n_epochs, n_cycles, lrate_max):\n",
    "\t\tepochs_per_cycle = floor(n_epochs/n_cycles)\n",
    "\t\tcos_inner = (pi * (epoch % epochs_per_cycle)) / (epochs_per_cycle)\n",
    "\t\treturn lrate_max/2 * (cos(cos_inner) + 1)\n",
    "\n",
    "\t# calculate and set learning rate at the start of the epoch\n",
    "\tdef on_epoch_begin(self, epoch, logs={}):\n",
    "\t\t# calculate learning rate\n",
    "\t\tlr = self.cosine_annealing(epoch, self.epochs, self.cycles, self.lr_max)\n",
    "\t\t# set learning rate\n",
    "\t\tbackend.set_value(self.model.optimizer.lr, lr)\n",
    "\t\t# log value\n",
    "\t\tself.lrates.append(lr)\n",
    "\n",
    "\t# save models at the end of each cycle\n",
    "\tdef on_epoch_end(self, epoch, logs={}):\n",
    "\t\t# check if we can save model\n",
    "\t\tepochs_per_cycle = floor(self.epochs / self.cycles)\n",
    "\t\tif epoch != 0 and (epoch + 1) % epochs_per_cycle == 0:\n",
    "\t\t\t# save model to file\n",
    "\t\t\tfilename = \"snapshot_model_%d.h5\" % int((epoch + 1) / epochs_per_cycle)\n",
    "\t\t\tself.model.save(filename)\n",
    "\t\t\tprint('>saved snapshot %s, epoch %d' % (filename, epoch))"
   ]
  },
  {
   "cell_type": "markdown",
   "id": "835ef538",
   "metadata": {
    "id": "835ef538"
   },
   "source": [
    "# Load dataset"
   ]
  },
  {
   "cell_type": "code",
   "execution_count": 4,
   "id": "b8e9bbfe",
   "metadata": {
    "colab": {
     "base_uri": "https://localhost:8080/"
    },
    "executionInfo": {
     "elapsed": 33,
     "status": "ok",
     "timestamp": 1676449803340,
     "user": {
      "displayName": "Joint Colab",
      "userId": "04943251974374661202"
     },
     "user_tz": -330
    },
    "id": "b8e9bbfe",
    "outputId": "840b43dd-a834-4451-fab4-2e0da1ac4ad0"
   },
   "outputs": [
    {
     "ename": "NameError",
     "evalue": "name 'K' is not defined",
     "output_type": "error",
     "traceback": [
      "\u001b[1;31m---------------------------------------------------------------------------\u001b[0m",
      "\u001b[1;31mNameError\u001b[0m                                 Traceback (most recent call last)",
      "\u001b[1;32m~\\AppData\\Local\\Temp/ipykernel_16868/519722587.py\u001b[0m in \u001b[0;36m<module>\u001b[1;34m\u001b[0m\n\u001b[1;32m----> 1\u001b[1;33m \u001b[0mtrain_datagen\u001b[0m \u001b[1;33m=\u001b[0m \u001b[0mK\u001b[0m\u001b[1;33m.\u001b[0m\u001b[0mpreprocessing\u001b[0m\u001b[1;33m.\u001b[0m\u001b[0mimage\u001b[0m\u001b[1;33m.\u001b[0m\u001b[0mImageDataGenerator\u001b[0m\u001b[1;33m(\u001b[0m\u001b[0mrescale\u001b[0m \u001b[1;33m=\u001b[0m \u001b[1;36m1.\u001b[0m\u001b[1;33m/\u001b[0m\u001b[1;36m255\u001b[0m\u001b[1;33m,\u001b[0m \u001b[0mvalidation_split\u001b[0m \u001b[1;33m=\u001b[0m \u001b[1;36m0.3\u001b[0m\u001b[1;33m)\u001b[0m\u001b[1;33m\u001b[0m\u001b[1;33m\u001b[0m\u001b[0m\n\u001b[0m\u001b[0;32m      2\u001b[0m \u001b[1;33m\u001b[0m\u001b[0m\n\u001b[0;32m      3\u001b[0m train_dataset  = train_datagen.flow_from_directory(directory = '/content/drive/MyDrive/data/train',\n\u001b[0;32m      4\u001b[0m                                                    \u001b[0mtarget_size\u001b[0m \u001b[1;33m=\u001b[0m \u001b[1;33m(\u001b[0m\u001b[1;36m160\u001b[0m\u001b[1;33m,\u001b[0m\u001b[1;36m160\u001b[0m\u001b[1;33m)\u001b[0m\u001b[1;33m,\u001b[0m\u001b[1;33m\u001b[0m\u001b[1;33m\u001b[0m\u001b[0m\n\u001b[0;32m      5\u001b[0m                                                    \u001b[0mclass_mode\u001b[0m \u001b[1;33m=\u001b[0m \u001b[1;34m'categorical'\u001b[0m\u001b[1;33m,\u001b[0m\u001b[1;33m\u001b[0m\u001b[1;33m\u001b[0m\u001b[0m\n",
      "\u001b[1;31mNameError\u001b[0m: name 'K' is not defined"
     ]
    }
   ],
   "source": [
    "train_datagen = K.preprocessing.image.ImageDataGenerator(rescale = 1./255, validation_split = 0.3)   \n",
    "\n",
    "train_dataset  = train_datagen.flow_from_directory(directory = '/content/drive/MyDrive/data/train',\n",
    "                                                   target_size = (160,160),\n",
    "                                                   class_mode = 'categorical',\n",
    "                                                   subset = 'training',\n",
    "                                                   shuffle=True,\n",
    "                                                   batch_size = 64)\n",
    "validation_dataset  = train_datagen.flow_from_directory(directory = '/content/drive/MyDrive/data/train',\n",
    "                                                   target_size = (160,160),\n",
    "                                                   class_mode = 'categorical',\n",
    "                                                   subset = 'validation',\n",
    "                                                   shuffle=True,\n",
    "                                                   batch_size = 64)\n",
    "\n",
    "\n",
    "test_datagen = K.preprocessing.image.ImageDataGenerator(rescale = 1./255)   \n",
    "\n",
    "test_dataset  = test_datagen.flow_from_directory(directory = 'D:/RESEARCH/Circuit component recognition/Circuit-Component-Analysis/Dataset/CktComDb-v1.o/Test',\n",
    "                                                   target_size = (160,160),\n",
    "                                                   class_mode = 'categorical',\n",
    "                                                   subset = 'training',\n",
    "                                                   shuffle=False,\n",
    "                                                   batch_size = 64)"
   ]
  },
  {
   "cell_type": "markdown",
   "id": "a8a99350",
   "metadata": {
    "id": "a8a99350"
   },
   "source": [
    "# DenseNet121"
   ]
  },
  {
   "cell_type": "code",
   "execution_count": 6,
   "id": "3cfa8d68",
   "metadata": {
    "colab": {
     "base_uri": "https://localhost:8080/"
    },
    "executionInfo": {
     "elapsed": 5237,
     "status": "ok",
     "timestamp": 1676449808551,
     "user": {
      "displayName": "Joint Colab",
      "userId": "04943251974374661202"
     },
     "user_tz": -330
    },
    "id": "3cfa8d68",
    "outputId": "b36c3da6-0abe-4249-ea80-dfdeac80bd51"
   },
   "outputs": [
    {
     "name": "stdout",
     "output_type": "stream",
     "text": [
      "0 input_1 - False\n",
      "1 zero_padding2d - False\n",
      "2 conv1/conv - False\n",
      "3 conv1/bn - False\n",
      "4 conv1/relu - False\n",
      "5 zero_padding2d_1 - False\n",
      "6 pool1 - False\n",
      "7 conv2_block1_0_bn - False\n",
      "8 conv2_block1_0_relu - False\n",
      "9 conv2_block1_1_conv - False\n",
      "10 conv2_block1_1_bn - False\n",
      "11 conv2_block1_1_relu - False\n",
      "12 conv2_block1_2_conv - False\n",
      "13 conv2_block1_concat - False\n",
      "14 conv2_block2_0_bn - False\n",
      "15 conv2_block2_0_relu - False\n",
      "16 conv2_block2_1_conv - False\n",
      "17 conv2_block2_1_bn - False\n",
      "18 conv2_block2_1_relu - False\n",
      "19 conv2_block2_2_conv - False\n",
      "20 conv2_block2_concat - False\n",
      "21 conv2_block3_0_bn - False\n",
      "22 conv2_block3_0_relu - False\n",
      "23 conv2_block3_1_conv - False\n",
      "24 conv2_block3_1_bn - False\n",
      "25 conv2_block3_1_relu - False\n",
      "26 conv2_block3_2_conv - False\n",
      "27 conv2_block3_concat - False\n",
      "28 conv2_block4_0_bn - False\n",
      "29 conv2_block4_0_relu - False\n",
      "30 conv2_block4_1_conv - False\n",
      "31 conv2_block4_1_bn - False\n",
      "32 conv2_block4_1_relu - False\n",
      "33 conv2_block4_2_conv - False\n",
      "34 conv2_block4_concat - False\n",
      "35 conv2_block5_0_bn - False\n",
      "36 conv2_block5_0_relu - False\n",
      "37 conv2_block5_1_conv - False\n",
      "38 conv2_block5_1_bn - False\n",
      "39 conv2_block5_1_relu - False\n",
      "40 conv2_block5_2_conv - False\n",
      "41 conv2_block5_concat - False\n",
      "42 conv2_block6_0_bn - False\n",
      "43 conv2_block6_0_relu - False\n",
      "44 conv2_block6_1_conv - False\n",
      "45 conv2_block6_1_bn - False\n",
      "46 conv2_block6_1_relu - False\n",
      "47 conv2_block6_2_conv - False\n",
      "48 conv2_block6_concat - False\n",
      "49 pool2_bn - False\n",
      "50 pool2_relu - False\n",
      "51 pool2_conv - False\n",
      "52 pool2_pool - False\n",
      "53 conv3_block1_0_bn - False\n",
      "54 conv3_block1_0_relu - False\n",
      "55 conv3_block1_1_conv - False\n",
      "56 conv3_block1_1_bn - False\n",
      "57 conv3_block1_1_relu - False\n",
      "58 conv3_block1_2_conv - False\n",
      "59 conv3_block1_concat - False\n",
      "60 conv3_block2_0_bn - False\n",
      "61 conv3_block2_0_relu - False\n",
      "62 conv3_block2_1_conv - False\n",
      "63 conv3_block2_1_bn - False\n",
      "64 conv3_block2_1_relu - False\n",
      "65 conv3_block2_2_conv - False\n",
      "66 conv3_block2_concat - False\n",
      "67 conv3_block3_0_bn - False\n",
      "68 conv3_block3_0_relu - False\n",
      "69 conv3_block3_1_conv - False\n",
      "70 conv3_block3_1_bn - False\n",
      "71 conv3_block3_1_relu - False\n",
      "72 conv3_block3_2_conv - False\n",
      "73 conv3_block3_concat - False\n",
      "74 conv3_block4_0_bn - False\n",
      "75 conv3_block4_0_relu - False\n",
      "76 conv3_block4_1_conv - False\n",
      "77 conv3_block4_1_bn - False\n",
      "78 conv3_block4_1_relu - False\n",
      "79 conv3_block4_2_conv - False\n",
      "80 conv3_block4_concat - False\n",
      "81 conv3_block5_0_bn - False\n",
      "82 conv3_block5_0_relu - False\n",
      "83 conv3_block5_1_conv - False\n",
      "84 conv3_block5_1_bn - False\n",
      "85 conv3_block5_1_relu - False\n",
      "86 conv3_block5_2_conv - False\n",
      "87 conv3_block5_concat - False\n",
      "88 conv3_block6_0_bn - False\n",
      "89 conv3_block6_0_relu - False\n",
      "90 conv3_block6_1_conv - False\n",
      "91 conv3_block6_1_bn - False\n",
      "92 conv3_block6_1_relu - False\n",
      "93 conv3_block6_2_conv - False\n",
      "94 conv3_block6_concat - False\n",
      "95 conv3_block7_0_bn - False\n",
      "96 conv3_block7_0_relu - False\n",
      "97 conv3_block7_1_conv - False\n",
      "98 conv3_block7_1_bn - False\n",
      "99 conv3_block7_1_relu - False\n",
      "100 conv3_block7_2_conv - False\n",
      "101 conv3_block7_concat - False\n",
      "102 conv3_block8_0_bn - False\n",
      "103 conv3_block8_0_relu - False\n",
      "104 conv3_block8_1_conv - False\n",
      "105 conv3_block8_1_bn - False\n",
      "106 conv3_block8_1_relu - False\n",
      "107 conv3_block8_2_conv - False\n",
      "108 conv3_block8_concat - False\n",
      "109 conv3_block9_0_bn - False\n",
      "110 conv3_block9_0_relu - False\n",
      "111 conv3_block9_1_conv - False\n",
      "112 conv3_block9_1_bn - False\n",
      "113 conv3_block9_1_relu - False\n",
      "114 conv3_block9_2_conv - False\n",
      "115 conv3_block9_concat - False\n",
      "116 conv3_block10_0_bn - False\n",
      "117 conv3_block10_0_relu - False\n",
      "118 conv3_block10_1_conv - False\n",
      "119 conv3_block10_1_bn - False\n",
      "120 conv3_block10_1_relu - False\n",
      "121 conv3_block10_2_conv - False\n",
      "122 conv3_block10_concat - False\n",
      "123 conv3_block11_0_bn - False\n",
      "124 conv3_block11_0_relu - False\n",
      "125 conv3_block11_1_conv - False\n",
      "126 conv3_block11_1_bn - False\n",
      "127 conv3_block11_1_relu - False\n",
      "128 conv3_block11_2_conv - False\n",
      "129 conv3_block11_concat - False\n",
      "130 conv3_block12_0_bn - False\n",
      "131 conv3_block12_0_relu - False\n",
      "132 conv3_block12_1_conv - False\n",
      "133 conv3_block12_1_bn - False\n",
      "134 conv3_block12_1_relu - False\n",
      "135 conv3_block12_2_conv - False\n",
      "136 conv3_block12_concat - False\n",
      "137 pool3_bn - False\n",
      "138 pool3_relu - False\n",
      "139 pool3_conv - False\n",
      "140 pool3_pool - False\n",
      "141 conv4_block1_0_bn - False\n",
      "142 conv4_block1_0_relu - False\n",
      "143 conv4_block1_1_conv - False\n",
      "144 conv4_block1_1_bn - False\n",
      "145 conv4_block1_1_relu - False\n",
      "146 conv4_block1_2_conv - False\n",
      "147 conv4_block1_concat - False\n",
      "148 conv4_block2_0_bn - False\n",
      "149 conv4_block2_0_relu - False\n",
      "150 conv4_block2_1_conv - False\n",
      "151 conv4_block2_1_bn - False\n",
      "152 conv4_block2_1_relu - False\n",
      "153 conv4_block2_2_conv - False\n",
      "154 conv4_block2_concat - False\n",
      "155 conv4_block3_0_bn - False\n",
      "156 conv4_block3_0_relu - False\n",
      "157 conv4_block3_1_conv - False\n",
      "158 conv4_block3_1_bn - False\n",
      "159 conv4_block3_1_relu - False\n",
      "160 conv4_block3_2_conv - False\n",
      "161 conv4_block3_concat - False\n",
      "162 conv4_block4_0_bn - False\n",
      "163 conv4_block4_0_relu - False\n",
      "164 conv4_block4_1_conv - False\n",
      "165 conv4_block4_1_bn - False\n",
      "166 conv4_block4_1_relu - False\n",
      "167 conv4_block4_2_conv - False\n",
      "168 conv4_block4_concat - False\n",
      "169 conv4_block5_0_bn - False\n",
      "170 conv4_block5_0_relu - False\n",
      "171 conv4_block5_1_conv - False\n",
      "172 conv4_block5_1_bn - False\n",
      "173 conv4_block5_1_relu - False\n",
      "174 conv4_block5_2_conv - False\n",
      "175 conv4_block5_concat - False\n",
      "176 conv4_block6_0_bn - False\n",
      "177 conv4_block6_0_relu - False\n",
      "178 conv4_block6_1_conv - False\n",
      "179 conv4_block6_1_bn - False\n",
      "180 conv4_block6_1_relu - False\n",
      "181 conv4_block6_2_conv - False\n",
      "182 conv4_block6_concat - False\n",
      "183 conv4_block7_0_bn - False\n",
      "184 conv4_block7_0_relu - False\n",
      "185 conv4_block7_1_conv - False\n",
      "186 conv4_block7_1_bn - False\n",
      "187 conv4_block7_1_relu - False\n",
      "188 conv4_block7_2_conv - False\n",
      "189 conv4_block7_concat - False\n",
      "190 conv4_block8_0_bn - False\n",
      "191 conv4_block8_0_relu - False\n",
      "192 conv4_block8_1_conv - False\n",
      "193 conv4_block8_1_bn - False\n",
      "194 conv4_block8_1_relu - False\n",
      "195 conv4_block8_2_conv - False\n",
      "196 conv4_block8_concat - False\n",
      "197 conv4_block9_0_bn - False\n",
      "198 conv4_block9_0_relu - False\n",
      "199 conv4_block9_1_conv - False\n",
      "200 conv4_block9_1_bn - False\n",
      "201 conv4_block9_1_relu - False\n",
      "202 conv4_block9_2_conv - False\n",
      "203 conv4_block9_concat - False\n",
      "204 conv4_block10_0_bn - False\n",
      "205 conv4_block10_0_relu - False\n",
      "206 conv4_block10_1_conv - False\n",
      "207 conv4_block10_1_bn - False\n",
      "208 conv4_block10_1_relu - False\n",
      "209 conv4_block10_2_conv - False\n",
      "210 conv4_block10_concat - False\n",
      "211 conv4_block11_0_bn - False\n",
      "212 conv4_block11_0_relu - False\n",
      "213 conv4_block11_1_conv - False\n",
      "214 conv4_block11_1_bn - False\n",
      "215 conv4_block11_1_relu - False\n",
      "216 conv4_block11_2_conv - False\n",
      "217 conv4_block11_concat - False\n",
      "218 conv4_block12_0_bn - False\n",
      "219 conv4_block12_0_relu - False\n",
      "220 conv4_block12_1_conv - False\n",
      "221 conv4_block12_1_bn - False\n",
      "222 conv4_block12_1_relu - False\n",
      "223 conv4_block12_2_conv - False\n",
      "224 conv4_block12_concat - False\n",
      "225 conv4_block13_0_bn - False\n",
      "226 conv4_block13_0_relu - False\n",
      "227 conv4_block13_1_conv - False\n",
      "228 conv4_block13_1_bn - False\n",
      "229 conv4_block13_1_relu - False\n",
      "230 conv4_block13_2_conv - False\n",
      "231 conv4_block13_concat - False\n",
      "232 conv4_block14_0_bn - False\n",
      "233 conv4_block14_0_relu - False\n",
      "234 conv4_block14_1_conv - False\n",
      "235 conv4_block14_1_bn - False\n",
      "236 conv4_block14_1_relu - False\n",
      "237 conv4_block14_2_conv - False\n",
      "238 conv4_block14_concat - False\n",
      "239 conv4_block15_0_bn - False\n",
      "240 conv4_block15_0_relu - False\n",
      "241 conv4_block15_1_conv - False\n",
      "242 conv4_block15_1_bn - False\n",
      "243 conv4_block15_1_relu - False\n",
      "244 conv4_block15_2_conv - False\n",
      "245 conv4_block15_concat - False\n",
      "246 conv4_block16_0_bn - False\n",
      "247 conv4_block16_0_relu - False\n",
      "248 conv4_block16_1_conv - False\n",
      "249 conv4_block16_1_bn - False\n",
      "250 conv4_block16_1_relu - False\n",
      "251 conv4_block16_2_conv - False\n",
      "252 conv4_block16_concat - False\n",
      "253 conv4_block17_0_bn - False\n",
      "254 conv4_block17_0_relu - False\n",
      "255 conv4_block17_1_conv - False\n",
      "256 conv4_block17_1_bn - False\n",
      "257 conv4_block17_1_relu - False\n",
      "258 conv4_block17_2_conv - False\n",
      "259 conv4_block17_concat - False\n",
      "260 conv4_block18_0_bn - False\n",
      "261 conv4_block18_0_relu - False\n",
      "262 conv4_block18_1_conv - False\n",
      "263 conv4_block18_1_bn - False\n",
      "264 conv4_block18_1_relu - False\n",
      "265 conv4_block18_2_conv - False\n",
      "266 conv4_block18_concat - False\n",
      "267 conv4_block19_0_bn - False\n",
      "268 conv4_block19_0_relu - False\n",
      "269 conv4_block19_1_conv - False\n",
      "270 conv4_block19_1_bn - False\n",
      "271 conv4_block19_1_relu - False\n",
      "272 conv4_block19_2_conv - False\n",
      "273 conv4_block19_concat - False\n",
      "274 conv4_block20_0_bn - False\n",
      "275 conv4_block20_0_relu - False\n",
      "276 conv4_block20_1_conv - False\n",
      "277 conv4_block20_1_bn - False\n",
      "278 conv4_block20_1_relu - False\n",
      "279 conv4_block20_2_conv - False\n",
      "280 conv4_block20_concat - False\n",
      "281 conv4_block21_0_bn - False\n",
      "282 conv4_block21_0_relu - False\n",
      "283 conv4_block21_1_conv - False\n",
      "284 conv4_block21_1_bn - False\n",
      "285 conv4_block21_1_relu - False\n",
      "286 conv4_block21_2_conv - False\n",
      "287 conv4_block21_concat - False\n",
      "288 conv4_block22_0_bn - False\n",
      "289 conv4_block22_0_relu - False\n",
      "290 conv4_block22_1_conv - False\n",
      "291 conv4_block22_1_bn - False\n",
      "292 conv4_block22_1_relu - False\n",
      "293 conv4_block22_2_conv - False\n",
      "294 conv4_block22_concat - False\n",
      "295 conv4_block23_0_bn - False\n",
      "296 conv4_block23_0_relu - False\n",
      "297 conv4_block23_1_conv - False\n",
      "298 conv4_block23_1_bn - False\n",
      "299 conv4_block23_1_relu - False\n",
      "300 conv4_block23_2_conv - False\n",
      "301 conv4_block23_concat - False\n",
      "302 conv4_block24_0_bn - False\n",
      "303 conv4_block24_0_relu - False\n",
      "304 conv4_block24_1_conv - False\n",
      "305 conv4_block24_1_bn - False\n",
      "306 conv4_block24_1_relu - False\n",
      "307 conv4_block24_2_conv - False\n",
      "308 conv4_block24_concat - False\n",
      "309 pool4_bn - False\n",
      "310 pool4_relu - False\n",
      "311 pool4_conv - False\n",
      "312 pool4_pool - False\n",
      "313 conv5_block1_0_bn - False\n",
      "314 conv5_block1_0_relu - False\n",
      "315 conv5_block1_1_conv - False\n",
      "316 conv5_block1_1_bn - False\n",
      "317 conv5_block1_1_relu - False\n",
      "318 conv5_block1_2_conv - False\n",
      "319 conv5_block1_concat - False\n",
      "320 conv5_block2_0_bn - False\n",
      "321 conv5_block2_0_relu - False\n",
      "322 conv5_block2_1_conv - False\n",
      "323 conv5_block2_1_bn - False\n",
      "324 conv5_block2_1_relu - False\n",
      "325 conv5_block2_2_conv - False\n",
      "326 conv5_block2_concat - False\n",
      "327 conv5_block3_0_bn - False\n",
      "328 conv5_block3_0_relu - False\n",
      "329 conv5_block3_1_conv - False\n",
      "330 conv5_block3_1_bn - False\n",
      "331 conv5_block3_1_relu - False\n",
      "332 conv5_block3_2_conv - False\n",
      "333 conv5_block3_concat - False\n",
      "334 conv5_block4_0_bn - False\n",
      "335 conv5_block4_0_relu - False\n",
      "336 conv5_block4_1_conv - False\n",
      "337 conv5_block4_1_bn - False\n",
      "338 conv5_block4_1_relu - False\n",
      "339 conv5_block4_2_conv - False\n",
      "340 conv5_block4_concat - False\n",
      "341 conv5_block5_0_bn - False\n",
      "342 conv5_block5_0_relu - False\n",
      "343 conv5_block5_1_conv - False\n",
      "344 conv5_block5_1_bn - False\n",
      "345 conv5_block5_1_relu - False\n",
      "346 conv5_block5_2_conv - False\n",
      "347 conv5_block5_concat - False\n",
      "348 conv5_block6_0_bn - False\n",
      "349 conv5_block6_0_relu - False\n",
      "350 conv5_block6_1_conv - False\n",
      "351 conv5_block6_1_bn - False\n",
      "352 conv5_block6_1_relu - False\n",
      "353 conv5_block6_2_conv - False\n",
      "354 conv5_block6_concat - False\n",
      "355 conv5_block7_0_bn - False\n",
      "356 conv5_block7_0_relu - False\n",
      "357 conv5_block7_1_conv - False\n",
      "358 conv5_block7_1_bn - False\n",
      "359 conv5_block7_1_relu - False\n",
      "360 conv5_block7_2_conv - False\n",
      "361 conv5_block7_concat - False\n",
      "362 conv5_block8_0_bn - False\n",
      "363 conv5_block8_0_relu - False\n",
      "364 conv5_block8_1_conv - False\n",
      "365 conv5_block8_1_bn - False\n",
      "366 conv5_block8_1_relu - False\n",
      "367 conv5_block8_2_conv - False\n",
      "368 conv5_block8_concat - False\n",
      "369 conv5_block9_0_bn - False\n",
      "370 conv5_block9_0_relu - False\n",
      "371 conv5_block9_1_conv - False\n",
      "372 conv5_block9_1_bn - False\n",
      "373 conv5_block9_1_relu - False\n",
      "374 conv5_block9_2_conv - False\n",
      "375 conv5_block9_concat - False\n",
      "376 conv5_block10_0_bn - False\n",
      "377 conv5_block10_0_relu - False\n",
      "378 conv5_block10_1_conv - False\n",
      "379 conv5_block10_1_bn - False\n",
      "380 conv5_block10_1_relu - False\n",
      "381 conv5_block10_2_conv - False\n",
      "382 conv5_block10_concat - False\n",
      "383 conv5_block11_0_bn - False\n",
      "384 conv5_block11_0_relu - False\n",
      "385 conv5_block11_1_conv - False\n",
      "386 conv5_block11_1_bn - False\n",
      "387 conv5_block11_1_relu - False\n",
      "388 conv5_block11_2_conv - False\n",
      "389 conv5_block11_concat - False\n",
      "390 conv5_block12_0_bn - False\n",
      "391 conv5_block12_0_relu - False\n",
      "392 conv5_block12_1_conv - False\n",
      "393 conv5_block12_1_bn - False\n",
      "394 conv5_block12_1_relu - False\n",
      "395 conv5_block12_2_conv - False\n",
      "396 conv5_block12_concat - False\n",
      "397 conv5_block13_0_bn - False\n",
      "398 conv5_block13_0_relu - False\n",
      "399 conv5_block13_1_conv - False\n",
      "400 conv5_block13_1_bn - False\n",
      "401 conv5_block13_1_relu - False\n",
      "402 conv5_block13_2_conv - False\n",
      "403 conv5_block13_concat - False\n",
      "404 conv5_block14_0_bn - False\n",
      "405 conv5_block14_0_relu - False\n",
      "406 conv5_block14_1_conv - False\n",
      "407 conv5_block14_1_bn - False\n",
      "408 conv5_block14_1_relu - False\n",
      "409 conv5_block14_2_conv - False\n",
      "410 conv5_block14_concat - False\n",
      "411 conv5_block15_0_bn - False\n",
      "412 conv5_block15_0_relu - False\n",
      "413 conv5_block15_1_conv - False\n",
      "414 conv5_block15_1_bn - False\n",
      "415 conv5_block15_1_relu - False\n",
      "416 conv5_block15_2_conv - False\n",
      "417 conv5_block15_concat - False\n",
      "418 conv5_block16_0_bn - False\n",
      "419 conv5_block16_0_relu - False\n",
      "420 conv5_block16_1_conv - False\n",
      "421 conv5_block16_1_bn - False\n",
      "422 conv5_block16_1_relu - False\n",
      "423 conv5_block16_2_conv - False\n",
      "424 conv5_block16_concat - False\n",
      "425 bn - False\n",
      "426 relu - False\n"
     ]
    }
   ],
   "source": [
    "input_layer = K.Input(shape=(160,160,3))\n",
    "effnet_model = K.applications.DenseNet121(include_top = False, weights = \"imagenet\", input_tensor = input_layer)\n",
    "for layer in effnet_model.layers:\n",
    "    layer.trainable = False\n",
    "for i, layer in enumerate(effnet_model.layers):\n",
    "    print(i, layer.name, \"-\", layer.trainable)"
   ]
  },
  {
   "cell_type": "markdown",
   "id": "269bd5f3",
   "metadata": {
    "id": "269bd5f3"
   },
   "source": [
    "# CBAM "
   ]
  },
  {
   "cell_type": "code",
   "execution_count": 7,
   "id": "6f787a3b",
   "metadata": {
    "executionInfo": {
     "elapsed": 33,
     "status": "ok",
     "timestamp": 1676449808554,
     "user": {
      "displayName": "Joint Colab",
      "userId": "04943251974374661202"
     },
     "user_tz": -330
    },
    "id": "6f787a3b"
   },
   "outputs": [],
   "source": [
    "def channel_attention_module(x, ratio=8):\n",
    "    batch, _, _, channel = x.shape\n",
    "    ## Shared layers\n",
    "    l1 = K.layers.Dense(channel//ratio, activation=\"relu\", use_bias=False)\n",
    "    l2 = K.layers.Dense(channel, use_bias=False)\n",
    "    ## Global Average Pooling\n",
    "    x1 = K.layers.GlobalAveragePooling2D()(x)\n",
    "    x1 = l1(x1)\n",
    "    x1 = l2(x1)\n",
    "    ## Global Max Pooling\n",
    "    x2 = K.layers.GlobalMaxPooling2D()(x)\n",
    "    x2 = l1(x2)\n",
    "    x2 = l2(x2)\n",
    "    ## Add both the features and pass through sigmoid\n",
    "    feats = x1 + x2\n",
    "    feats = K.layers.Activation(\"sigmoid\")(feats)\n",
    "    feats = K.layers.Multiply()([x, feats])\n",
    "\n",
    "    return feats\n",
    "\n",
    "def spatial_attention_module(x):\n",
    "    ## Average Pooling\n",
    "    x1 = tf.reduce_mean(x, axis=-1)\n",
    "    x1 = tf.expand_dims(x1, axis=-1)\n",
    "    ## Max Pooling\n",
    "    x2 = tf.reduce_max(x, axis=-1)\n",
    "    x2 = tf.expand_dims(x2, axis=-1)\n",
    "    ## Concatenat both the features\n",
    "    feats = K.layers.Concatenate()([x1, x2])\n",
    "    ## Conv layer\n",
    "    feats = K.layers.Conv2D(1, kernel_size=7, padding=\"same\", activation=\"sigmoid\")(feats)\n",
    "    feats = K.layers.Multiply()([x, feats])\n",
    "\n",
    "    return feats\n",
    "\n",
    "def cbam(x):\n",
    "    x = channel_attention_module(x)\n",
    "    x = spatial_attention_module(x)\n",
    "    return x"
   ]
  },
  {
   "cell_type": "code",
   "execution_count": null,
   "id": "6448199a",
   "metadata": {
    "executionInfo": {
     "elapsed": 887,
     "status": "ok",
     "timestamp": 1676454388248,
     "user": {
      "displayName": "Joint Colab",
      "userId": "04943251974374661202"
     },
     "user_tz": -330
    },
    "id": "6448199a"
   },
   "outputs": [],
   "source": [
    "def f1_score(y_true, y_pred): #taken from old keras source code\n",
    "    true_positives = Kback.sum(Kback.round(Kback.clip(y_true * y_pred, 0, 1)))\n",
    "    possible_positives = Kback.sum(Kback.round(Kback.clip(y_true, 0, 1)))\n",
    "    predicted_positives = Kback.sum(Kback.round(Kback.clip(y_pred, 0, 1)))\n",
    "    precision = true_positives / (predicted_positives + Kback.epsilon())\n",
    "    recall = true_positives / (possible_positives + Kback.epsilon())\n",
    "    f1_val = 2*(precision*recall)/(precision+recall+Kback.epsilon())\n",
    "    return f1_val\n",
    "\n",
    "METRICS = [\n",
    "      \"accuracy\",\n",
    "      K.metrics.Precision(name='precision'),\n",
    "      K.metrics.Recall(name='recall'),\n",
    "      K.metrics.AUC(name='auc'),\n",
    "      f1_score\n",
    "]"
   ]
  },
  {
   "cell_type": "code",
   "execution_count": 9,
   "id": "73b41be7",
   "metadata": {
    "colab": {
     "base_uri": "https://localhost:8080/"
    },
    "executionInfo": {
     "elapsed": 902,
     "status": "ok",
     "timestamp": 1676449809427,
     "user": {
      "displayName": "Joint Colab",
      "userId": "04943251974374661202"
     },
     "user_tz": -330
    },
    "id": "73b41be7",
    "outputId": "f5ab67e1-ecab-4776-c9bf-1a1d80824885"
   },
   "outputs": [
    {
     "name": "stdout",
     "output_type": "stream",
     "text": [
      "Model: \"model\"\n",
      "__________________________________________________________________________________________________\n",
      " Layer (type)                   Output Shape         Param #     Connected to                     \n",
      "==================================================================================================\n",
      " image (InputLayer)             [(None, 160, 160, 3  0           []                               \n",
      "                                )]                                                                \n",
      "                                                                                                  \n",
      " densenet121 (Functional)       (None, 5, 5, 1024)   7037504     ['image[0][0]']                  \n",
      "                                                                                                  \n",
      " global_average_pooling2d (Glob  (None, 1024)        0           ['densenet121[0][0]']            \n",
      " alAveragePooling2D)                                                                              \n",
      "                                                                                                  \n",
      " global_max_pooling2d (GlobalMa  (None, 1024)        0           ['densenet121[0][0]']            \n",
      " xPooling2D)                                                                                      \n",
      "                                                                                                  \n",
      " dense (Dense)                  (None, 128)          131072      ['global_average_pooling2d[0][0]'\n",
      "                                                                 , 'global_max_pooling2d[0][0]']  \n",
      "                                                                                                  \n",
      " dense_1 (Dense)                (None, 1024)         131072      ['dense[0][0]',                  \n",
      "                                                                  'dense[1][0]']                  \n",
      "                                                                                                  \n",
      " tf.__operators__.add (TFOpLamb  (None, 1024)        0           ['dense_1[0][0]',                \n",
      " da)                                                              'dense_1[1][0]']                \n",
      "                                                                                                  \n",
      " activation (Activation)        (None, 1024)         0           ['tf.__operators__.add[0][0]']   \n",
      "                                                                                                  \n",
      " multiply (Multiply)            (None, 5, 5, 1024)   0           ['densenet121[0][0]',            \n",
      "                                                                  'activation[0][0]']             \n",
      "                                                                                                  \n",
      " tf.math.reduce_mean (TFOpLambd  (None, 5, 5)        0           ['multiply[0][0]']               \n",
      " a)                                                                                               \n",
      "                                                                                                  \n",
      " tf.math.reduce_max (TFOpLambda  (None, 5, 5)        0           ['multiply[0][0]']               \n",
      " )                                                                                                \n",
      "                                                                                                  \n",
      " tf.expand_dims (TFOpLambda)    (None, 5, 5, 1)      0           ['tf.math.reduce_mean[0][0]']    \n",
      "                                                                                                  \n",
      " tf.expand_dims_1 (TFOpLambda)  (None, 5, 5, 1)      0           ['tf.math.reduce_max[0][0]']     \n",
      "                                                                                                  \n",
      " concatenate (Concatenate)      (None, 5, 5, 2)      0           ['tf.expand_dims[0][0]',         \n",
      "                                                                  'tf.expand_dims_1[0][0]']       \n",
      "                                                                                                  \n",
      " conv2d (Conv2D)                (None, 5, 5, 1)      99          ['concatenate[0][0]']            \n",
      "                                                                                                  \n",
      " multiply_1 (Multiply)          (None, 5, 5, 1024)   0           ['multiply[0][0]',               \n",
      "                                                                  'conv2d[0][0]']                 \n",
      "                                                                                                  \n",
      " global_average_pooling2d_1 (Gl  (None, 1024)        0           ['multiply_1[0][0]']             \n",
      " obalAveragePooling2D)                                                                            \n",
      "                                                                                                  \n",
      " lambda (Lambda)                (None, 1024)         0           ['global_average_pooling2d_1[0][0\n",
      "                                                                 ]']                              \n",
      "                                                                                                  \n",
      " dense_2 (Dense)                (None, 20)           20500       ['lambda[0][0]']                 \n",
      "                                                                                                  \n",
      "==================================================================================================\n",
      "Total params: 7,320,247\n",
      "Trainable params: 282,743\n",
      "Non-trainable params: 7,037,504\n",
      "__________________________________________________________________________________________________\n"
     ]
    }
   ],
   "source": [
    "inputs = K.layers.Input(shape=(160,160,3), name=\"image\") \n",
    "\n",
    "resnet50 = effnet_model(inputs)\n",
    "cbam_lay = cbam(resnet50)\n",
    "flat = K.layers.GlobalAveragePooling2D()(cbam_lay)\n",
    "temp = K.layers.Lambda(lambda x: x/2)(flat)\n",
    "output = K.layers.Dense(20, activation='softmax')(temp)\n",
    "\n",
    "model = K.Model(inputs=inputs, outputs=output)\n",
    "optimizer = K.optimizers.Adam(learning_rate=0.001, beta_1=0.9, beta_2=0.999, clipnorm=1.0)\n",
    "model.compile(loss=[\"categorical_crossentropy\"], metrics=METRICS, optimizer = optimizer)\n",
    "model.summary()"
   ]
  },
  {
   "cell_type": "markdown",
   "id": "88aece6c",
   "metadata": {
    "id": "88aece6c"
   },
   "source": [
    "# Training"
   ]
  },
  {
   "cell_type": "code",
   "execution_count": 10,
   "id": "3d545613",
   "metadata": {
    "colab": {
     "base_uri": "https://localhost:8080/"
    },
    "executionInfo": {
     "elapsed": 3065680,
     "status": "ok",
     "timestamp": 1676452875102,
     "user": {
      "displayName": "Joint Colab",
      "userId": "04943251974374661202"
     },
     "user_tz": -330
    },
    "id": "3d545613",
    "outputId": "e641b2d9-7b08-4302-f645-37702f6bf6e7"
   },
   "outputs": [
    {
     "name": "stdout",
     "output_type": "stream",
     "text": [
      "Epoch 1/100\n",
      "110/110 [==============================] - 392s 3s/step - loss: 1.6687 - accuracy: 0.6336 - precision: 0.9430 - recall: 0.1040 - auc: 0.9542 - f1_score: 0.1701 - val_loss: 0.8602 - val_accuracy: 0.7630 - val_precision: 0.9126 - val_recall: 0.4143 - val_auc: 0.9886 - val_f1_score: 0.5681\n",
      "Epoch 2/100\n",
      "110/110 [==============================] - 22s 204ms/step - loss: 0.6659 - accuracy: 0.8484 - precision: 0.9388 - recall: 0.5697 - auc: 0.9945 - f1_score: 0.7038 - val_loss: 0.5498 - val_accuracy: 0.8297 - val_precision: 0.8929 - val_recall: 0.7170 - val_auc: 0.9940 - val_f1_score: 0.7946\n",
      "Epoch 3/100\n",
      "110/110 [==============================] - 22s 202ms/step - loss: 0.4165 - accuracy: 0.9024 - precision: 0.9451 - recall: 0.8000 - auc: 0.9978 - f1_score: 0.8662 - val_loss: 0.4796 - val_accuracy: 0.8277 - val_precision: 0.8688 - val_recall: 0.7747 - val_auc: 0.9943 - val_f1_score: 0.8186\n",
      "Epoch 4/100\n",
      "110/110 [==============================] - 23s 205ms/step - loss: 0.3026 - accuracy: 0.9291 - precision: 0.9520 - recall: 0.8839 - auc: 0.9988 - f1_score: 0.9164 - val_loss: 0.4093 - val_accuracy: 0.8610 - val_precision: 0.8820 - val_recall: 0.8250 - val_auc: 0.9954 - val_f1_score: 0.8524\n",
      "Epoch 5/100\n",
      "110/110 [==============================] - 22s 202ms/step - loss: 0.2325 - accuracy: 0.9404 - precision: 0.9561 - recall: 0.9213 - auc: 0.9993 - f1_score: 0.9386 - val_loss: 0.3781 - val_accuracy: 0.8633 - val_precision: 0.8823 - val_recall: 0.8393 - val_auc: 0.9955 - val_f1_score: 0.8603\n",
      "Epoch 6/100\n",
      "110/110 [==============================] - 24s 215ms/step - loss: 0.1924 - accuracy: 0.9503 - precision: 0.9606 - recall: 0.9344 - auc: 0.9995 - f1_score: 0.9467 - val_loss: 0.3656 - val_accuracy: 0.8660 - val_precision: 0.8814 - val_recall: 0.8500 - val_auc: 0.9948 - val_f1_score: 0.8653\n",
      "Epoch 7/100\n",
      "110/110 [==============================] - 23s 204ms/step - loss: 0.1519 - accuracy: 0.9639 - precision: 0.9718 - recall: 0.9540 - auc: 0.9997 - f1_score: 0.9629 - val_loss: 0.3520 - val_accuracy: 0.8750 - val_precision: 0.8927 - val_recall: 0.8600 - val_auc: 0.9952 - val_f1_score: 0.8759\n",
      "Epoch 8/100\n",
      "110/110 [==============================] - 26s 240ms/step - loss: 0.1269 - accuracy: 0.9703 - precision: 0.9764 - recall: 0.9629 - auc: 0.9998 - f1_score: 0.9697 - val_loss: 0.3508 - val_accuracy: 0.8757 - val_precision: 0.8865 - val_recall: 0.8643 - val_auc: 0.9948 - val_f1_score: 0.8749\n",
      "Epoch 9/100\n",
      "110/110 [==============================] - 26s 236ms/step - loss: 0.1084 - accuracy: 0.9753 - precision: 0.9799 - recall: 0.9701 - auc: 0.9998 - f1_score: 0.9749 - val_loss: 0.3277 - val_accuracy: 0.8820 - val_precision: 0.8950 - val_recall: 0.8723 - val_auc: 0.9949 - val_f1_score: 0.8836\n",
      "Epoch 10/100\n",
      "110/110 [==============================] - 26s 237ms/step - loss: 0.0904 - accuracy: 0.9823 - precision: 0.9850 - recall: 0.9781 - auc: 0.9999 - f1_score: 0.9817 - val_loss: 0.3285 - val_accuracy: 0.8853 - val_precision: 0.8958 - val_recall: 0.8767 - val_auc: 0.9950 - val_f1_score: 0.8861\n",
      "Epoch 11/100\n",
      "110/110 [==============================] - 22s 198ms/step - loss: 0.0770 - accuracy: 0.9861 - precision: 0.9886 - recall: 0.9819 - auc: 0.9999 - f1_score: 0.9853 - val_loss: 0.3227 - val_accuracy: 0.8870 - val_precision: 0.8972 - val_recall: 0.8783 - val_auc: 0.9947 - val_f1_score: 0.8874\n",
      "Epoch 12/100\n",
      "110/110 [==============================] - 23s 206ms/step - loss: 0.0667 - accuracy: 0.9884 - precision: 0.9908 - recall: 0.9857 - auc: 1.0000 - f1_score: 0.9883 - val_loss: 0.3313 - val_accuracy: 0.8890 - val_precision: 0.8998 - val_recall: 0.8803 - val_auc: 0.9945 - val_f1_score: 0.8900\n",
      "Epoch 13/100\n",
      "110/110 [==============================] - 22s 202ms/step - loss: 0.0582 - accuracy: 0.9913 - precision: 0.9928 - recall: 0.9893 - auc: 1.0000 - f1_score: 0.9911 - val_loss: 0.3223 - val_accuracy: 0.8907 - val_precision: 0.9003 - val_recall: 0.8823 - val_auc: 0.9940 - val_f1_score: 0.8912\n",
      "Epoch 14/100\n",
      "110/110 [==============================] - 22s 198ms/step - loss: 0.0524 - accuracy: 0.9933 - precision: 0.9947 - recall: 0.9911 - auc: 1.0000 - f1_score: 0.9929 - val_loss: 0.3187 - val_accuracy: 0.8933 - val_precision: 0.9008 - val_recall: 0.8837 - val_auc: 0.9942 - val_f1_score: 0.8920\n",
      "Epoch 15/100\n",
      "110/110 [==============================] - 23s 207ms/step - loss: 0.0475 - accuracy: 0.9943 - precision: 0.9961 - recall: 0.9930 - auc: 1.0000 - f1_score: 0.9946 - val_loss: 0.3176 - val_accuracy: 0.8943 - val_precision: 0.9009 - val_recall: 0.8847 - val_auc: 0.9936 - val_f1_score: 0.8925\n",
      "Epoch 16/100\n",
      "110/110 [==============================] - 23s 211ms/step - loss: 0.0448 - accuracy: 0.9959 - precision: 0.9971 - recall: 0.9937 - auc: 1.0000 - f1_score: 0.9954 - val_loss: 0.3158 - val_accuracy: 0.8983 - val_precision: 0.9056 - val_recall: 0.8890 - val_auc: 0.9942 - val_f1_score: 0.8974\n",
      "Epoch 17/100\n",
      "110/110 [==============================] - 21s 195ms/step - loss: 0.0424 - accuracy: 0.9960 - precision: 0.9968 - recall: 0.9943 - auc: 1.0000 - f1_score: 0.9956 - val_loss: 0.3196 - val_accuracy: 0.8947 - val_precision: 0.9004 - val_recall: 0.8857 - val_auc: 0.9933 - val_f1_score: 0.8927\n",
      "Epoch 18/100\n",
      "110/110 [==============================] - 22s 200ms/step - loss: 0.0410 - accuracy: 0.9963 - precision: 0.9974 - recall: 0.9946 - auc: 1.0000 - f1_score: 0.9959 - val_loss: 0.3172 - val_accuracy: 0.8960 - val_precision: 0.9031 - val_recall: 0.8880 - val_auc: 0.9938 - val_f1_score: 0.8954\n",
      "Epoch 19/100\n",
      "110/110 [==============================] - 26s 237ms/step - loss: 0.0400 - accuracy: 0.9964 - precision: 0.9971 - recall: 0.9947 - auc: 1.0000 - f1_score: 0.9959 - val_loss: 0.3176 - val_accuracy: 0.8937 - val_precision: 0.9004 - val_recall: 0.8857 - val_auc: 0.9937 - val_f1_score: 0.8928\n",
      "Epoch 20/100\n",
      "110/110 [==============================] - ETA: 0s - loss: 0.0396 - accuracy: 0.9967 - precision: 0.9976 - recall: 0.9951 - auc: 1.0000 - f1_score: 0.9964>saved snapshot snapshot_model_1.h5, epoch 19\n",
      "110/110 [==============================] - 22s 199ms/step - loss: 0.0396 - accuracy: 0.9967 - precision: 0.9976 - recall: 0.9951 - auc: 1.0000 - f1_score: 0.9964 - val_loss: 0.3178 - val_accuracy: 0.8947 - val_precision: 0.9018 - val_recall: 0.8877 - val_auc: 0.9937 - val_f1_score: 0.8946\n",
      "Epoch 21/100\n",
      "110/110 [==============================] - 22s 199ms/step - loss: 0.0674 - accuracy: 0.9830 - precision: 0.9855 - recall: 0.9797 - auc: 0.9999 - f1_score: 0.9827 - val_loss: 0.3613 - val_accuracy: 0.8783 - val_precision: 0.8887 - val_recall: 0.8703 - val_auc: 0.9933 - val_f1_score: 0.8794\n",
      "Epoch 22/100\n",
      "110/110 [==============================] - 22s 200ms/step - loss: 0.0759 - accuracy: 0.9796 - precision: 0.9822 - recall: 0.9761 - auc: 0.9999 - f1_score: 0.9792 - val_loss: 0.3487 - val_accuracy: 0.8873 - val_precision: 0.8955 - val_recall: 0.8797 - val_auc: 0.9926 - val_f1_score: 0.8873\n",
      "Epoch 23/100\n",
      "110/110 [==============================] - 21s 193ms/step - loss: 0.0496 - accuracy: 0.9889 - precision: 0.9894 - recall: 0.9870 - auc: 1.0000 - f1_score: 0.9883 - val_loss: 0.3706 - val_accuracy: 0.8857 - val_precision: 0.8924 - val_recall: 0.8790 - val_auc: 0.9900 - val_f1_score: 0.8856\n",
      "Epoch 24/100\n",
      "110/110 [==============================] - 22s 202ms/step - loss: 0.0357 - accuracy: 0.9914 - precision: 0.9931 - recall: 0.9910 - auc: 1.0000 - f1_score: 0.9921 - val_loss: 0.3510 - val_accuracy: 0.8897 - val_precision: 0.8959 - val_recall: 0.8860 - val_auc: 0.9904 - val_f1_score: 0.8910\n",
      "Epoch 25/100\n",
      "110/110 [==============================] - 26s 236ms/step - loss: 0.0249 - accuracy: 0.9960 - precision: 0.9961 - recall: 0.9954 - auc: 1.0000 - f1_score: 0.9958 - val_loss: 0.3546 - val_accuracy: 0.8973 - val_precision: 0.9018 - val_recall: 0.8943 - val_auc: 0.9900 - val_f1_score: 0.8981\n",
      "Epoch 26/100\n",
      "110/110 [==============================] - 26s 237ms/step - loss: 0.0186 - accuracy: 0.9980 - precision: 0.9981 - recall: 0.9974 - auc: 1.0000 - f1_score: 0.9978 - val_loss: 0.3429 - val_accuracy: 0.9020 - val_precision: 0.9058 - val_recall: 0.8977 - val_auc: 0.9905 - val_f1_score: 0.9017\n",
      "Epoch 27/100\n",
      "110/110 [==============================] - 21s 193ms/step - loss: 0.0134 - accuracy: 0.9986 - precision: 0.9990 - recall: 0.9981 - auc: 1.0000 - f1_score: 0.9986 - val_loss: 0.3447 - val_accuracy: 0.8987 - val_precision: 0.9039 - val_recall: 0.8963 - val_auc: 0.9907 - val_f1_score: 0.8999\n",
      "Epoch 28/100\n",
      "110/110 [==============================] - 22s 202ms/step - loss: 0.0135 - accuracy: 0.9981 - precision: 0.9983 - recall: 0.9979 - auc: 1.0000 - f1_score: 0.9981 - val_loss: 0.3459 - val_accuracy: 0.9027 - val_precision: 0.9075 - val_recall: 0.8993 - val_auc: 0.9901 - val_f1_score: 0.9032\n",
      "Epoch 29/100\n",
      "110/110 [==============================] - 26s 238ms/step - loss: 0.0101 - accuracy: 0.9993 - precision: 0.9994 - recall: 0.9990 - auc: 1.0000 - f1_score: 0.9992 - val_loss: 0.3563 - val_accuracy: 0.9020 - val_precision: 0.9071 - val_recall: 0.8987 - val_auc: 0.9894 - val_f1_score: 0.9030\n",
      "Epoch 30/100\n",
      "110/110 [==============================] - 22s 198ms/step - loss: 0.0085 - accuracy: 0.9994 - precision: 0.9994 - recall: 0.9994 - auc: 1.0000 - f1_score: 0.9994 - val_loss: 0.3433 - val_accuracy: 0.9050 - val_precision: 0.9099 - val_recall: 0.9017 - val_auc: 0.9897 - val_f1_score: 0.9058\n",
      "Epoch 31/100\n",
      "110/110 [==============================] - 22s 197ms/step - loss: 0.0077 - accuracy: 0.9997 - precision: 0.9997 - recall: 0.9997 - auc: 1.0000 - f1_score: 0.9997 - val_loss: 0.3486 - val_accuracy: 0.9050 - val_precision: 0.9099 - val_recall: 0.9020 - val_auc: 0.9892 - val_f1_score: 0.9060\n",
      "Epoch 32/100\n",
      "110/110 [==============================] - 22s 201ms/step - loss: 0.0070 - accuracy: 0.9996 - precision: 0.9997 - recall: 0.9994 - auc: 1.0000 - f1_score: 0.9996 - val_loss: 0.3465 - val_accuracy: 0.9037 - val_precision: 0.9082 - val_recall: 0.9000 - val_auc: 0.9896 - val_f1_score: 0.9040\n",
      "Epoch 33/100\n",
      "110/110 [==============================] - 26s 233ms/step - loss: 0.0066 - accuracy: 0.9996 - precision: 1.0000 - recall: 0.9996 - auc: 1.0000 - f1_score: 0.9998 - val_loss: 0.3514 - val_accuracy: 0.9043 - val_precision: 0.9089 - val_recall: 0.9017 - val_auc: 0.9887 - val_f1_score: 0.9052\n",
      "Epoch 34/100\n",
      "110/110 [==============================] - 26s 237ms/step - loss: 0.0063 - accuracy: 0.9996 - precision: 0.9999 - recall: 0.9994 - auc: 1.0000 - f1_score: 0.9996 - val_loss: 0.3574 - val_accuracy: 0.9030 - val_precision: 0.9079 - val_recall: 0.9000 - val_auc: 0.9887 - val_f1_score: 0.9039\n",
      "Epoch 35/100\n",
      "110/110 [==============================] - 22s 196ms/step - loss: 0.0060 - accuracy: 0.9997 - precision: 0.9997 - recall: 0.9996 - auc: 1.0000 - f1_score: 0.9996 - val_loss: 0.3577 - val_accuracy: 0.9037 - val_precision: 0.9077 - val_recall: 0.9017 - val_auc: 0.9887 - val_f1_score: 0.9045\n",
      "Epoch 36/100\n",
      "110/110 [==============================] - 23s 204ms/step - loss: 0.0057 - accuracy: 0.9996 - precision: 0.9999 - recall: 0.9996 - auc: 1.0000 - f1_score: 0.9997 - val_loss: 0.3571 - val_accuracy: 0.9043 - val_precision: 0.9087 - val_recall: 0.9023 - val_auc: 0.9887 - val_f1_score: 0.9056\n",
      "Epoch 37/100\n",
      "110/110 [==============================] - 22s 203ms/step - loss: 0.0056 - accuracy: 0.9996 - precision: 1.0000 - recall: 0.9996 - auc: 1.0000 - f1_score: 0.9998 - val_loss: 0.3573 - val_accuracy: 0.9037 - val_precision: 0.9083 - val_recall: 0.9017 - val_auc: 0.9887 - val_f1_score: 0.9050\n",
      "Epoch 38/100\n",
      "110/110 [==============================] - 22s 196ms/step - loss: 0.0055 - accuracy: 0.9997 - precision: 1.0000 - recall: 0.9996 - auc: 1.0000 - f1_score: 0.9998 - val_loss: 0.3586 - val_accuracy: 0.9050 - val_precision: 0.9091 - val_recall: 0.9030 - val_auc: 0.9887 - val_f1_score: 0.9061\n",
      "Epoch 39/100\n",
      "110/110 [==============================] - 22s 202ms/step - loss: 0.0054 - accuracy: 0.9997 - precision: 1.0000 - recall: 0.9996 - auc: 1.0000 - f1_score: 0.9998 - val_loss: 0.3594 - val_accuracy: 0.9050 - val_precision: 0.9093 - val_recall: 0.9023 - val_auc: 0.9886 - val_f1_score: 0.9056\n",
      "Epoch 40/100\n",
      "110/110 [==============================] - ETA: 0s - loss: 0.0054 - accuracy: 0.9999 - precision: 1.0000 - recall: 0.9996 - auc: 1.0000 - f1_score: 0.9998>saved snapshot snapshot_model_2.h5, epoch 39\n",
      "110/110 [==============================] - 27s 244ms/step - loss: 0.0054 - accuracy: 0.9999 - precision: 1.0000 - recall: 0.9996 - auc: 1.0000 - f1_score: 0.9998 - val_loss: 0.3592 - val_accuracy: 0.9047 - val_precision: 0.9093 - val_recall: 0.9020 - val_auc: 0.9887 - val_f1_score: 0.9055\n",
      "Epoch 41/100\n",
      "110/110 [==============================] - 21s 194ms/step - loss: 0.0156 - accuracy: 0.9964 - precision: 0.9966 - recall: 0.9961 - auc: 0.9999 - f1_score: 0.9964 - val_loss: 0.4304 - val_accuracy: 0.8783 - val_precision: 0.8887 - val_recall: 0.8753 - val_auc: 0.9868 - val_f1_score: 0.8819\n",
      "Epoch 42/100\n",
      "110/110 [==============================] - 22s 202ms/step - loss: 0.0615 - accuracy: 0.9814 - precision: 0.9827 - recall: 0.9799 - auc: 0.9997 - f1_score: 0.9814 - val_loss: 0.4739 - val_accuracy: 0.8757 - val_precision: 0.8798 - val_recall: 0.8710 - val_auc: 0.9840 - val_f1_score: 0.8753\n",
      "Epoch 43/100\n",
      "110/110 [==============================] - 22s 196ms/step - loss: 0.0406 - accuracy: 0.9876 - precision: 0.9881 - recall: 0.9871 - auc: 0.9998 - f1_score: 0.9877 - val_loss: 0.4177 - val_accuracy: 0.8827 - val_precision: 0.8866 - val_recall: 0.8787 - val_auc: 0.9862 - val_f1_score: 0.8826\n",
      "Epoch 44/100\n",
      "110/110 [==============================] - 26s 235ms/step - loss: 0.0226 - accuracy: 0.9937 - precision: 0.9940 - recall: 0.9933 - auc: 1.0000 - f1_score: 0.9937 - val_loss: 0.3856 - val_accuracy: 0.8947 - val_precision: 0.9005 - val_recall: 0.8897 - val_auc: 0.9883 - val_f1_score: 0.8950\n",
      "Epoch 45/100\n",
      "110/110 [==============================] - 22s 198ms/step - loss: 0.0099 - accuracy: 0.9986 - precision: 0.9986 - recall: 0.9986 - auc: 1.0000 - f1_score: 0.9986 - val_loss: 0.3786 - val_accuracy: 0.9067 - val_precision: 0.9097 - val_recall: 0.9030 - val_auc: 0.9873 - val_f1_score: 0.9063\n",
      "Epoch 46/100\n",
      "110/110 [==============================] - 22s 204ms/step - loss: 0.0046 - accuracy: 0.9997 - precision: 0.9997 - recall: 0.9996 - auc: 1.0000 - f1_score: 0.9996 - val_loss: 0.3814 - val_accuracy: 0.9063 - val_precision: 0.9106 - val_recall: 0.9033 - val_auc: 0.9868 - val_f1_score: 0.9070\n",
      "Epoch 47/100\n",
      "110/110 [==============================] - 22s 201ms/step - loss: 0.0034 - accuracy: 0.9997 - precision: 0.9997 - recall: 0.9997 - auc: 1.0000 - f1_score: 0.9997 - val_loss: 0.3904 - val_accuracy: 0.9037 - val_precision: 0.9074 - val_recall: 0.9020 - val_auc: 0.9861 - val_f1_score: 0.9047\n",
      "Epoch 48/100\n",
      "110/110 [==============================] - 21s 194ms/step - loss: 0.0030 - accuracy: 0.9997 - precision: 0.9999 - recall: 0.9997 - auc: 1.0000 - f1_score: 0.9998 - val_loss: 0.3924 - val_accuracy: 0.9083 - val_precision: 0.9114 - val_recall: 0.9057 - val_auc: 0.9857 - val_f1_score: 0.9086\n",
      "Epoch 49/100\n",
      "110/110 [==============================] - 22s 197ms/step - loss: 0.0028 - accuracy: 0.9997 - precision: 0.9997 - recall: 0.9997 - auc: 1.0000 - f1_score: 0.9997 - val_loss: 0.3969 - val_accuracy: 0.9063 - val_precision: 0.9098 - val_recall: 0.9040 - val_auc: 0.9854 - val_f1_score: 0.9070\n",
      "Epoch 50/100\n",
      "110/110 [==============================] - 22s 197ms/step - loss: 0.0026 - accuracy: 0.9997 - precision: 0.9999 - recall: 0.9996 - auc: 1.0000 - f1_score: 0.9997 - val_loss: 0.3945 - val_accuracy: 0.9080 - val_precision: 0.9121 - val_recall: 0.9067 - val_auc: 0.9859 - val_f1_score: 0.9095\n",
      "Epoch 51/100\n",
      "110/110 [==============================] - 21s 194ms/step - loss: 0.0024 - accuracy: 0.9997 - precision: 0.9999 - recall: 0.9997 - auc: 1.0000 - f1_score: 0.9998 - val_loss: 0.3972 - val_accuracy: 0.9083 - val_precision: 0.9122 - val_recall: 0.9070 - val_auc: 0.9859 - val_f1_score: 0.9096\n",
      "Epoch 52/100\n",
      "110/110 [==============================] - 22s 199ms/step - loss: 0.0023 - accuracy: 0.9999 - precision: 0.9999 - recall: 0.9999 - auc: 1.0000 - f1_score: 0.9999 - val_loss: 0.4028 - val_accuracy: 0.9067 - val_precision: 0.9105 - val_recall: 0.9053 - val_auc: 0.9848 - val_f1_score: 0.9078\n",
      "Epoch 53/100\n",
      "110/110 [==============================] - 21s 193ms/step - loss: 0.0022 - accuracy: 0.9999 - precision: 0.9999 - recall: 0.9997 - auc: 1.0000 - f1_score: 0.9998 - val_loss: 0.4012 - val_accuracy: 0.9077 - val_precision: 0.9118 - val_recall: 0.9067 - val_auc: 0.9848 - val_f1_score: 0.9093\n",
      "Epoch 54/100\n",
      "110/110 [==============================] - 22s 198ms/step - loss: 0.0021 - accuracy: 0.9997 - precision: 0.9999 - recall: 0.9997 - auc: 1.0000 - f1_score: 0.9998 - val_loss: 0.4031 - val_accuracy: 0.9083 - val_precision: 0.9121 - val_recall: 0.9067 - val_auc: 0.9849 - val_f1_score: 0.9095\n",
      "Epoch 55/100\n",
      "110/110 [==============================] - 21s 193ms/step - loss: 0.0020 - accuracy: 0.9999 - precision: 0.9999 - recall: 0.9997 - auc: 1.0000 - f1_score: 0.9998 - val_loss: 0.4005 - val_accuracy: 0.9087 - val_precision: 0.9128 - val_recall: 0.9067 - val_auc: 0.9853 - val_f1_score: 0.9096\n",
      "Epoch 56/100\n",
      "110/110 [==============================] - 22s 199ms/step - loss: 0.0020 - accuracy: 0.9999 - precision: 0.9999 - recall: 0.9999 - auc: 1.0000 - f1_score: 0.9999 - val_loss: 0.4045 - val_accuracy: 0.9083 - val_precision: 0.9125 - val_recall: 0.9070 - val_auc: 0.9846 - val_f1_score: 0.9098\n",
      "Epoch 57/100\n",
      "110/110 [==============================] - 26s 232ms/step - loss: 0.0019 - accuracy: 0.9997 - precision: 0.9999 - recall: 0.9997 - auc: 1.0000 - f1_score: 0.9998 - val_loss: 0.4044 - val_accuracy: 0.9087 - val_precision: 0.9122 - val_recall: 0.9073 - val_auc: 0.9846 - val_f1_score: 0.9099\n",
      "Epoch 58/100\n",
      "110/110 [==============================] - 22s 196ms/step - loss: 0.0019 - accuracy: 0.9997 - precision: 0.9999 - recall: 0.9997 - auc: 1.0000 - f1_score: 0.9998 - val_loss: 0.4045 - val_accuracy: 0.9083 - val_precision: 0.9122 - val_recall: 0.9073 - val_auc: 0.9846 - val_f1_score: 0.9099\n",
      "Epoch 59/100\n",
      "110/110 [==============================] - 22s 200ms/step - loss: 0.0019 - accuracy: 0.9997 - precision: 1.0000 - recall: 0.9997 - auc: 1.0000 - f1_score: 0.9999 - val_loss: 0.4045 - val_accuracy: 0.9083 - val_precision: 0.9125 - val_recall: 0.9073 - val_auc: 0.9848 - val_f1_score: 0.9097\n",
      "Epoch 60/100\n",
      "110/110 [==============================] - ETA: 0s - loss: 0.0019 - accuracy: 0.9999 - precision: 1.0000 - recall: 0.9997 - auc: 1.0000 - f1_score: 0.9999>saved snapshot snapshot_model_3.h5, epoch 59\n",
      "110/110 [==============================] - 22s 196ms/step - loss: 0.0019 - accuracy: 0.9999 - precision: 1.0000 - recall: 0.9997 - auc: 1.0000 - f1_score: 0.9999 - val_loss: 0.4046 - val_accuracy: 0.9083 - val_precision: 0.9125 - val_recall: 0.9073 - val_auc: 0.9848 - val_f1_score: 0.9100\n",
      "Epoch 61/100\n",
      "110/110 [==============================] - 22s 202ms/step - loss: 0.0023 - accuracy: 0.9999 - precision: 0.9999 - recall: 0.9999 - auc: 1.0000 - f1_score: 0.9999 - val_loss: 0.4385 - val_accuracy: 0.8990 - val_precision: 0.9021 - val_recall: 0.8967 - val_auc: 0.9824 - val_f1_score: 0.8993\n",
      "Epoch 62/100\n",
      "110/110 [==============================] - 22s 199ms/step - loss: 0.0489 - accuracy: 0.9834 - precision: 0.9840 - recall: 0.9824 - auc: 0.9998 - f1_score: 0.9826 - val_loss: 0.5352 - val_accuracy: 0.8543 - val_precision: 0.8612 - val_recall: 0.8500 - val_auc: 0.9825 - val_f1_score: 0.8554\n",
      "Epoch 63/100\n",
      "110/110 [==============================] - 72s 657ms/step - loss: 0.0438 - accuracy: 0.9873 - precision: 0.9877 - recall: 0.9864 - auc: 0.9996 - f1_score: 0.9869 - val_loss: 0.4364 - val_accuracy: 0.8810 - val_precision: 0.8862 - val_recall: 0.8800 - val_auc: 0.9861 - val_f1_score: 0.8829\n",
      "Epoch 64/100\n",
      "110/110 [==============================] - 21s 191ms/step - loss: 0.0184 - accuracy: 0.9951 - precision: 0.9951 - recall: 0.9949 - auc: 0.9999 - f1_score: 0.9950 - val_loss: 0.3937 - val_accuracy: 0.8993 - val_precision: 0.9041 - val_recall: 0.8960 - val_auc: 0.9869 - val_f1_score: 0.9000\n",
      "Epoch 65/100\n",
      "110/110 [==============================] - 22s 204ms/step - loss: 0.0074 - accuracy: 0.9987 - precision: 0.9989 - recall: 0.9987 - auc: 1.0000 - f1_score: 0.9988 - val_loss: 0.3910 - val_accuracy: 0.9047 - val_precision: 0.9092 - val_recall: 0.9040 - val_auc: 0.9856 - val_f1_score: 0.9067\n",
      "Epoch 66/100\n",
      "110/110 [==============================] - 26s 238ms/step - loss: 0.0027 - accuracy: 0.9997 - precision: 0.9997 - recall: 0.9997 - auc: 1.0000 - f1_score: 0.9997 - val_loss: 0.3834 - val_accuracy: 0.9110 - val_precision: 0.9136 - val_recall: 0.9090 - val_auc: 0.9852 - val_f1_score: 0.9112\n",
      "Epoch 67/100\n",
      "110/110 [==============================] - 22s 196ms/step - loss: 0.0020 - accuracy: 0.9997 - precision: 0.9997 - recall: 0.9996 - auc: 1.0000 - f1_score: 0.9996 - val_loss: 0.3956 - val_accuracy: 0.9097 - val_precision: 0.9126 - val_recall: 0.9087 - val_auc: 0.9843 - val_f1_score: 0.9105\n",
      "Epoch 68/100\n",
      "110/110 [==============================] - 22s 201ms/step - loss: 0.0017 - accuracy: 0.9997 - precision: 0.9999 - recall: 0.9997 - auc: 1.0000 - f1_score: 0.9998 - val_loss: 0.4072 - val_accuracy: 0.9083 - val_precision: 0.9097 - val_recall: 0.9070 - val_auc: 0.9841 - val_f1_score: 0.9084\n",
      "Epoch 69/100\n",
      "110/110 [==============================] - 21s 193ms/step - loss: 0.0017 - accuracy: 0.9997 - precision: 0.9997 - recall: 0.9997 - auc: 1.0000 - f1_score: 0.9997 - val_loss: 0.3943 - val_accuracy: 0.9127 - val_precision: 0.9155 - val_recall: 0.9100 - val_auc: 0.9839 - val_f1_score: 0.9129\n",
      "Epoch 70/100\n",
      "110/110 [==============================] - 22s 199ms/step - loss: 0.0015 - accuracy: 0.9997 - precision: 0.9999 - recall: 0.9997 - auc: 1.0000 - f1_score: 0.9998 - val_loss: 0.3969 - val_accuracy: 0.9120 - val_precision: 0.9162 - val_recall: 0.9110 - val_auc: 0.9845 - val_f1_score: 0.9137\n",
      "Epoch 71/100\n",
      "110/110 [==============================] - 22s 199ms/step - loss: 0.0014 - accuracy: 0.9999 - precision: 0.9999 - recall: 0.9999 - auc: 1.0000 - f1_score: 0.9999 - val_loss: 0.4041 - val_accuracy: 0.9117 - val_precision: 0.9143 - val_recall: 0.9100 - val_auc: 0.9837 - val_f1_score: 0.9121\n",
      "Epoch 72/100\n",
      "110/110 [==============================] - 21s 191ms/step - loss: 0.0013 - accuracy: 0.9999 - precision: 0.9999 - recall: 0.9999 - auc: 1.0000 - f1_score: 0.9999 - val_loss: 0.4017 - val_accuracy: 0.9113 - val_precision: 0.9139 - val_recall: 0.9090 - val_auc: 0.9839 - val_f1_score: 0.9115\n",
      "Epoch 73/100\n",
      "110/110 [==============================] - 22s 203ms/step - loss: 0.0013 - accuracy: 0.9997 - precision: 0.9997 - recall: 0.9997 - auc: 1.0000 - f1_score: 0.9997 - val_loss: 0.4016 - val_accuracy: 0.9117 - val_precision: 0.9130 - val_recall: 0.9090 - val_auc: 0.9839 - val_f1_score: 0.9109\n",
      "Epoch 74/100\n",
      "110/110 [==============================] - 21s 193ms/step - loss: 0.0012 - accuracy: 0.9999 - precision: 0.9999 - recall: 0.9999 - auc: 1.0000 - f1_score: 0.9999 - val_loss: 0.4065 - val_accuracy: 0.9110 - val_precision: 0.9136 - val_recall: 0.9093 - val_auc: 0.9834 - val_f1_score: 0.9115\n",
      "Epoch 75/100\n",
      "110/110 [==============================] - 22s 200ms/step - loss: 0.0011 - accuracy: 0.9999 - precision: 0.9999 - recall: 0.9999 - auc: 1.0000 - f1_score: 0.9999 - val_loss: 0.4039 - val_accuracy: 0.9103 - val_precision: 0.9133 - val_recall: 0.9090 - val_auc: 0.9834 - val_f1_score: 0.9111\n",
      "Epoch 76/100\n",
      "110/110 [==============================] - 22s 196ms/step - loss: 0.0011 - accuracy: 0.9999 - precision: 0.9999 - recall: 0.9999 - auc: 1.0000 - f1_score: 0.9999 - val_loss: 0.4068 - val_accuracy: 0.9103 - val_precision: 0.9136 - val_recall: 0.9090 - val_auc: 0.9834 - val_f1_score: 0.9113\n",
      "Epoch 77/100\n",
      "110/110 [==============================] - 22s 201ms/step - loss: 0.0011 - accuracy: 0.9997 - precision: 0.9997 - recall: 0.9997 - auc: 1.0000 - f1_score: 0.9997 - val_loss: 0.4069 - val_accuracy: 0.9103 - val_precision: 0.9136 - val_recall: 0.9090 - val_auc: 0.9834 - val_f1_score: 0.9110\n",
      "Epoch 78/100\n",
      "110/110 [==============================] - 21s 190ms/step - loss: 0.0011 - accuracy: 0.9999 - precision: 0.9999 - recall: 0.9999 - auc: 1.0000 - f1_score: 0.9999 - val_loss: 0.4070 - val_accuracy: 0.9103 - val_precision: 0.9136 - val_recall: 0.9090 - val_auc: 0.9834 - val_f1_score: 0.9111\n",
      "Epoch 79/100\n",
      "110/110 [==============================] - 22s 198ms/step - loss: 0.0011 - accuracy: 0.9999 - precision: 0.9999 - recall: 0.9999 - auc: 1.0000 - f1_score: 0.9999 - val_loss: 0.4074 - val_accuracy: 0.9103 - val_precision: 0.9136 - val_recall: 0.9090 - val_auc: 0.9834 - val_f1_score: 0.9113\n",
      "Epoch 80/100\n",
      "110/110 [==============================] - ETA: 0s - loss: 0.0011 - accuracy: 0.9999 - precision: 0.9999 - recall: 0.9999 - auc: 1.0000 - f1_score: 0.9999>saved snapshot snapshot_model_4.h5, epoch 79\n",
      "110/110 [==============================] - 26s 239ms/step - loss: 0.0011 - accuracy: 0.9999 - precision: 0.9999 - recall: 0.9999 - auc: 1.0000 - f1_score: 0.9999 - val_loss: 0.4074 - val_accuracy: 0.9103 - val_precision: 0.9136 - val_recall: 0.9090 - val_auc: 0.9834 - val_f1_score: 0.9113\n",
      "Epoch 81/100\n",
      "110/110 [==============================] - 21s 192ms/step - loss: 0.0016 - accuracy: 0.9997 - precision: 0.9997 - recall: 0.9997 - auc: 1.0000 - f1_score: 0.9997 - val_loss: 0.4652 - val_accuracy: 0.9013 - val_precision: 0.9044 - val_recall: 0.8987 - val_auc: 0.9803 - val_f1_score: 0.9013\n",
      "Epoch 82/100\n",
      "110/110 [==============================] - 22s 198ms/step - loss: 0.0016 - accuracy: 0.9996 - precision: 0.9996 - recall: 0.9996 - auc: 1.0000 - f1_score: 0.9996 - val_loss: 0.4302 - val_accuracy: 0.9093 - val_precision: 0.9141 - val_recall: 0.9080 - val_auc: 0.9823 - val_f1_score: 0.9111\n",
      "Epoch 83/100\n",
      "110/110 [==============================] - 27s 242ms/step - loss: 0.0011 - accuracy: 0.9997 - precision: 0.9997 - recall: 0.9996 - auc: 1.0000 - f1_score: 0.9996 - val_loss: 0.4241 - val_accuracy: 0.9090 - val_precision: 0.9114 - val_recall: 0.9083 - val_auc: 0.9829 - val_f1_score: 0.9099\n",
      "Epoch 84/100\n",
      "110/110 [==============================] - 21s 191ms/step - loss: 0.0010 - accuracy: 0.9997 - precision: 0.9997 - recall: 0.9997 - auc: 1.0000 - f1_score: 0.9997 - val_loss: 0.4284 - val_accuracy: 0.9120 - val_precision: 0.9144 - val_recall: 0.9113 - val_auc: 0.9817 - val_f1_score: 0.9129\n",
      "Epoch 85/100\n",
      "110/110 [==============================] - 26s 236ms/step - loss: 9.0642e-04 - accuracy: 0.9999 - precision: 0.9999 - recall: 0.9999 - auc: 1.0000 - f1_score: 0.9999 - val_loss: 0.4416 - val_accuracy: 0.9120 - val_precision: 0.9133 - val_recall: 0.9097 - val_auc: 0.9815 - val_f1_score: 0.9116\n",
      "Epoch 86/100\n",
      "110/110 [==============================] - 22s 198ms/step - loss: 0.0012 - accuracy: 0.9996 - precision: 0.9996 - recall: 0.9996 - auc: 1.0000 - f1_score: 0.9996 - val_loss: 0.4445 - val_accuracy: 0.9073 - val_precision: 0.9096 - val_recall: 0.9060 - val_auc: 0.9814 - val_f1_score: 0.9079\n",
      "Epoch 87/100\n",
      "110/110 [==============================] - 21s 192ms/step - loss: 0.0043 - accuracy: 0.9989 - precision: 0.9989 - recall: 0.9989 - auc: 0.9999 - f1_score: 0.9989 - val_loss: 0.4456 - val_accuracy: 0.9017 - val_precision: 0.9052 - val_recall: 0.8980 - val_auc: 0.9833 - val_f1_score: 0.9017\n",
      "Epoch 88/100\n",
      "110/110 [==============================] - 22s 200ms/step - loss: 0.0147 - accuracy: 0.9951 - precision: 0.9951 - recall: 0.9949 - auc: 1.0000 - f1_score: 0.9950 - val_loss: 0.5241 - val_accuracy: 0.8830 - val_precision: 0.8870 - val_recall: 0.8813 - val_auc: 0.9794 - val_f1_score: 0.8840\n",
      "Epoch 89/100\n",
      "110/110 [==============================] - 25s 223ms/step - loss: 0.0143 - accuracy: 0.9967 - precision: 0.9967 - recall: 0.9966 - auc: 0.9999 - f1_score: 0.9967 - val_loss: 0.5190 - val_accuracy: 0.8873 - val_precision: 0.8901 - val_recall: 0.8853 - val_auc: 0.9788 - val_f1_score: 0.8876\n",
      "Epoch 90/100\n",
      "110/110 [==============================] - 26s 236ms/step - loss: 0.0080 - accuracy: 0.9979 - precision: 0.9979 - recall: 0.9979 - auc: 0.9999 - f1_score: 0.9976 - val_loss: 0.4455 - val_accuracy: 0.8983 - val_precision: 0.9017 - val_recall: 0.8963 - val_auc: 0.9827 - val_f1_score: 0.8990\n",
      "Epoch 91/100\n",
      "110/110 [==============================] - 26s 234ms/step - loss: 0.0013 - accuracy: 0.9997 - precision: 0.9997 - recall: 0.9997 - auc: 1.0000 - f1_score: 0.9997 - val_loss: 0.4515 - val_accuracy: 0.9047 - val_precision: 0.9069 - val_recall: 0.9027 - val_auc: 0.9812 - val_f1_score: 0.9048\n",
      "Epoch 92/100\n",
      "110/110 [==============================] - 22s 197ms/step - loss: 8.9362e-04 - accuracy: 0.9997 - precision: 0.9997 - recall: 0.9997 - auc: 1.0000 - f1_score: 0.9997 - val_loss: 0.4575 - val_accuracy: 0.9037 - val_precision: 0.9081 - val_recall: 0.9027 - val_auc: 0.9808 - val_f1_score: 0.9052\n",
      "Epoch 93/100\n",
      "110/110 [==============================] - 22s 202ms/step - loss: 8.1810e-04 - accuracy: 0.9997 - precision: 0.9999 - recall: 0.9997 - auc: 1.0000 - f1_score: 0.9998 - val_loss: 0.4585 - val_accuracy: 0.9047 - val_precision: 0.9091 - val_recall: 0.9033 - val_auc: 0.9806 - val_f1_score: 0.9063\n",
      "Epoch 94/100\n",
      "110/110 [==============================] - 21s 194ms/step - loss: 7.6627e-04 - accuracy: 0.9997 - precision: 0.9999 - recall: 0.9997 - auc: 1.0000 - f1_score: 0.9998 - val_loss: 0.4615 - val_accuracy: 0.9037 - val_precision: 0.9081 - val_recall: 0.9023 - val_auc: 0.9804 - val_f1_score: 0.9049\n",
      "Epoch 95/100\n",
      "110/110 [==============================] - 22s 200ms/step - loss: 7.3653e-04 - accuracy: 0.9999 - precision: 0.9999 - recall: 0.9999 - auc: 1.0000 - f1_score: 0.9999 - val_loss: 0.4621 - val_accuracy: 0.9053 - val_precision: 0.9094 - val_recall: 0.9037 - val_auc: 0.9806 - val_f1_score: 0.9065\n",
      "Epoch 96/100\n",
      "110/110 [==============================] - 21s 195ms/step - loss: 7.1889e-04 - accuracy: 0.9999 - precision: 0.9999 - recall: 0.9999 - auc: 1.0000 - f1_score: 0.9999 - val_loss: 0.4630 - val_accuracy: 0.9060 - val_precision: 0.9095 - val_recall: 0.9050 - val_auc: 0.9803 - val_f1_score: 0.9072\n",
      "Epoch 97/100\n",
      "110/110 [==============================] - 26s 237ms/step - loss: 6.9674e-04 - accuracy: 0.9999 - precision: 0.9999 - recall: 0.9999 - auc: 1.0000 - f1_score: 0.9999 - val_loss: 0.4633 - val_accuracy: 0.9060 - val_precision: 0.9099 - val_recall: 0.9050 - val_auc: 0.9808 - val_f1_score: 0.9072\n",
      "Epoch 98/100\n",
      "110/110 [==============================] - 26s 234ms/step - loss: 6.8615e-04 - accuracy: 0.9999 - precision: 0.9999 - recall: 0.9999 - auc: 1.0000 - f1_score: 0.9999 - val_loss: 0.4636 - val_accuracy: 0.9060 - val_precision: 0.9098 - val_recall: 0.9047 - val_auc: 0.9806 - val_f1_score: 0.9072\n",
      "Epoch 99/100\n",
      "110/110 [==============================] - 26s 233ms/step - loss: 6.7982e-04 - accuracy: 0.9999 - precision: 0.9999 - recall: 0.9999 - auc: 1.0000 - f1_score: 0.9999 - val_loss: 0.4637 - val_accuracy: 0.9053 - val_precision: 0.9095 - val_recall: 0.9043 - val_auc: 0.9806 - val_f1_score: 0.9067\n",
      "Epoch 100/100\n",
      "110/110 [==============================] - ETA: 0s - loss: 6.7579e-04 - accuracy: 0.9999 - precision: 0.9999 - recall: 0.9999 - auc: 1.0000 - f1_score: 0.9999>saved snapshot snapshot_model_5.h5, epoch 99\n",
      "110/110 [==============================] - 26s 239ms/step - loss: 6.7579e-04 - accuracy: 0.9999 - precision: 0.9999 - recall: 0.9999 - auc: 1.0000 - f1_score: 0.9999 - val_loss: 0.4638 - val_accuracy: 0.9053 - val_precision: 0.9095 - val_recall: 0.9047 - val_auc: 0.9806 - val_f1_score: 0.9070\n"
     ]
    }
   ],
   "source": [
    "n_epochs = 100\n",
    "n_cycles = n_epochs / 20\n",
    "ca = SnapshotEnsemble(n_epochs, n_cycles, 0.001)\n",
    "\n",
    "history = model.fit(train_dataset,\n",
    "                    epochs = n_epochs,\n",
    "                    validation_data = validation_dataset,\n",
    "                    verbose = 1,\n",
    "                    callbacks=[ca],\n",
    "                    shuffle = True)"
   ]
  },
  {
   "cell_type": "code",
   "execution_count": 11,
   "id": "5afb4e42",
   "metadata": {
    "colab": {
     "base_uri": "https://localhost:8080/",
     "height": 351
    },
    "executionInfo": {
     "elapsed": 59,
     "status": "ok",
     "timestamp": 1676452875106,
     "user": {
      "displayName": "Joint Colab",
      "userId": "04943251974374661202"
     },
     "user_tz": -330
    },
    "id": "5afb4e42",
    "outputId": "85042529-477b-427f-ef00-4e3f89019eb3"
   },
   "outputs": [
    {
     "data": {
      "image/png": "[encoded data removed]",
      "text/plain": [
       "<Figure size 1440x360 with 6 Axes>"
      ]
     },
     "metadata": {
      "needs_background": "light"
     },
     "output_type": "display_data"
    }
   ],
   "source": [
    "#%% PLOTTING RESULTS (Train vs Validation FOLDER 1)\n",
    "\n",
    "def Train_Val_Plot(acc,val_acc,loss,val_loss,auc,val_auc,precision,val_precision,recall,val_recall,f1_score,val_f1_score):\n",
    "    \n",
    "    fig, (ax1,ax2,ax3,ax4,ax5,ax6) = plt.subplots(1,6, figsize= (20,5))\n",
    "    fig.suptitle(\" MODEL'S METRICS VISUALIZATION \")\n",
    "\n",
    "    ax1.plot(range(1, len(acc) + 1), acc)\n",
    "    ax1.plot(range(1, len(val_acc) + 1), val_acc)\n",
    "    ax1.set_title('History of Accuracy')\n",
    "    ax1.set_xlabel('Epochs')\n",
    "    ax1.set_ylabel('Accuracy')\n",
    "    ax1.legend(['training', 'validation'])\n",
    "\n",
    "\n",
    "    ax2.plot(range(1, len(loss) + 1), loss)\n",
    "    ax2.plot(range(1, len(val_loss) + 1), val_loss)\n",
    "    ax2.set_title('History of Loss')\n",
    "    ax2.set_xlabel('Epochs')\n",
    "    ax2.set_ylabel('Loss')\n",
    "    ax2.legend(['training', 'validation'])\n",
    "    \n",
    "    ax3.plot(range(1, len(auc) + 1), auc)\n",
    "    ax3.plot(range(1, len(val_auc) + 1), val_auc)\n",
    "    ax3.set_title('History of AUC')\n",
    "    ax3.set_xlabel('Epochs')\n",
    "    ax3.set_ylabel('AUC')\n",
    "    ax3.legend(['training', 'validation'])\n",
    "    \n",
    "    ax4.plot(range(1, len(precision) + 1), precision)\n",
    "    ax4.plot(range(1, len(val_precision) + 1), val_precision)\n",
    "    ax4.set_title('History of Precision')\n",
    "    ax4.set_xlabel('Epochs')\n",
    "    ax4.set_ylabel('Precision')\n",
    "    ax4.legend(['training', 'validation'])\n",
    "    \n",
    "    ax5.plot(range(1, len(recall) + 1), recall)\n",
    "    ax5.plot(range(1, len(val_recall) + 1), val_recall)\n",
    "    ax5.set_title('History of Recall')\n",
    "    ax5.set_xlabel('Epochs')\n",
    "    ax5.set_ylabel('Recall')\n",
    "    ax5.legend(['training', 'validation'])\n",
    "\n",
    "    ax6.plot(range(1, len(f1_score) + 1), f1_score)\n",
    "    ax6.plot(range(1, len(val_f1_score) + 1), val_f1_score)\n",
    "    ax6.set_title('History of F1 score')\n",
    "    ax6.set_xlabel('Epochs')\n",
    "    ax6.set_ylabel('Recall')\n",
    "    ax6.legend(['training', 'validation'])\n",
    "\n",
    "    plt.show()\n",
    "    \n",
    "\n",
    "Train_Val_Plot(history.history['accuracy'],history.history['val_accuracy'],\n",
    "               history.history['loss'],history.history['val_loss'],\n",
    "               history.history['auc'],history.history['val_auc'],\n",
    "               history.history['precision'],history.history['val_precision'],\n",
    "               history.history['recall'],history.history['val_recall'],\n",
    "               history.history['f1_score'],history.history['val_f1_score']\n",
    "              )"
   ]
  },
  {
   "cell_type": "code",
   "execution_count": 12,
   "id": "e25504c3",
   "metadata": {
    "colab": {
     "base_uri": "https://localhost:8080/"
    },
    "executionInfo": {
     "elapsed": 35,
     "status": "ok",
     "timestamp": 1676452875109,
     "user": {
      "displayName": "Joint Colab",
      "userId": "04943251974374661202"
     },
     "user_tz": -330
    },
    "id": "e25504c3",
    "outputId": "9b638b6a-1f78-4c8a-9b04-9a9f10b08b91"
   },
   "outputs": [
    {
     "data": {
      "text/plain": [
       "<KerasTensor: shape=(None, 1024) dtype=float32 (created by layer 'lambda')>"
      ]
     },
     "execution_count": 12,
     "metadata": {},
     "output_type": "execute_result"
    }
   ],
   "source": [
    "model.layers[-2].output"
   ]
  },
  {
   "cell_type": "markdown",
   "id": "1fa81e10",
   "metadata": {
    "id": "1fa81e10"
   },
   "source": [
    "# Testing"
   ]
  },
  {
   "cell_type": "code",
   "execution_count": 8,
   "id": "ce4175ca",
   "metadata": {
    "colab": {
     "base_uri": "https://localhost:8080/"
    },
    "executionInfo": {
     "elapsed": 1269738,
     "status": "ok",
     "timestamp": 1676454144819,
     "user": {
      "displayName": "Joint Colab",
      "userId": "04943251974374661202"
     },
     "user_tz": -330
    },
    "id": "ce4175ca",
    "outputId": "9dbfcaa9-d980-4182-c3e4-cbc790e912a7"
   },
   "outputs": [
    {
     "ename": "NameError",
     "evalue": "name 'K' is not defined",
     "output_type": "error",
     "traceback": [
      "\u001b[1;31m---------------------------------------------------------------------------\u001b[0m",
      "\u001b[1;31mNameError\u001b[0m                                 Traceback (most recent call last)",
      "\u001b[1;32m~\\AppData\\Local\\Temp/ipykernel_16868/3743136419.py\u001b[0m in \u001b[0;36m<module>\u001b[1;34m\u001b[0m\n\u001b[1;32m----> 1\u001b[1;33m \u001b[0mmodel\u001b[0m \u001b[1;33m=\u001b[0m \u001b[0mK\u001b[0m\u001b[1;33m.\u001b[0m\u001b[0mmodels\u001b[0m\u001b[1;33m.\u001b[0m\u001b[0mload_model\u001b[0m\u001b[1;33m(\u001b[0m\u001b[1;34m\"snapshot_model_1.h5\"\u001b[0m\u001b[1;33m,\u001b[0m \u001b[0mcustom_objects\u001b[0m\u001b[1;33m=\u001b[0m\u001b[1;33m{\u001b[0m\u001b[1;34m\"f1_score\"\u001b[0m\u001b[1;33m:\u001b[0m \u001b[0mf1_score\u001b[0m\u001b[1;33m}\u001b[0m\u001b[1;33m)\u001b[0m\u001b[1;33m\u001b[0m\u001b[1;33m\u001b[0m\u001b[0m\n\u001b[0m\u001b[0;32m      2\u001b[0m \u001b[0mloss\u001b[0m\u001b[1;33m,\u001b[0m \u001b[0maccuracy\u001b[0m\u001b[1;33m,\u001b[0m \u001b[0mprecision\u001b[0m\u001b[1;33m,\u001b[0m \u001b[0mrecall\u001b[0m\u001b[1;33m,\u001b[0m \u001b[0mauc\u001b[0m\u001b[1;33m,\u001b[0m \u001b[0mf1_score\u001b[0m \u001b[1;33m=\u001b[0m \u001b[0mmodel\u001b[0m\u001b[1;33m.\u001b[0m\u001b[0mevaluate\u001b[0m\u001b[1;33m(\u001b[0m\u001b[0mtest_dataset\u001b[0m\u001b[1;33m)\u001b[0m\u001b[1;33m\u001b[0m\u001b[1;33m\u001b[0m\u001b[0m\n\u001b[0;32m      3\u001b[0m \u001b[0mprint\u001b[0m\u001b[1;33m(\u001b[0m\u001b[1;34m\"Testing Loss:\"\u001b[0m\u001b[1;33m)\u001b[0m\u001b[1;33m\u001b[0m\u001b[1;33m\u001b[0m\u001b[0m\n\u001b[0;32m      4\u001b[0m \u001b[0mprint\u001b[0m\u001b[1;33m(\u001b[0m\u001b[0mloss\u001b[0m\u001b[1;33m)\u001b[0m\u001b[1;33m\u001b[0m\u001b[1;33m\u001b[0m\u001b[0m\n\u001b[0;32m      5\u001b[0m \u001b[0mprint\u001b[0m\u001b[1;33m(\u001b[0m\u001b[1;34m\"Testing Accuracy:\"\u001b[0m\u001b[1;33m)\u001b[0m\u001b[1;33m\u001b[0m\u001b[1;33m\u001b[0m\u001b[0m\n",
      "\u001b[1;31mNameError\u001b[0m: name 'K' is not defined"
     ]
    }
   ],
   "source": [
    "model = K.models.load_model(\"snapshot_model_1.h5\", custom_objects={\"f1_score\": f1_score})\n",
    "loss, accuracy, precision, recall, auc, f1_score = model.evaluate(test_dataset)\n",
    "print(\"Testing Loss:\")\n",
    "print(loss)\n",
    "print(\"Testing Accuracy:\")\n",
    "print(accuracy)\n",
    "print(\"Testing Precision:\")\n",
    "print(precision)\n",
    "print(\"Testing Recall:\")\n",
    "print(recall)\n",
    "print(\"Testing F1-Score:\")\n",
    "print(f1_score)\n",
    "print(\"Testing AUC:\")\n",
    "print(auc)"
   ]
  },
  {
   "cell_type": "code",
   "execution_count": 9,
   "id": "2734ae6c",
   "metadata": {
    "colab": {
     "base_uri": "https://localhost:8080/",
     "height": 858
    },
    "executionInfo": {
     "elapsed": 9785,
     "status": "ok",
     "timestamp": 1676454154571,
     "user": {
      "displayName": "Joint Colab",
      "userId": "04943251974374661202"
     },
     "user_tz": -330
    },
    "id": "2734ae6c",
    "outputId": "cd178086-d26d-4493-a2c3-577e7140003d"
   },
   "outputs": [
    {
     "ename": "NameError",
     "evalue": "name 'model' is not defined",
     "output_type": "error",
     "traceback": [
      "\u001b[1;31m---------------------------------------------------------------------------\u001b[0m",
      "\u001b[1;31mNameError\u001b[0m                                 Traceback (most recent call last)",
      "\u001b[1;32m~\\AppData\\Local\\Temp/ipykernel_16868/3580747851.py\u001b[0m in \u001b[0;36m<module>\u001b[1;34m\u001b[0m\n\u001b[1;32m----> 1\u001b[1;33m \u001b[0mY_pred\u001b[0m \u001b[1;33m=\u001b[0m \u001b[0mmodel\u001b[0m\u001b[1;33m.\u001b[0m\u001b[0mpredict_generator\u001b[0m\u001b[1;33m(\u001b[0m\u001b[0mtest_dataset\u001b[0m\u001b[1;33m,\u001b[0m \u001b[1;36m1157\u001b[0m\u001b[1;33m)\u001b[0m\u001b[1;33m\u001b[0m\u001b[1;33m\u001b[0m\u001b[0m\n\u001b[0m\u001b[0;32m      2\u001b[0m \u001b[0my_pred\u001b[0m \u001b[1;33m=\u001b[0m \u001b[0mnp\u001b[0m\u001b[1;33m.\u001b[0m\u001b[0margmax\u001b[0m\u001b[1;33m(\u001b[0m\u001b[0mY_pred\u001b[0m\u001b[1;33m,\u001b[0m \u001b[0maxis\u001b[0m\u001b[1;33m=\u001b[0m\u001b[1;36m1\u001b[0m\u001b[1;33m)\u001b[0m\u001b[1;33m\u001b[0m\u001b[1;33m\u001b[0m\u001b[0m\n\u001b[0;32m      3\u001b[0m \u001b[0mprint\u001b[0m\u001b[1;33m(\u001b[0m\u001b[1;34m'Confusion Matrix'\u001b[0m\u001b[1;33m)\u001b[0m\u001b[1;33m\u001b[0m\u001b[1;33m\u001b[0m\u001b[0m\n\u001b[0;32m      4\u001b[0m \u001b[0mdisp\u001b[0m \u001b[1;33m=\u001b[0m \u001b[0mConfusionMatrixDisplay\u001b[0m\u001b[1;33m(\u001b[0m\u001b[0mconfusion_matrix\u001b[0m\u001b[1;33m(\u001b[0m\u001b[0mtest_dataset\u001b[0m\u001b[1;33m.\u001b[0m\u001b[0mclasses\u001b[0m\u001b[1;33m,\u001b[0m \u001b[0my_pred\u001b[0m\u001b[1;33m)\u001b[0m\u001b[1;33m,\u001b[0m\u001b[0mdisplay_labels\u001b[0m\u001b[1;33m=\u001b[0m\u001b[1;33m[\u001b[0m\u001b[1;34m'1'\u001b[0m\u001b[1;33m,\u001b[0m\u001b[1;34m'2'\u001b[0m\u001b[1;33m,\u001b[0m\u001b[1;34m'3'\u001b[0m\u001b[1;33m,\u001b[0m\u001b[1;34m'4'\u001b[0m\u001b[1;33m,\u001b[0m\u001b[1;34m'5'\u001b[0m\u001b[1;33m,\u001b[0m\u001b[1;34m'6'\u001b[0m\u001b[1;33m,\u001b[0m\u001b[1;34m'7'\u001b[0m\u001b[1;33m,\u001b[0m\u001b[1;34m'8'\u001b[0m\u001b[1;33m,\u001b[0m\u001b[1;34m'9'\u001b[0m\u001b[1;33m,\u001b[0m\u001b[1;34m'10'\u001b[0m\u001b[1;33m,\u001b[0m\u001b[1;34m'11'\u001b[0m\u001b[1;33m,\u001b[0m\u001b[1;34m'12'\u001b[0m\u001b[1;33m,\u001b[0m\u001b[1;34m'13'\u001b[0m\u001b[1;33m,\u001b[0m\u001b[1;34m'14'\u001b[0m\u001b[1;33m,\u001b[0m\u001b[1;34m'15'\u001b[0m\u001b[1;33m,\u001b[0m\u001b[1;34m'16'\u001b[0m\u001b[1;33m,\u001b[0m\u001b[1;34m'17'\u001b[0m\u001b[1;33m,\u001b[0m\u001b[1;34m'18'\u001b[0m\u001b[1;33m,\u001b[0m\u001b[1;34m'19'\u001b[0m\u001b[1;33m,\u001b[0m\u001b[1;34m'20'\u001b[0m\u001b[1;33m]\u001b[0m\u001b[1;33m)\u001b[0m\u001b[1;33m\u001b[0m\u001b[1;33m\u001b[0m\u001b[0m\n\u001b[0;32m      5\u001b[0m \u001b[0mdisp\u001b[0m\u001b[1;33m.\u001b[0m\u001b[0mplot\u001b[0m\u001b[1;33m(\u001b[0m\u001b[1;33m)\u001b[0m\u001b[1;33m\u001b[0m\u001b[1;33m\u001b[0m\u001b[0m\n",
      "\u001b[1;31mNameError\u001b[0m: name 'model' is not defined"
     ]
    }
   ],
   "source": [
    "Y_pred = model.predict_generator(test_dataset, 1157)\n",
    "y_pred = np.argmax(Y_pred, axis=1)\n",
    "print('Confusion Matrix')\n",
    "disp = ConfusionMatrixDisplay(confusion_matrix(test_dataset.classes, y_pred),display_labels=['1','2','3','4','5','6','7','8','9','10','11','12','13','14','15','16','17','18','19','20'])\n",
    "disp.plot()\n",
    "plt.show()\n",
    "print('Classification Report')\n",
    "target_names = ['1','2','3','4','5','6','7','8','9','10','11','12','13','14','15','16','17','18','19','20']\n",
    "print(classification_report(test_dataset.classes, y_pred, target_names=target_names))"
   ]
  },
  {
   "cell_type": "code",
   "execution_count": 17,
   "id": "ac9dad34",
   "metadata": {
    "colab": {
     "base_uri": "https://localhost:8080/"
    },
    "executionInfo": {
     "elapsed": 11461,
     "status": "ok",
     "timestamp": 1676454224105,
     "user": {
      "displayName": "Joint Colab",
      "userId": "04943251974374661202"
     },
     "user_tz": -330
    },
    "id": "ac9dad34",
    "outputId": "12361275-d3d1-4601-8090-df2d57fe8abc"
   },
   "outputs": [
    {
     "name": "stdout",
     "output_type": "stream",
     "text": [
      "32/32 [==============================] - 7s 163ms/step - loss: 0.3941 - accuracy: 0.9075 - precision: 0.9127 - recall: 0.9040 - auc: 0.9851 - f1_score: 0.9073\n",
      "Testing Loss:\n",
      "0.39411917328834534\n",
      "Testing Accuracy:\n",
      "0.9075000286102295\n",
      "Testing Precision:\n",
      "0.912670373916626\n",
      "Testing Recall:\n",
      "0.9039999842643738\n",
      "Testing F1-Score:\n",
      "0.9072608947753906\n",
      "Testing AUC:\n",
      "0.985145628452301\n"
     ]
    }
   ],
   "source": [
    "model = K.models.load_model(\"snapshot_model_2.h5\", custom_objects={\"f1_score\": f1_score})\n",
    "loss, accuracy, precision, recall, auc, f1_score = model.evaluate(test_dataset)\n",
    "print(\"Testing Loss:\")\n",
    "print(loss)\n",
    "print(\"Testing Accuracy:\")\n",
    "print(accuracy)\n",
    "print(\"Testing Precision:\")\n",
    "print(precision)\n",
    "print(\"Testing Recall:\")\n",
    "print(recall)\n",
    "print(\"Testing F1-Score:\")\n",
    "print(f1_score)\n",
    "print(\"Testing AUC:\")\n",
    "print(auc)"
   ]
  },
  {
   "cell_type": "code",
   "execution_count": 18,
   "id": "0bcb1ee7",
   "metadata": {
    "colab": {
     "base_uri": "https://localhost:8080/",
     "height": 858
    },
    "executionInfo": {
     "elapsed": 7149,
     "status": "ok",
     "timestamp": 1676454231222,
     "user": {
      "displayName": "Joint Colab",
      "userId": "04943251974374661202"
     },
     "user_tz": -330
    },
    "id": "0bcb1ee7",
    "outputId": "2d38edd0-f4a2-477b-eeff-04c042fc9039"
   },
   "outputs": [
    {
     "name": "stderr",
     "output_type": "stream",
     "text": [
      "<ipython-input-18-918290b6fc63>:1: UserWarning: `Model.predict_generator` is deprecated and will be removed in a future version. Please use `Model.predict`, which supports generators.\n",
      "  Y_pred = model.predict_generator(test_dataset, 1157)\n",
      "WARNING:tensorflow:Your input ran out of data; interrupting training. Make sure that your dataset or generator can generate at least `steps_per_epoch * epochs` batches (in this case, 1157 batches). You may need to use the repeat() function when building your dataset.\n"
     ]
    },
    {
     "name": "stdout",
     "output_type": "stream",
     "text": [
      "Confusion Matrix\n"
     ]
    },
    {
     "data": {
      "image/png": "[encoded data removed]",
      "text/plain": [
       "<Figure size 432x288 with 2 Axes>"
      ]
     },
     "metadata": {
      "needs_background": "light"
     },
     "output_type": "display_data"
    },
    {
     "name": "stdout",
     "output_type": "stream",
     "text": [
      "Classification Report\n",
      "              precision    recall  f1-score   support\n",
      "\n",
      "           1       0.86      0.84      0.85       100\n",
      "           2       0.79      1.00      0.88       100\n",
      "           3       0.91      0.78      0.84       100\n",
      "           4       0.98      0.88      0.93       100\n",
      "           5       0.90      0.54      0.68       100\n",
      "           6       0.81      0.93      0.87       100\n",
      "           7       1.00      0.99      0.99       100\n",
      "           8       0.96      0.96      0.96       100\n",
      "           9       0.99      0.96      0.97       100\n",
      "          10       1.00      1.00      1.00       100\n",
      "          11       0.77      0.89      0.82       100\n",
      "          12       0.99      0.79      0.88       100\n",
      "          13       0.78      0.93      0.85       100\n",
      "          14       0.92      0.90      0.91       100\n",
      "          15       0.92      0.98      0.95       100\n",
      "          16       0.99      0.92      0.95       100\n",
      "          17       1.00      1.00      1.00       100\n",
      "          18       0.99      0.95      0.97       100\n",
      "          19       0.83      0.95      0.89       100\n",
      "          20       0.92      0.96      0.94       100\n",
      "\n",
      "    accuracy                           0.91      2000\n",
      "   macro avg       0.91      0.91      0.91      2000\n",
      "weighted avg       0.91      0.91      0.91      2000\n",
      "\n"
     ]
    }
   ],
   "source": [
    "Y_pred = model.predict_generator(test_dataset, 1157)\n",
    "y_pred = np.argmax(Y_pred, axis=1)\n",
    "print('Confusion Matrix')\n",
    "disp = ConfusionMatrixDisplay(confusion_matrix(test_dataset.classes, y_pred),display_labels=['1','2','3','4','5','6','7','8','9','10','11','12','13','14','15','16','17','18','19','20'])\n",
    "disp.plot()\n",
    "plt.show()\n",
    "print('Classification Report')\n",
    "target_names = ['1','2','3','4','5','6','7','8','9','10','11','12','13','14','15','16','17','18','19','20']\n",
    "print(classification_report(test_dataset.classes, y_pred, target_names=target_names))"
   ]
  },
  {
   "cell_type": "code",
   "execution_count": 20,
   "id": "a5c0b5c6",
   "metadata": {
    "colab": {
     "base_uri": "https://localhost:8080/"
    },
    "executionInfo": {
     "elapsed": 13082,
     "status": "ok",
     "timestamp": 1676454325751,
     "user": {
      "displayName": "Joint Colab",
      "userId": "04943251974374661202"
     },
     "user_tz": -330
    },
    "id": "a5c0b5c6",
    "outputId": "521585d8-1c04-46a1-dfb2-38c77ab4b79f"
   },
   "outputs": [
    {
     "name": "stdout",
     "output_type": "stream",
     "text": [
      "32/32 [==============================] - 8s 159ms/step - loss: 0.4575 - accuracy: 0.9025 - precision: 0.9072 - recall: 0.8990 - auc: 0.9808 - f1_score: 0.9019\n",
      "Testing Loss:\n",
      "0.4574846923351288\n",
      "Testing Accuracy:\n",
      "0.9024999737739563\n",
      "Testing Precision:\n",
      "0.907164454460144\n",
      "Testing Recall:\n",
      "0.8989999890327454\n",
      "Testing F1-Score:\n",
      "0.9018582105636597\n",
      "Testing AUC:\n",
      "0.9807718396186829\n"
     ]
    }
   ],
   "source": [
    "model = K.models.load_model(\"snapshot_model_3.h5\", custom_objects={\"f1_score\": f1_score})\n",
    "loss, accuracy, precision, recall, auc, f1_score = model.evaluate(test_dataset)\n",
    "print(\"Testing Loss:\")\n",
    "print(loss)\n",
    "print(\"Testing Accuracy:\")\n",
    "print(accuracy)\n",
    "print(\"Testing Precision:\")\n",
    "print(precision)\n",
    "print(\"Testing Recall:\")\n",
    "print(recall)\n",
    "print(\"Testing F1-Score:\")\n",
    "print(f1_score)\n",
    "print(\"Testing AUC:\")\n",
    "print(auc)"
   ]
  },
  {
   "cell_type": "code",
   "execution_count": 21,
   "id": "93f6d8e4",
   "metadata": {
    "colab": {
     "base_uri": "https://localhost:8080/",
     "height": 858
    },
    "executionInfo": {
     "elapsed": 7574,
     "status": "ok",
     "timestamp": 1676454333307,
     "user": {
      "displayName": "Joint Colab",
      "userId": "04943251974374661202"
     },
     "user_tz": -330
    },
    "id": "93f6d8e4",
    "outputId": "1e4c9774-fc62-4d1a-cecf-b5a22412c1a0"
   },
   "outputs": [
    {
     "name": "stderr",
     "output_type": "stream",
     "text": [
      "<ipython-input-21-918290b6fc63>:1: UserWarning: `Model.predict_generator` is deprecated and will be removed in a future version. Please use `Model.predict`, which supports generators.\n",
      "  Y_pred = model.predict_generator(test_dataset, 1157)\n",
      "WARNING:tensorflow:Your input ran out of data; interrupting training. Make sure that your dataset or generator can generate at least `steps_per_epoch * epochs` batches (in this case, 1157 batches). You may need to use the repeat() function when building your dataset.\n"
     ]
    },
    {
     "name": "stdout",
     "output_type": "stream",
     "text": [
      "Confusion Matrix\n"
     ]
    },
    {
     "data": {
      "image/png": "[encoded data removed]",
      "text/plain": [
       "<Figure size 432x288 with 2 Axes>"
      ]
     },
     "metadata": {
      "needs_background": "light"
     },
     "output_type": "display_data"
    },
    {
     "name": "stdout",
     "output_type": "stream",
     "text": [
      "Classification Report\n",
      "              precision    recall  f1-score   support\n",
      "\n",
      "           1       0.85      0.82      0.83       100\n",
      "           2       0.77      1.00      0.87       100\n",
      "           3       0.92      0.78      0.84       100\n",
      "           4       0.98      0.84      0.90       100\n",
      "           5       0.88      0.53      0.66       100\n",
      "           6       0.81      0.93      0.87       100\n",
      "           7       1.00      0.99      0.99       100\n",
      "           8       0.96      0.96      0.96       100\n",
      "           9       0.99      0.96      0.97       100\n",
      "          10       1.00      1.00      1.00       100\n",
      "          11       0.74      0.87      0.80       100\n",
      "          12       0.96      0.79      0.87       100\n",
      "          13       0.76      0.91      0.83       100\n",
      "          14       0.92      0.91      0.91       100\n",
      "          15       0.95      0.98      0.97       100\n",
      "          16       0.99      0.96      0.97       100\n",
      "          17       1.00      1.00      1.00       100\n",
      "          18       0.99      0.93      0.96       100\n",
      "          19       0.84      0.93      0.88       100\n",
      "          20       0.89      0.96      0.92       100\n",
      "\n",
      "    accuracy                           0.90      2000\n",
      "   macro avg       0.91      0.90      0.90      2000\n",
      "weighted avg       0.91      0.90      0.90      2000\n",
      "\n"
     ]
    }
   ],
   "source": [
    "Y_pred = model.predict_generator(test_dataset, 1157)\n",
    "y_pred = np.argmax(Y_pred, axis=1)\n",
    "print('Confusion Matrix')\n",
    "disp = ConfusionMatrixDisplay(confusion_matrix(test_dataset.classes, y_pred),display_labels=['1','2','3','4','5','6','7','8','9','10','11','12','13','14','15','16','17','18','19','20'])\n",
    "disp.plot()\n",
    "plt.show()\n",
    "print('Classification Report')\n",
    "target_names = ['1','2','3','4','5','6','7','8','9','10','11','12','13','14','15','16','17','18','19','20']\n",
    "print(classification_report(test_dataset.classes, y_pred, target_names=target_names))"
   ]
  },
  {
   "cell_type": "code",
   "execution_count": 23,
   "id": "85d99526",
   "metadata": {
    "colab": {
     "base_uri": "https://localhost:8080/"
    },
    "executionInfo": {
     "elapsed": 12242,
     "status": "ok",
     "timestamp": 1676454351954,
     "user": {
      "displayName": "Joint Colab",
      "userId": "04943251974374661202"
     },
     "user_tz": -330
    },
    "id": "85d99526",
    "outputId": "00e2babc-df51-4c5e-bf8d-17d54374acc3"
   },
   "outputs": [
    {
     "name": "stdout",
     "output_type": "stream",
     "text": [
      "32/32 [==============================] - 8s 152ms/step - loss: 0.4871 - accuracy: 0.8990 - precision: 0.9026 - recall: 0.8985 - auc: 0.9794 - f1_score: 0.8997\n",
      "Testing Loss:\n",
      "0.4870776832103729\n",
      "Testing Accuracy:\n",
      "0.8989999890327454\n",
      "Testing Precision:\n",
      "0.9025615453720093\n",
      "Testing Recall:\n",
      "0.8985000252723694\n",
      "Testing F1-Score:\n",
      "0.8997321128845215\n",
      "Testing AUC:\n",
      "0.9793858528137207\n"
     ]
    }
   ],
   "source": [
    "model = K.models.load_model(\"snapshot_model_4.h5\", custom_objects={\"f1_score\": f1_score})\n",
    "loss, accuracy, precision, recall, auc, f1_score = model.evaluate(test_dataset)\n",
    "print(\"Testing Loss:\")\n",
    "print(loss)\n",
    "print(\"Testing Accuracy:\")\n",
    "print(accuracy)\n",
    "print(\"Testing Precision:\")\n",
    "print(precision)\n",
    "print(\"Testing Recall:\")\n",
    "print(recall)\n",
    "print(\"Testing F1-Score:\")\n",
    "print(f1_score)\n",
    "print(\"Testing AUC:\")\n",
    "print(auc)"
   ]
  },
  {
   "cell_type": "code",
   "execution_count": 24,
   "id": "68fb9850",
   "metadata": {
    "colab": {
     "base_uri": "https://localhost:8080/",
     "height": 858
    },
    "executionInfo": {
     "elapsed": 8776,
     "status": "ok",
     "timestamp": 1676454360696,
     "user": {
      "displayName": "Joint Colab",
      "userId": "04943251974374661202"
     },
     "user_tz": -330
    },
    "id": "68fb9850",
    "outputId": "f70ae97d-9142-4bbb-c952-9eb41b87a778"
   },
   "outputs": [
    {
     "name": "stderr",
     "output_type": "stream",
     "text": [
      "<ipython-input-24-918290b6fc63>:1: UserWarning: `Model.predict_generator` is deprecated and will be removed in a future version. Please use `Model.predict`, which supports generators.\n",
      "  Y_pred = model.predict_generator(test_dataset, 1157)\n",
      "WARNING:tensorflow:Your input ran out of data; interrupting training. Make sure that your dataset or generator can generate at least `steps_per_epoch * epochs` batches (in this case, 1157 batches). You may need to use the repeat() function when building your dataset.\n"
     ]
    },
    {
     "name": "stdout",
     "output_type": "stream",
     "text": [
      "Confusion Matrix\n"
     ]
    },
    {
     "data": {
      "image/png": "[encoded data removed]",
      "text/plain": [
       "<Figure size 432x288 with 2 Axes>"
      ]
     },
     "metadata": {
      "needs_background": "light"
     },
     "output_type": "display_data"
    },
    {
     "name": "stdout",
     "output_type": "stream",
     "text": [
      "Classification Report\n",
      "              precision    recall  f1-score   support\n",
      "\n",
      "           1       0.84      0.81      0.83       100\n",
      "           2       0.75      1.00      0.86       100\n",
      "           3       0.90      0.77      0.83       100\n",
      "           4       0.98      0.88      0.93       100\n",
      "           5       0.88      0.49      0.63       100\n",
      "           6       0.80      0.94      0.86       100\n",
      "           7       1.00      0.98      0.99       100\n",
      "           8       0.96      0.95      0.95       100\n",
      "           9       0.98      0.95      0.96       100\n",
      "          10       1.00      1.00      1.00       100\n",
      "          11       0.76      0.88      0.81       100\n",
      "          12       0.94      0.78      0.85       100\n",
      "          13       0.76      0.92      0.83       100\n",
      "          14       0.93      0.91      0.92       100\n",
      "          15       0.91      0.96      0.93       100\n",
      "          16       0.99      0.91      0.95       100\n",
      "          17       0.99      1.00      1.00       100\n",
      "          18       0.99      0.94      0.96       100\n",
      "          19       0.85      0.94      0.90       100\n",
      "          20       0.92      0.97      0.95       100\n",
      "\n",
      "    accuracy                           0.90      2000\n",
      "   macro avg       0.91      0.90      0.90      2000\n",
      "weighted avg       0.91      0.90      0.90      2000\n",
      "\n"
     ]
    }
   ],
   "source": [
    "Y_pred = model.predict_generator(test_dataset, 1157)\n",
    "y_pred = np.argmax(Y_pred, axis=1)\n",
    "print('Confusion Matrix')\n",
    "disp = ConfusionMatrixDisplay(confusion_matrix(test_dataset.classes, y_pred),display_labels=['1','2','3','4','5','6','7','8','9','10','11','12','13','14','15','16','17','18','19','20'])\n",
    "disp.plot()\n",
    "plt.show()\n",
    "print('Classification Report')\n",
    "target_names = ['1','2','3','4','5','6','7','8','9','10','11','12','13','14','15','16','17','18','19','20']\n",
    "print(classification_report(test_dataset.classes, y_pred, target_names=target_names))"
   ]
  },
  {
   "cell_type": "code",
   "execution_count": 26,
   "id": "69fa9463",
   "metadata": {
    "colab": {
     "base_uri": "https://localhost:8080/"
    },
    "executionInfo": {
     "elapsed": 17743,
     "status": "ok",
     "timestamp": 1676454409923,
     "user": {
      "displayName": "Joint Colab",
      "userId": "04943251974374661202"
     },
     "user_tz": -330
    },
    "id": "69fa9463",
    "outputId": "84c5b2d4-5c80-44f4-eec6-2fd80acb61a2"
   },
   "outputs": [
    {
     "name": "stdout",
     "output_type": "stream",
     "text": [
      "32/32 [==============================] - 8s 160ms/step - loss: 0.5258 - accuracy: 0.8980 - precision: 0.9015 - recall: 0.8970 - auc: 0.9773 - f1_score: 0.8987\n",
      "Testing Loss:\n",
      "0.5258017778396606\n",
      "Testing Accuracy:\n",
      "0.8980000019073486\n",
      "Testing Precision:\n",
      "0.901507556438446\n",
      "Testing Recall:\n",
      "0.8970000147819519\n",
      "Testing F1-Score:\n",
      "0.8987026214599609\n",
      "Testing AUC:\n",
      "0.9773344993591309\n"
     ]
    }
   ],
   "source": [
    "model = K.models.load_model(\"snapshot_model_5.h5\", custom_objects={\"f1_score\": f1_score})\n",
    "loss, accuracy, precision, recall, auc, f1_score = model.evaluate(test_dataset)\n",
    "print(\"Testing Loss:\")\n",
    "print(loss)\n",
    "print(\"Testing Accuracy:\")\n",
    "print(accuracy)\n",
    "print(\"Testing Precision:\")\n",
    "print(precision)\n",
    "print(\"Testing Recall:\")\n",
    "print(recall)\n",
    "print(\"Testing F1-Score:\")\n",
    "print(f1_score)\n",
    "print(\"Testing AUC:\")\n",
    "print(auc)"
   ]
  },
  {
   "cell_type": "code",
   "execution_count": 27,
   "id": "2b2cd02a",
   "metadata": {
    "colab": {
     "base_uri": "https://localhost:8080/",
     "height": 858
    },
    "executionInfo": {
     "elapsed": 7925,
     "status": "ok",
     "timestamp": 1676454417814,
     "user": {
      "displayName": "Joint Colab",
      "userId": "04943251974374661202"
     },
     "user_tz": -330
    },
    "id": "2b2cd02a",
    "outputId": "c7bc8944-0df1-4642-eda6-b17094fbe030"
   },
   "outputs": [
    {
     "name": "stderr",
     "output_type": "stream",
     "text": [
      "<ipython-input-27-918290b6fc63>:1: UserWarning: `Model.predict_generator` is deprecated and will be removed in a future version. Please use `Model.predict`, which supports generators.\n",
      "  Y_pred = model.predict_generator(test_dataset, 1157)\n",
      "WARNING:tensorflow:Your input ran out of data; interrupting training. Make sure that your dataset or generator can generate at least `steps_per_epoch * epochs` batches (in this case, 1157 batches). You may need to use the repeat() function when building your dataset.\n"
     ]
    },
    {
     "name": "stdout",
     "output_type": "stream",
     "text": [
      "Confusion Matrix\n"
     ]
    },
    {
     "data": {
      "image/png": "[encoded data removed]",
      "text/plain": [
       "<Figure size 432x288 with 2 Axes>"
      ]
     },
     "metadata": {
      "needs_background": "light"
     },
     "output_type": "display_data"
    },
    {
     "name": "stdout",
     "output_type": "stream",
     "text": [
      "Classification Report\n",
      "              precision    recall  f1-score   support\n",
      "\n",
      "           1       0.86      0.85      0.85       100\n",
      "           2       0.77      0.99      0.87       100\n",
      "           3       0.90      0.75      0.82       100\n",
      "           4       0.98      0.82      0.89       100\n",
      "           5       0.88      0.53      0.66       100\n",
      "           6       0.78      0.94      0.85       100\n",
      "           7       1.00      0.98      0.99       100\n",
      "           8       0.94      0.95      0.95       100\n",
      "           9       0.97      0.95      0.96       100\n",
      "          10       1.00      1.00      1.00       100\n",
      "          11       0.75      0.87      0.81       100\n",
      "          12       0.95      0.76      0.84       100\n",
      "          13       0.76      0.92      0.83       100\n",
      "          14       0.91      0.90      0.90       100\n",
      "          15       0.95      0.97      0.96       100\n",
      "          16       0.99      0.96      0.97       100\n",
      "          17       1.00      1.00      1.00       100\n",
      "          18       1.00      0.92      0.96       100\n",
      "          19       0.84      0.93      0.88       100\n",
      "          20       0.88      0.97      0.92       100\n",
      "\n",
      "    accuracy                           0.90      2000\n",
      "   macro avg       0.91      0.90      0.90      2000\n",
      "weighted avg       0.91      0.90      0.90      2000\n",
      "\n"
     ]
    }
   ],
   "source": [
    "Y_pred = model.predict_generator(test_dataset, 1157)\n",
    "y_pred = np.argmax(Y_pred, axis=1)\n",
    "print('Confusion Matrix')\n",
    "disp = ConfusionMatrixDisplay(confusion_matrix(test_dataset.classes, y_pred),display_labels=['1','2','3','4','5','6','7','8','9','10','11','12','13','14','15','16','17','18','19','20'])\n",
    "disp.plot()\n",
    "plt.show()\n",
    "print('Classification Report')\n",
    "target_names = ['1','2','3','4','5','6','7','8','9','10','11','12','13','14','15','16','17','18','19','20']\n",
    "print(classification_report(test_dataset.classes, y_pred, target_names=target_names))"
   ]
  }
 ],
 "metadata": {
  "accelerator": "GPU",
  "colab": {
   "provenance": []
  },
  "gpuClass": "standard",
  "kernelspec": {
   "display_name": "Python 3 (ipykernel)",
   "language": "python",
   "name": "python3"
  },
  "language_info": {
   "codemirror_mode": {
    "name": "ipython",
    "version": 3
   },
   "file_extension": ".py",
   "mimetype": "text/x-python",
   "name": "python",
   "nbconvert_exporter": "python",
   "pygments_lexer": "ipython3",
   "version": "3.9.7"
  },
  "vscode": {
   "interpreter": {
    "hash": "52634da84371cba311ea128a5ea7cdc41ff074b781779e754b270ff9f8153cee"
   }
  }
 },
 "nbformat": 4,
 "nbformat_minor": 5
}
