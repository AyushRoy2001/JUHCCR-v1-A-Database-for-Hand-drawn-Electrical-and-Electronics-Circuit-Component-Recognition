{
 "cells": [
  {
   "cell_type": "code",
   "execution_count": null,
   "id": "b041422f",
   "metadata": {
    "executionInfo": {
     "elapsed": 14522,
     "status": "ok",
     "timestamp": 1675525959962,
     "user": {
      "displayName": "Ayush Roy",
      "userId": "08989709777079707146"
     },
     "user_tz": -330
    },
    "id": "b041422f"
   },
   "outputs": [],
   "source": [
    "import cv2\n",
    "import numpy as np\n",
    "import pandas as pd\n",
    "import os\n",
    "%matplotlib inline\n",
    "import matplotlib.pyplot as plt\n",
    "import matplotlib.image as mpimg\n",
    "import tensorflow.keras as K\n",
    "import tensorflow.keras.backend as Kback\n",
    "from sklearn.metrics import classification_report, confusion_matrix, ConfusionMatrixDisplay\n",
    "from scipy.fftpack import dct\n",
    "import tensorflow as tf\n",
    "from sklearn.preprocessing import OneHotEncoder"
   ]
  },
  {
   "cell_type": "code",
   "execution_count": null,
   "id": "039b73cc",
   "metadata": {},
   "outputs": [],
   "source": [
    "from sklearn.datasets import make_blobs\n",
    "from keras.utils import to_categorical\n",
    "from keras.models import Sequential\n",
    "from keras.layers import Dense\n",
    "from keras.callbacks import Callback\n",
    "from keras.optimizers import SGD\n",
    "from keras import backend\n",
    "from math import pi\n",
    "from math import cos\n",
    "from math import floor"
   ]
  },
  {
   "cell_type": "markdown",
   "id": "e0856738",
   "metadata": {},
   "source": [
    "# Snapshot Ensemble"
   ]
  },
  {
   "cell_type": "code",
   "execution_count": null,
   "id": "9b143747",
   "metadata": {},
   "outputs": [],
   "source": [
    "# snapshot ensemble with custom learning rate schedule\n",
    "class SnapshotEnsemble(Callback):\n",
    "\t# constructor\n",
    "\tdef __init__(self, n_epochs, n_cycles, lrate_max, verbose=0):\n",
    "\t\tself.epochs = n_epochs\n",
    "\t\tself.cycles = n_cycles\n",
    "\t\tself.lr_max = lrate_max\n",
    "\t\tself.lrates = list()\n",
    "\n",
    "\t# calculate learning rate for epoch\n",
    "\tdef cosine_annealing(self, epoch, n_epochs, n_cycles, lrate_max):\n",
    "\t\tepochs_per_cycle = floor(n_epochs/n_cycles)\n",
    "\t\tcos_inner = (pi * (epoch % epochs_per_cycle)) / (epochs_per_cycle)\n",
    "\t\treturn lrate_max/2 * (cos(cos_inner) + 1)\n",
    "\n",
    "\t# calculate and set learning rate at the start of the epoch\n",
    "\tdef on_epoch_begin(self, epoch, logs={}):\n",
    "\t\t# calculate learning rate\n",
    "\t\tlr = self.cosine_annealing(epoch, self.epochs, self.cycles, self.lr_max)\n",
    "\t\t# set learning rate\n",
    "\t\tbackend.set_value(self.model.optimizer.lr, lr)\n",
    "\t\t# log value\n",
    "\t\tself.lrates.append(lr)\n",
    "\n",
    "\t# save models at the end of each cycle\n",
    "\tdef on_epoch_end(self, epoch, logs={}):\n",
    "\t\t# check if we can save model\n",
    "\t\tepochs_per_cycle = floor(self.epochs / self.cycles)\n",
    "\t\tif epoch != 0 and (epoch + 1) % epochs_per_cycle == 0:\n",
    "\t\t\t# save model to file\n",
    "\t\t\tfilename = \"snapshot_model_%d.h5\" % int((epoch + 1) / epochs_per_cycle)\n",
    "\t\t\tself.model.save(filename)\n",
    "\t\t\tprint('>saved snapshot %s, epoch %d' % (filename, epoch))"
   ]
  },
  {
   "cell_type": "markdown",
   "id": "835ef538",
   "metadata": {
    "id": "835ef538"
   },
   "source": [
    "# Load dataset"
   ]
  },
  {
   "cell_type": "code",
   "execution_count": null,
   "id": "b8e9bbfe",
   "metadata": {},
   "outputs": [],
   "source": [
    "train_datagen = K.preprocessing.image.ImageDataGenerator(rescale = 1./255, validation_split = 0.3)   \n",
    "\n",
    "train_dataset  = train_datagen.flow_from_directory(directory = 'D:/RESEARCH/Circuit component recognition/train',\n",
    "                                                   target_size = (160,160),\n",
    "                                                   class_mode = 'categorical',\n",
    "                                                   subset = 'training',\n",
    "                                                   shuffle=True,\n",
    "                                                   batch_size = 64)\n",
    "validation_dataset  = train_datagen.flow_from_directory(directory = 'D:/RESEARCH/Circuit component recognition/train',\n",
    "                                                   target_size = (160,160),\n",
    "                                                   class_mode = 'categorical',\n",
    "                                                   subset = 'validation',\n",
    "                                                   shuffle=True,\n",
    "                                                   batch_size = 64)\n",
    "\n",
    "\n",
    "test_datagen = K.preprocessing.image.ImageDataGenerator(rescale = 1./255)   \n",
    "\n",
    "test_dataset  = test_datagen.flow_from_directory(directory = 'D:/RESEARCH/Circuit component recognition/test',\n",
    "                                                   target_size = (160,160),\n",
    "                                                   class_mode = 'categorical',\n",
    "                                                   subset = 'training',\n",
    "                                                   shuffle=False,\n",
    "                                                   batch_size = 64)"
   ]
  },
  {
   "cell_type": "markdown",
   "id": "a8a99350",
   "metadata": {
    "id": "a8a99350"
   },
   "source": [
    "# DenseNet121"
   ]
  },
  {
   "cell_type": "code",
   "execution_count": null,
   "id": "3cfa8d68",
   "metadata": {
    "colab": {
     "base_uri": "https://localhost:8080/"
    },
    "executionInfo": {
     "elapsed": 3849,
     "status": "ok",
     "timestamp": 1675525972032,
     "user": {
      "displayName": "Ayush Roy",
      "userId": "08989709777079707146"
     },
     "user_tz": -330
    },
    "id": "3cfa8d68",
    "outputId": "87e09802-d676-4196-cdb1-d679a43f9eed"
   },
   "outputs": [],
   "source": [
    "input_layer = K.Input(shape=(160,160,3))\n",
    "effnet_model = K.applications.DenseNet121(include_top = False, weights = \"imagenet\", input_tensor = input_layer)\n",
    "for layer in effnet_model.layers:\n",
    "    layer.trainable = False\n",
    "for i, layer in enumerate(effnet_model.layers):\n",
    "    print(i, layer.name, \"-\", layer.trainable)"
   ]
  },
  {
   "cell_type": "markdown",
   "id": "269bd5f3",
   "metadata": {},
   "source": [
    "# CBAM "
   ]
  },
  {
   "cell_type": "code",
   "execution_count": null,
   "id": "6f787a3b",
   "metadata": {},
   "outputs": [],
   "source": [
    "def channel_attention_module(x, ratio=8):\n",
    "    batch, _, _, channel = x.shape\n",
    "    ## Shared layers\n",
    "    l1 = K.layers.Dense(channel//ratio, activation=\"relu\", use_bias=False)\n",
    "    l2 = K.layers.Dense(channel, use_bias=False)\n",
    "    ## Global Average Pooling\n",
    "    x1 = K.layers.GlobalAveragePooling2D()(x)\n",
    "    x1 = l1(x1)\n",
    "    x1 = l2(x1)\n",
    "    ## Global Max Pooling\n",
    "    x2 = K.layers.GlobalMaxPooling2D()(x)\n",
    "    x2 = l1(x2)\n",
    "    x2 = l2(x2)\n",
    "    ## Add both the features and pass through sigmoid\n",
    "    feats = x1 + x2\n",
    "    feats = K.layers.Activation(\"sigmoid\")(feats)\n",
    "    feats = K.layers.Multiply()([x, feats])\n",
    "\n",
    "    return feats\n",
    "\n",
    "def spatial_attention_module(x):\n",
    "    ## Average Pooling\n",
    "    x1 = tf.reduce_mean(x, axis=-1)\n",
    "    x1 = tf.expand_dims(x1, axis=-1)\n",
    "    ## Max Pooling\n",
    "    x2 = tf.reduce_max(x, axis=-1)\n",
    "    x2 = tf.expand_dims(x2, axis=-1)\n",
    "    ## Concatenat both the features\n",
    "    feats = K.layers.Concatenate()([x1, x2])\n",
    "    ## Conv layer\n",
    "    feats = K.layers.Conv2D(1, kernel_size=7, padding=\"same\", activation=\"sigmoid\")(feats)\n",
    "    feats = K.layers.Multiply()([x, feats])\n",
    "\n",
    "    return feats\n",
    "\n",
    "def cbam(x):\n",
    "    x = channel_attention_module(x)\n",
    "    x = spatial_attention_module(x)\n",
    "    return x"
   ]
  },
  {
   "cell_type": "code",
   "execution_count": null,
   "id": "6448199a",
   "metadata": {
    "executionInfo": {
     "elapsed": 9,
     "status": "ok",
     "timestamp": 1675525973290,
     "user": {
      "displayName": "Ayush Roy",
      "userId": "08989709777079707146"
     },
     "user_tz": -330
    },
    "id": "6448199a"
   },
   "outputs": [],
   "source": [
    "def f1_score(y_true, y_pred): #taken from old keras source code\n",
    "    true_positives = Kback.sum(Kback.round(Kback.clip(y_true * y_pred, 0, 1)))\n",
    "    possible_positives = Kback.sum(Kback.round(Kback.clip(y_true, 0, 1)))\n",
    "    predicted_positives = Kback.sum(Kback.round(Kback.clip(y_pred, 0, 1)))\n",
    "    precision = true_positives / (predicted_positives + Kback.epsilon())\n",
    "    recall = true_positives / (possible_positives + Kback.epsilon())\n",
    "    f1_val = 2*(precision*recall)/(precision+recall+Kback.epsilon())\n",
    "    return f1_val\n",
    "\n",
    "METRICS = [\n",
    "      \"accuracy\",\n",
    "      K.metrics.Precision(name='precision'),\n",
    "      K.metrics.Recall(name='recall'),\n",
    "      K.metrics.AUC(name='auc'),\n",
    "      f1_score\n",
    "]"
   ]
  },
  {
   "cell_type": "code",
   "execution_count": null,
   "id": "73b41be7",
   "metadata": {
    "colab": {
     "base_uri": "https://localhost:8080/"
    },
    "executionInfo": {
     "elapsed": 2039,
     "status": "ok",
     "timestamp": 1675505876469,
     "user": {
      "displayName": "Ayush Roy",
      "userId": "08989709777079707146"
     },
     "user_tz": -330
    },
    "id": "73b41be7",
    "outputId": "5de4aff7-8a5a-40c9-d40f-be7c698e9dc7"
   },
   "outputs": [],
   "source": [
    "def fft_2d(feature_map):\n",
    "    feature_map = tf.cast(feature_map, tf.complex64)\n",
    "    X1 = tf.signal.fft2d(feature_map)\n",
    "    X1 = tf.abs(X1)\n",
    "    return X1 \n",
    "\n",
    "inputs = K.layers.Input(shape=(160,160,3), name=\"image\") \n",
    "\n",
    "resnet50 = effnet_model(inputs)\n",
    "cbam_lay = cbam(resnet50)\n",
    "fft_layer = fft_2d(cbam_lay)\n",
    "flat = K.layers.GlobalAveragePooling2D()(fft_layer)\n",
    "output = K.layers.Dense(20, activation='softmax')(flat)\n",
    "\n",
    "model = K.Model(inputs=inputs, outputs=output)\n",
    "optimizer = K.optimizers.Adam(lr=0.001, beta_1=0.9, beta_2=0.999, clipnorm=1.0)\n",
    "model.compile(loss=[\"categorical_crossentropy\"], metrics=METRICS, optimizer = optimizer)\n",
    "model.summary()"
   ]
  },
  {
   "cell_type": "markdown",
   "id": "88aece6c",
   "metadata": {
    "id": "88aece6c"
   },
   "source": [
    "# Training"
   ]
  },
  {
   "cell_type": "code",
   "execution_count": null,
   "id": "3d545613",
   "metadata": {
    "colab": {
     "base_uri": "https://localhost:8080/"
    },
    "id": "3d545613",
    "outputId": "80f3bd44-a3f1-444d-aa00-3755d0ea4a19"
   },
   "outputs": [],
   "source": [
    "n_epochs = 100\n",
    "n_cycles = n_epochs / 20\n",
    "ca = SnapshotEnsemble(n_epochs, n_cycles, 0.001)\n",
    "\n",
    "history = model.fit(train_dataset,\n",
    "                    epochs = n_epochs,\n",
    "                    validation_data = validation_dataset,\n",
    "                    verbose = 1,\n",
    "                    callbacks=[ca],\n",
    "                    shuffle = True)"
   ]
  },
  {
   "cell_type": "code",
   "execution_count": null,
   "id": "5afb4e42",
   "metadata": {
    "id": "5afb4e42"
   },
   "outputs": [],
   "source": [
    "#%% PLOTTING RESULTS (Train vs Validation FOLDER 1)\n",
    "\n",
    "def Train_Val_Plot(acc,val_acc,loss,val_loss,auc,val_auc,precision,val_precision,recall,val_recall,f1_score,val_f1_score):\n",
    "    \n",
    "    fig, (ax1,ax2,ax3,ax4,ax5,ax6) = plt.subplots(1,6, figsize= (20,5))\n",
    "    fig.suptitle(\" MODEL'S METRICS VISUALIZATION \")\n",
    "\n",
    "    ax1.plot(range(1, len(acc) + 1), acc)\n",
    "    ax1.plot(range(1, len(val_acc) + 1), val_acc)\n",
    "    ax1.set_title('History of Accuracy')\n",
    "    ax1.set_xlabel('Epochs')\n",
    "    ax1.set_ylabel('Accuracy')\n",
    "    ax1.legend(['training', 'validation'])\n",
    "\n",
    "\n",
    "    ax2.plot(range(1, len(loss) + 1), loss)\n",
    "    ax2.plot(range(1, len(val_loss) + 1), val_loss)\n",
    "    ax2.set_title('History of Loss')\n",
    "    ax2.set_xlabel('Epochs')\n",
    "    ax2.set_ylabel('Loss')\n",
    "    ax2.legend(['training', 'validation'])\n",
    "    \n",
    "    ax3.plot(range(1, len(auc) + 1), auc)\n",
    "    ax3.plot(range(1, len(val_auc) + 1), val_auc)\n",
    "    ax3.set_title('History of AUC')\n",
    "    ax3.set_xlabel('Epochs')\n",
    "    ax3.set_ylabel('AUC')\n",
    "    ax3.legend(['training', 'validation'])\n",
    "    \n",
    "    ax4.plot(range(1, len(precision) + 1), precision)\n",
    "    ax4.plot(range(1, len(val_precision) + 1), val_precision)\n",
    "    ax4.set_title('History of Precision')\n",
    "    ax4.set_xlabel('Epochs')\n",
    "    ax4.set_ylabel('Precision')\n",
    "    ax4.legend(['training', 'validation'])\n",
    "    \n",
    "    ax5.plot(range(1, len(recall) + 1), recall)\n",
    "    ax5.plot(range(1, len(val_recall) + 1), val_recall)\n",
    "    ax5.set_title('History of Recall')\n",
    "    ax5.set_xlabel('Epochs')\n",
    "    ax5.set_ylabel('Recall')\n",
    "    ax5.legend(['training', 'validation'])\n",
    "\n",
    "    ax6.plot(range(1, len(f1_score) + 1), f1_score)\n",
    "    ax6.plot(range(1, len(val_f1_score) + 1), val_f1_score)\n",
    "    ax6.set_title('History of F1 score')\n",
    "    ax6.set_xlabel('Epochs')\n",
    "    ax6.set_ylabel('Recall')\n",
    "    ax6.legend(['training', 'validation'])\n",
    "\n",
    "    plt.show()\n",
    "    \n",
    "\n",
    "Train_Val_Plot(history.history['accuracy'],history.history['val_accuracy'],\n",
    "               history.history['loss'],history.history['val_loss'],\n",
    "               history.history['auc'],history.history['val_auc'],\n",
    "               history.history['precision'],history.history['val_precision'],\n",
    "               history.history['recall'],history.history['val_recall'],\n",
    "               history.history['f1_score'],history.history['val_f1_score']\n",
    "              )"
   ]
  },
  {
   "cell_type": "code",
   "execution_count": null,
   "id": "e25504c3",
   "metadata": {},
   "outputs": [],
   "source": [
    "model.layers[-2].output"
   ]
  },
  {
   "cell_type": "markdown",
   "id": "1fa81e10",
   "metadata": {
    "id": "1fa81e10"
   },
   "source": [
    "# Testing"
   ]
  },
  {
   "cell_type": "code",
   "execution_count": null,
   "id": "ce4175ca",
   "metadata": {
    "colab": {
     "base_uri": "https://localhost:8080/"
    },
    "executionInfo": {
     "elapsed": 484882,
     "status": "ok",
     "timestamp": 1675526508183,
     "user": {
      "displayName": "Ayush Roy",
      "userId": "08989709777079707146"
     },
     "user_tz": -330
    },
    "id": "ce4175ca",
    "outputId": "ac6f3ff5-ac03-420e-f9d1-d7acfa700f12"
   },
   "outputs": [],
   "source": [
    "model = K.models.load_model(\"snapshot_model_1.h5\", custom_objects={\"f1_score\": f1_score})\n",
    "loss, accuracy, precision, recall, auc, f1_score = model.evaluate(test_dataset)\n",
    "print(\"Testing Loss:\")\n",
    "print(loss)\n",
    "print(\"Testing Accuracy:\")\n",
    "print(accuracy)\n",
    "print(\"Testing Precision:\")\n",
    "print(precision)\n",
    "print(\"Testing Recall:\")\n",
    "print(recall)\n",
    "print(\"Testing F1-Score:\")\n",
    "print(f1_score)\n",
    "print(\"Testing AUC:\")\n",
    "print(auc)"
   ]
  },
  {
   "cell_type": "code",
   "execution_count": null,
   "id": "2734ae6c",
   "metadata": {
    "colab": {
     "base_uri": "https://localhost:8080/",
     "height": 854
    },
    "executionInfo": {
     "elapsed": 152341,
     "status": "ok",
     "timestamp": 1675526660494,
     "user": {
      "displayName": "Ayush Roy",
      "userId": "08989709777079707146"
     },
     "user_tz": -330
    },
    "id": "2734ae6c",
    "outputId": "b10c03aa-9d85-47d0-ae47-a5b4edbfb90b"
   },
   "outputs": [],
   "source": [
    "Y_pred = model.predict_generator(test_dataset, 1157)\n",
    "y_pred = np.argmax(Y_pred, axis=1)\n",
    "print('Confusion Matrix')\n",
    "disp = ConfusionMatrixDisplay(confusion_matrix(test_dataset.classes, y_pred),display_labels=['1','2','3','4','5','6','7','8','9','10','11','12','13','14','15','16','17','18','19','20'])\n",
    "disp.plot()\n",
    "plt.show()\n",
    "print('Classification Report')\n",
    "target_names = ['1','2','3','4','5','6','7','8','9','10','11','12','13','14','15','16','17','18','19','20']\n",
    "print(classification_report(test_dataset.classes, y_pred, target_names=target_names))"
   ]
  },
  {
   "cell_type": "code",
   "execution_count": null,
   "id": "ac9dad34",
   "metadata": {},
   "outputs": [],
   "source": [
    "model = K.models.load_model(\"snapshot_model_2.h5\", custom_objects={\"f1_score\": f1_score})\n",
    "loss, accuracy, precision, recall, auc, f1_score = model.evaluate(test_dataset)\n",
    "print(\"Testing Loss:\")\n",
    "print(loss)\n",
    "print(\"Testing Accuracy:\")\n",
    "print(accuracy)\n",
    "print(\"Testing Precision:\")\n",
    "print(precision)\n",
    "print(\"Testing Recall:\")\n",
    "print(recall)\n",
    "print(\"Testing F1-Score:\")\n",
    "print(f1_score)\n",
    "print(\"Testing AUC:\")\n",
    "print(auc)"
   ]
  },
  {
   "cell_type": "code",
   "execution_count": null,
   "id": "0bcb1ee7",
   "metadata": {},
   "outputs": [],
   "source": [
    "Y_pred = model.predict_generator(test_dataset, 1157)\n",
    "y_pred = np.argmax(Y_pred, axis=1)\n",
    "print('Confusion Matrix')\n",
    "disp = ConfusionMatrixDisplay(confusion_matrix(test_dataset.classes, y_pred),display_labels=['1','2','3','4','5','6','7','8','9','10','11','12','13','14','15','16','17','18','19','20'])\n",
    "disp.plot()\n",
    "plt.show()\n",
    "print('Classification Report')\n",
    "target_names = ['1','2','3','4','5','6','7','8','9','10','11','12','13','14','15','16','17','18','19','20']\n",
    "print(classification_report(test_dataset.classes, y_pred, target_names=target_names))"
   ]
  },
  {
   "cell_type": "code",
   "execution_count": null,
   "id": "a5c0b5c6",
   "metadata": {},
   "outputs": [],
   "source": [
    "model = K.models.load_model(\"snapshot_model_3.h5\", custom_objects={\"f1_score\": f1_score})\n",
    "loss, accuracy, precision, recall, auc, f1_score = model.evaluate(test_dataset)\n",
    "print(\"Testing Loss:\")\n",
    "print(loss)\n",
    "print(\"Testing Accuracy:\")\n",
    "print(accuracy)\n",
    "print(\"Testing Precision:\")\n",
    "print(precision)\n",
    "print(\"Testing Recall:\")\n",
    "print(recall)\n",
    "print(\"Testing F1-Score:\")\n",
    "print(f1_score)\n",
    "print(\"Testing AUC:\")\n",
    "print(auc)"
   ]
  },
  {
   "cell_type": "code",
   "execution_count": null,
   "id": "93f6d8e4",
   "metadata": {},
   "outputs": [],
   "source": [
    "Y_pred = model.predict_generator(test_dataset, 1157)\n",
    "y_pred = np.argmax(Y_pred, axis=1)\n",
    "print('Confusion Matrix')\n",
    "disp = ConfusionMatrixDisplay(confusion_matrix(test_dataset.classes, y_pred),display_labels=['1','2','3','4','5','6','7','8','9','10','11','12','13','14','15','16','17','18','19','20'])\n",
    "disp.plot()\n",
    "plt.show()\n",
    "print('Classification Report')\n",
    "target_names = ['1','2','3','4','5','6','7','8','9','10','11','12','13','14','15','16','17','18','19','20']\n",
    "print(classification_report(test_dataset.classes, y_pred, target_names=target_names))"
   ]
  },
  {
   "cell_type": "code",
   "execution_count": null,
   "id": "85d99526",
   "metadata": {},
   "outputs": [],
   "source": [
    "model = K.models.load_model(\"snapshot_model_4.h5\", custom_objects={\"f1_score\": f1_score})\n",
    "loss, accuracy, precision, recall, auc, f1_score = model.evaluate(test_dataset)\n",
    "print(\"Testing Loss:\")\n",
    "print(loss)\n",
    "print(\"Testing Accuracy:\")\n",
    "print(accuracy)\n",
    "print(\"Testing Precision:\")\n",
    "print(precision)\n",
    "print(\"Testing Recall:\")\n",
    "print(recall)\n",
    "print(\"Testing F1-Score:\")\n",
    "print(f1_score)\n",
    "print(\"Testing AUC:\")\n",
    "print(auc)"
   ]
  },
  {
   "cell_type": "code",
   "execution_count": null,
   "id": "68fb9850",
   "metadata": {},
   "outputs": [],
   "source": [
    "Y_pred = model.predict_generator(test_dataset, 1157)\n",
    "y_pred = np.argmax(Y_pred, axis=1)\n",
    "print('Confusion Matrix')\n",
    "disp = ConfusionMatrixDisplay(confusion_matrix(test_dataset.classes, y_pred),display_labels=['1','2','3','4','5','6','7','8','9','10','11','12','13','14','15','16','17','18','19','20'])\n",
    "disp.plot()\n",
    "plt.show()\n",
    "print('Classification Report')\n",
    "target_names = ['1','2','3','4','5','6','7','8','9','10','11','12','13','14','15','16','17','18','19','20']\n",
    "print(classification_report(test_dataset.classes, y_pred, target_names=target_names))"
   ]
  },
  {
   "cell_type": "code",
   "execution_count": null,
   "id": "69fa9463",
   "metadata": {},
   "outputs": [],
   "source": [
    "model = K.models.load_model(\"snapshot_model_5.h5\", custom_objects={\"f1_score\": f1_score})\n",
    "loss, accuracy, precision, recall, auc, f1_score = model.evaluate(test_dataset)\n",
    "print(\"Testing Loss:\")\n",
    "print(loss)\n",
    "print(\"Testing Accuracy:\")\n",
    "print(accuracy)\n",
    "print(\"Testing Precision:\")\n",
    "print(precision)\n",
    "print(\"Testing Recall:\")\n",
    "print(recall)\n",
    "print(\"Testing F1-Score:\")\n",
    "print(f1_score)\n",
    "print(\"Testing AUC:\")\n",
    "print(auc)"
   ]
  },
  {
   "cell_type": "code",
   "execution_count": null,
   "id": "2b2cd02a",
   "metadata": {},
   "outputs": [],
   "source": [
    "Y_pred = model.predict_generator(test_dataset, 1157)\n",
    "y_pred = np.argmax(Y_pred, axis=1)\n",
    "print('Confusion Matrix')\n",
    "disp = ConfusionMatrixDisplay(confusion_matrix(test_dataset.classes, y_pred),display_labels=['1','2','3','4','5','6','7','8','9','10','11','12','13','14','15','16','17','18','19','20'])\n",
    "disp.plot()\n",
    "plt.show()\n",
    "print('Classification Report')\n",
    "target_names = ['1','2','3','4','5','6','7','8','9','10','11','12','13','14','15','16','17','18','19','20']\n",
    "print(classification_report(test_dataset.classes, y_pred, target_names=target_names))"
   ]
  }
 ],
 "metadata": {
  "accelerator": "GPU",
  "colab": {
   "provenance": []
  },
  "gpuClass": "standard",
  "kernelspec": {
   "display_name": "Python 3 (ipykernel)",
   "language": "python",
   "name": "python3"
  },
  "language_info": {
   "codemirror_mode": {
    "name": "ipython",
    "version": 3
   },
   "file_extension": ".py",
   "mimetype": "text/x-python",
   "name": "python",
   "nbconvert_exporter": "python",
   "pygments_lexer": "ipython3",
   "version": "3.9.7"
  },
  "vscode": {
   "interpreter": {
    "hash": "52634da84371cba311ea128a5ea7cdc41ff074b781779e754b270ff9f8153cee"
   }
  }
 },
 "nbformat": 4,
 "nbformat_minor": 5
}
